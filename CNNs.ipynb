{
 "cells": [
  {
   "cell_type": "markdown",
   "metadata": {
    "colab_type": "text",
    "id": "JWiv18K3izti"
   },
   "source": [
    "\n",
    "<h1 align=center><font size = 5>Convolutional Neural Networks with Keras</font></h1>"
   ]
  },
  {
   "cell_type": "markdown",
   "metadata": {
    "colab_type": "text",
    "id": "E_Q-OrDyiztr"
   },
   "source": [
    "In this tutorial, we will learn how to use the Keras library to build convolutional neural networks. We will also use the popular MNIST dataset and we will compare our results to using a conventional neural network. Then, we try a more challenging which is called \"horses or humans\"\n"
   ]
  },
  {
   "cell_type": "markdown",
   "metadata": {
    "colab_type": "text",
    "id": "DdTbHbAKizt0"
   },
   "source": [
    "## Import Keras and Packages\n",
    "\n",
    "---\n",
    "\n"
   ]
  },
  {
   "cell_type": "markdown",
   "metadata": {
    "colab_type": "text",
    "id": "Keh1u20Tizt3"
   },
   "source": [
    "Let's start by importing the keras libraries and the packages that we would need to build a neural network."
   ]
  },
  {
   "cell_type": "code",
   "execution_count": 1,
   "metadata": {
    "colab": {
     "base_uri": "https://localhost:8080/",
     "height": 34
    },
    "colab_type": "code",
    "id": "EZRw687iizt7",
    "outputId": "518977d9-3bdd-4e17-ff0e-d024e8fad551"
   },
   "outputs": [],
   "source": [
    "from tensorflow.keras.models import Sequential\n",
    "from tensorflow.keras.layers import Dense\n",
    "from tensorflow.keras.utils import to_categorical"
   ]
  },
  {
   "cell_type": "markdown",
   "metadata": {
    "colab_type": "text",
    "id": "PsSnQACxizuN"
   },
   "source": [
    "When working with convolutional neural networks in particular, we will need additional packages."
   ]
  },
  {
   "cell_type": "code",
   "execution_count": 2,
   "metadata": {
    "colab": {},
    "colab_type": "code",
    "id": "xGXVzzZSizuQ"
   },
   "outputs": [],
   "source": [
    "from tensorflow.keras.layers import Conv2D # to add convolutional layers\n",
    "from tensorflow.keras.layers import MaxPooling2D # to add pooling layers\n",
    "from tensorflow.keras.layers import Flatten # to flatten data for fully connected layers"
   ]
  },
  {
   "cell_type": "markdown",
   "metadata": {
    "colab_type": "text",
    "id": "l31I58urizud"
   },
   "source": [
    "<a id='item42'></a>"
   ]
  },
  {
   "cell_type": "markdown",
   "metadata": {
    "colab_type": "text",
    "id": "xf3Pe4lIizuf"
   },
   "source": [
    "## Convolutional Layer with One set of convolutional and pooling layers"
   ]
  },
  {
   "cell_type": "code",
   "execution_count": 3,
   "metadata": {
    "colab": {
     "base_uri": "https://localhost:8080/",
     "height": 67
    },
    "colab_type": "code",
    "id": "FCUSqouHizui",
    "outputId": "1ea941c9-264f-443f-a321-44935e877807"
   },
   "outputs": [
    {
     "data": {
      "text/plain": [
       "(60000, 28, 28)"
      ]
     },
     "execution_count": 3,
     "metadata": {},
     "output_type": "execute_result"
    }
   ],
   "source": [
    "# import data\n",
    "from keras.datasets import mnist\n",
    "# load data\n",
    "(X_train, y_train), (X_test, y_test) = mnist.load_data()\n",
    "X_train.shape"
   ]
  },
  {
   "cell_type": "code",
   "execution_count": 4,
   "metadata": {
    "colab": {
     "base_uri": "https://localhost:8080/",
     "height": 50
    },
    "colab_type": "code",
    "id": "dNuF2zcnj3yh",
    "outputId": "008af9bc-903e-4385-dee2-1b84d7fc90d2"
   },
   "outputs": [
    {
     "name": "stdout",
     "output_type": "stream",
     "text": [
      "(28, 28, 1)\n",
      "(60000, 28, 28, 1)\n"
     ]
    }
   ],
   "source": [
    "# reshape to be [samples][pixels][width][height]\n",
    "X_train = X_train.reshape(X_train.shape[0], 28, 28, 1)\n",
    "X_test = X_test.reshape(X_test.shape[0], 28, 28, 1)\n",
    "print(X_train[0].shape)\n",
    "print(X_train.shape)"
   ]
  },
  {
   "cell_type": "markdown",
   "metadata": {
    "colab_type": "text",
    "id": "Z98Sa59Bizuw"
   },
   "source": [
    "Let's normalize the pixel values to be between 0 and 1"
   ]
  },
  {
   "cell_type": "code",
   "execution_count": 5,
   "metadata": {
    "colab": {},
    "colab_type": "code",
    "id": "hOtdFO9mizuy"
   },
   "outputs": [],
   "source": [
    "X_train = X_train / 255 # normalize training data\n",
    "X_test = X_test / 255 # normalize test data"
   ]
  },
  {
   "cell_type": "markdown",
   "metadata": {
    "colab_type": "text",
    "id": "XbChxT4Zizu_"
   },
   "source": [
    "Next, let's convert the target variable into binary categories"
   ]
  },
  {
   "cell_type": "code",
   "execution_count": 6,
   "metadata": {
    "colab": {},
    "colab_type": "code",
    "id": "nagXygHIizvC"
   },
   "outputs": [],
   "source": [
    "y_train = to_categorical(y_train)\n",
    "y_test = to_categorical(y_test)\n",
    "\n",
    "num_classes = y_test.shape[1] # number of categories"
   ]
  },
  {
   "cell_type": "markdown",
   "metadata": {
    "colab_type": "text",
    "id": "fC7R6pmzizvS"
   },
   "source": [
    "Next, let's define a function that creates our model. Let's start with one set of convolutional and pooling layers."
   ]
  },
  {
   "cell_type": "code",
   "execution_count": 7,
   "metadata": {
    "colab": {
     "base_uri": "https://localhost:8080/",
     "height": 319
    },
    "colab_type": "code",
    "id": "U6jUjKy0izvW",
    "outputId": "142e3bd8-4277-4e8a-bdd9-966a40a50354"
   },
   "outputs": [
    {
     "name": "stdout",
     "output_type": "stream",
     "text": [
      "Model: \"sequential\"\n",
      "_________________________________________________________________\n",
      "Layer (type)                 Output Shape              Param #   \n",
      "=================================================================\n",
      "conv2d (Conv2D)              (None, 24, 24, 16)        416       \n",
      "_________________________________________________________________\n",
      "max_pooling2d (MaxPooling2D) (None, 12, 12, 16)        0         \n",
      "_________________________________________________________________\n",
      "flatten (Flatten)            (None, 2304)              0         \n",
      "_________________________________________________________________\n",
      "dense (Dense)                (None, 100)               230500    \n",
      "_________________________________________________________________\n",
      "dense_1 (Dense)              (None, 10)                1010      \n",
      "=================================================================\n",
      "Total params: 231,926\n",
      "Trainable params: 231,926\n",
      "Non-trainable params: 0\n",
      "_________________________________________________________________\n"
     ]
    }
   ],
   "source": [
    "\n",
    "# create model\n",
    "model = Sequential()\n",
    "model.add(Conv2D(filters=16,kernel_size=(5,5),strides=(1,1),activation='relu',input_shape=(28,28,1)))\n",
    "model.add(MaxPooling2D(pool_size=(2, 2), strides=(2, 2)))\n",
    "model.add(Flatten())\n",
    "model.add(Dense(100, activation='relu'))\n",
    "model.add(Dense(num_classes, activation='softmax'))\n",
    "# compile model\n",
    "model.compile(optimizer='adam', loss='categorical_crossentropy',  metrics=['accuracy'])\n",
    "model.summary()\n"
   ]
  },
  {
   "cell_type": "markdown",
   "metadata": {
    "colab_type": "text",
    "id": "MIUZjgPUHSXL"
   },
   "source": [
    "We can also define a sequential model, like this:"
   ]
  },
  {
   "cell_type": "code",
   "execution_count": null,
   "metadata": {
    "colab": {
     "base_uri": "https://localhost:8080/",
     "height": 319
    },
    "colab_type": "code",
    "id": "GxVEiNnIHZGI",
    "outputId": "e66688c8-353c-4bea-f733-2ef3c997b1da"
   },
   "outputs": [
    {
     "name": "stdout",
     "output_type": "stream",
     "text": [
      "Model: \"sequential_11\"\n",
      "_________________________________________________________________\n",
      "Layer (type)                 Output Shape              Param #   \n",
      "=================================================================\n",
      "conv2d_16 (Conv2D)           (None, 24, 24, 16)        416       \n",
      "_________________________________________________________________\n",
      "max_pooling2d_11 (MaxPooling (None, 12, 12, 16)        0         \n",
      "_________________________________________________________________\n",
      "flatten_10 (Flatten)         (None, 2304)              0         \n",
      "_________________________________________________________________\n",
      "dense_18 (Dense)             (None, 100)               230500    \n",
      "_________________________________________________________________\n",
      "dense_19 (Dense)             (None, 10)                1010      \n",
      "=================================================================\n",
      "Total params: 231,926\n",
      "Trainable params: 231,926\n",
      "Non-trainable params: 0\n",
      "_________________________________________________________________\n"
     ]
    }
   ],
   "source": [
    "# create model\n",
    "model=Sequential([\n",
    "                  Conv2D(filters=16,kernel_size=(5,5),strides=(1,1),activation='relu',input_shape=(28,28,1)),\n",
    "                  MaxPooling2D(pool_size=(2, 2), strides=(2, 2)),\n",
    "                  Flatten(),\n",
    "                  Dense(100, activation='relu'),\n",
    "                  Dense(num_classes, activation='softmax')])\n",
    "\n",
    "# compile model\n",
    "model.compile(optimizer='adam', loss='categorical_crossentropy',  metrics=['accuracy'])\n",
    "model.summary()"
   ]
  },
  {
   "cell_type": "markdown",
   "metadata": {
    "colab_type": "text",
    "id": "7THd80fJTG2B"
   },
   "source": [
    "Let's apply padding and see the diffrence:"
   ]
  },
  {
   "cell_type": "code",
   "execution_count": null,
   "metadata": {
    "colab": {
     "base_uri": "https://localhost:8080/",
     "height": 319
    },
    "colab_type": "code",
    "id": "LTRTnEBJTQyc",
    "outputId": "003ca8a8-2f1f-4b79-8e6a-b7a03bc10d2d"
   },
   "outputs": [],
   "source": [
    "\n",
    "# create model\n",
    "model = Sequential()\n",
    "model.add(Conv2D(filters=16,kernel_size=(5,5),padding='same',strides=(1,1),activation='relu',input_shape=(28,28,1)))\n",
    "model.add(MaxPooling2D(pool_size=(2, 2), strides=(2, 2)))\n",
    "model.add(Flatten())\n",
    "model.add(Dense(100, activation='relu'))\n",
    "model.add(Dense(num_classes, activation='softmax'))\n",
    "# compile model\n",
    "model.compile(optimizer='adam', loss='categorical_crossentropy',  metrics=['accuracy'])\n",
    "model.summary()\n"
   ]
  },
  {
   "cell_type": "markdown",
   "metadata": {
    "colab_type": "text",
    "id": "r6K2WMjDI-69"
   },
   "source": [
    "You already know how to apply softmax, tanh, sigmoid, linear and relu as activation of layer by setting:\n",
    "activation='softmax', activation='tanh' , activation='sigmoid', activation='linear', activation='relu'\n",
    "\n",
    "But what if we need to use Leaky Relu or PRelu? can we do it in the same way by setting:\n",
    "activation='leaky relu', activation='PRelu' ?\n",
    "\n",
    "No! \n",
    "\n",
    "So let's see how to do it:"
   ]
  },
  {
   "cell_type": "code",
   "execution_count": null,
   "metadata": {
    "colab": {
     "base_uri": "https://localhost:8080/",
     "height": 386
    },
    "colab_type": "code",
    "id": "EEjptWUYKWNM",
    "outputId": "1c3e2dc4-36ee-4441-e48f-84ed7180ea41"
   },
   "outputs": [
    {
     "name": "stdout",
     "output_type": "stream",
     "text": [
      "Model: \"sequential_3\"\n",
      "_________________________________________________________________\n",
      "Layer (type)                 Output Shape              Param #   \n",
      "=================================================================\n",
      "conv2d_3 (Conv2D)            (None, 24, 24, 16)        416       \n",
      "_________________________________________________________________\n",
      "leaky_re_lu_1 (LeakyReLU)    (None, 24, 24, 16)        0         \n",
      "_________________________________________________________________\n",
      "max_pooling2d_3 (MaxPooling2 (None, 12, 12, 16)        0         \n",
      "_________________________________________________________________\n",
      "flatten_3 (Flatten)          (None, 2304)              0         \n",
      "_________________________________________________________________\n",
      "dense_5 (Dense)              (None, 100)               230500    \n",
      "_________________________________________________________________\n",
      "p_re_lu_1 (PReLU)            (None, 100)               100       \n",
      "_________________________________________________________________\n",
      "dense_6 (Dense)              (None, 10)                1010      \n",
      "=================================================================\n",
      "Total params: 232,026\n",
      "Trainable params: 232,026\n",
      "Non-trainable params: 0\n",
      "_________________________________________________________________\n"
     ]
    }
   ],
   "source": [
    "# create model\n",
    "from keras.layers import LeakyReLU, PReLU\n",
    "\n",
    "model = Sequential()\n",
    "model.add(Conv2D(filters=16,kernel_size=(5,5),strides=(1,1),activation='linear',input_shape=(28,28,1)))\n",
    "model.add(LeakyReLU(alpha=0.3))\n",
    "model.add(MaxPooling2D(pool_size=(2, 2), strides=(2, 2)))\n",
    "model.add(Flatten())\n",
    "model.add(Dense(100, activation='linear'))\n",
    "model.add(PReLU())\n",
    "model.add(Dense(num_classes, activation='softmax'))\n",
    "# compile model\n",
    "model.compile(optimizer='adam', loss='categorical_crossentropy',  metrics=['accuracy'])\n",
    "model.summary()"
   ]
  },
  {
   "cell_type": "markdown",
   "metadata": {
    "colab_type": "text",
    "id": "Js_vfFM_MixI"
   },
   "source": [
    "You heard in this course about Xavier initializing and how it can make an improvement in deep neural networks. Xavier initializer is also known as Glorot normal initializer. Actually, Keras uses Glorot uniform initializer as a default choice. You can see more details about initializers [here](https://keras.io/initializers/)\n"
   ]
  },
  {
   "cell_type": "code",
   "execution_count": null,
   "metadata": {
    "colab": {
     "base_uri": "https://localhost:8080/",
     "height": 386
    },
    "colab_type": "code",
    "id": "zuhurytyM_1F",
    "outputId": "13b34a0b-d9f1-4867-c150-41837a28ed27"
   },
   "outputs": [
    {
     "name": "stdout",
     "output_type": "stream",
     "text": [
      "Model: \"sequential_4\"\n",
      "_________________________________________________________________\n",
      "Layer (type)                 Output Shape              Param #   \n",
      "=================================================================\n",
      "conv2d_4 (Conv2D)            (None, 28, 28, 16)        416       \n",
      "_________________________________________________________________\n",
      "leaky_re_lu_2 (LeakyReLU)    (None, 28, 28, 16)        0         \n",
      "_________________________________________________________________\n",
      "max_pooling2d_4 (MaxPooling2 (None, 14, 14, 16)        0         \n",
      "_________________________________________________________________\n",
      "flatten_4 (Flatten)          (None, 3136)              0         \n",
      "_________________________________________________________________\n",
      "dense_7 (Dense)              (None, 100)               313700    \n",
      "_________________________________________________________________\n",
      "p_re_lu_2 (PReLU)            (None, 100)               100       \n",
      "_________________________________________________________________\n",
      "dense_8 (Dense)              (None, 10)                1010      \n",
      "=================================================================\n",
      "Total params: 315,226\n",
      "Trainable params: 315,226\n",
      "Non-trainable params: 0\n",
      "_________________________________________________________________\n"
     ]
    }
   ],
   "source": [
    "# create model\n",
    "from keras.layers import LeakyReLU, PReLU\n",
    "from keras.initializers import glorot_normal\n",
    "model = Sequential()\n",
    "model.add(Conv2D(filters=16,kernel_size=(5,5),padding='same',strides=(1,1),activation='linear',kernel_initializer=glorot_normal() ,bias_initializer=glorot_normal(),input_shape=(28,28,1)))\n",
    "model.add(LeakyReLU(alpha=0.3))\n",
    "model.add(MaxPooling2D(pool_size=(2, 2), strides=(2, 2)))\n",
    "model.add(Flatten())\n",
    "model.add(Dense(100, activation='linear',kernel_initializer=glorot_normal() ,bias_initializer=glorot_normal()))\n",
    "model.add(PReLU())\n",
    "model.add(Dense(num_classes, activation='softmax',kernel_initializer=glorot_normal(),bias_initializer=glorot_normal()))\n",
    "# compile model\n",
    "model.compile(optimizer='adam', loss='categorical_crossentropy',  metrics=['accuracy'])\n",
    "model.summary()"
   ]
  },
  {
   "cell_type": "markdown",
   "metadata": {
    "colab_type": "text",
    "id": "9_iFGUiEizvi"
   },
   "source": [
    "Finally, let's call the function to create the model, and then let's train it and evaluate it."
   ]
  },
  {
   "cell_type": "code",
   "execution_count": 8,
   "metadata": {
    "colab": {
     "base_uri": "https://localhost:8080/",
     "height": 403
    },
    "colab_type": "code",
    "id": "bDwF2EETizvl",
    "outputId": "ed507cfe-8d17-4d40-83fc-fc4014e5c403"
   },
   "outputs": [
    {
     "name": "stdout",
     "output_type": "stream",
     "text": [
      "Epoch 1/10\n",
      "300/300 [==============================] - 4s 12ms/step - loss: 0.2759 - accuracy: 0.9233 - val_loss: 0.0974 - val_accuracy: 0.9706\n",
      "Epoch 2/10\n",
      "300/300 [==============================] - 3s 11ms/step - loss: 0.0804 - accuracy: 0.9770 - val_loss: 0.0610 - val_accuracy: 0.9809\n",
      "Epoch 3/10\n",
      "300/300 [==============================] - 3s 12ms/step - loss: 0.0553 - accuracy: 0.9841 - val_loss: 0.0503 - val_accuracy: 0.9841\n",
      "Epoch 4/10\n",
      "300/300 [==============================] - 3s 11ms/step - loss: 0.0434 - accuracy: 0.9867 - val_loss: 0.0459 - val_accuracy: 0.9844\n",
      "Epoch 5/10\n",
      "300/300 [==============================] - 3s 12ms/step - loss: 0.0346 - accuracy: 0.9900 - val_loss: 0.0393 - val_accuracy: 0.9869\n",
      "Epoch 6/10\n",
      "300/300 [==============================] - 4s 12ms/step - loss: 0.0283 - accuracy: 0.9913 - val_loss: 0.0407 - val_accuracy: 0.9868\n",
      "Epoch 7/10\n",
      "300/300 [==============================] - 3s 12ms/step - loss: 0.0249 - accuracy: 0.9924 - val_loss: 0.0391 - val_accuracy: 0.9865\n",
      "Epoch 8/10\n",
      "300/300 [==============================] - 4s 12ms/step - loss: 0.0193 - accuracy: 0.9944 - val_loss: 0.0354 - val_accuracy: 0.9879\n",
      "Epoch 9/10\n",
      "300/300 [==============================] - 4s 12ms/step - loss: 0.0153 - accuracy: 0.9957 - val_loss: 0.0375 - val_accuracy: 0.9874\n",
      "Epoch 10/10\n",
      "300/300 [==============================] - 3s 12ms/step - loss: 0.0145 - accuracy: 0.9954 - val_loss: 0.0442 - val_accuracy: 0.9852\n",
      "Accuracy: 0.9851999878883362 \n",
      " Error: 1.4800012111663818\n"
     ]
    }
   ],
   "source": [
    "\n",
    "# fit the model\n",
    "model.fit(X_train, y_train, validation_data=(X_test, y_test), epochs=10, batch_size=200, verbose=1)\n",
    "# evaluate the model\n",
    "scores = model.evaluate(X_test, y_test, verbose=0)\n",
    "print(\"Accuracy: {} \\n Error: {}\".format(scores[1], 100-scores[1]*100))"
   ]
  },
  {
   "cell_type": "markdown",
   "metadata": {
    "colab_type": "text",
    "id": "zhGL8KuzIooh"
   },
   "source": [
    "Again we can see the model weights and biases like before:"
   ]
  },
  {
   "cell_type": "code",
   "execution_count": 9,
   "metadata": {
    "colab": {
     "base_uri": "https://localhost:8080/",
     "height": 1000
    },
    "colab_type": "code",
    "id": "2ow1cKNXquJs",
    "outputId": "4f694d4b-e390-4650-f992-b4c2ad0818ec"
   },
   "outputs": [
    {
     "name": "stdout",
     "output_type": "stream",
     "text": [
      "5\n",
      "[<tensorflow.python.keras.layers.convolutional.Conv2D object at 0x7fbba9cb9dc0>, <tensorflow.python.keras.layers.pooling.MaxPooling2D object at 0x7fbba9ca10a0>, <tensorflow.python.keras.layers.core.Flatten object at 0x7fbba9449070>, <tensorflow.python.keras.layers.core.Dense object at 0x7fbba9c89dc0>, <tensorflow.python.keras.layers.core.Dense object at 0x7fbba6e4de50>]\n",
      "[<tf.Variable 'conv2d/kernel:0' shape=(5, 5, 1, 16) dtype=float32, numpy=\n",
      "array([[[[-0.07461175, -0.252318  , -0.13617927,  0.07819529,\n",
      "           0.04836806, -0.05310736, -0.05630418,  0.02040611,\n",
      "           0.20067607, -0.0640454 , -0.13580304, -0.05580524,\n",
      "          -0.09562593, -0.14095563, -0.27337986, -0.07827242]],\n",
      "\n",
      "        [[-0.00136807, -0.33195084, -0.00438182, -0.15852387,\n",
      "          -0.11258525,  0.14912878, -0.10081299, -0.06396227,\n",
      "           0.23278882,  0.05661998, -0.16909082,  0.04257084,\n",
      "          -0.02858725, -0.38510805, -0.1078527 , -0.15185775]],\n",
      "\n",
      "        [[-0.00689357, -0.36309782,  0.16383246, -0.2747221 ,\n",
      "          -0.13187945,  0.12389403,  0.07271047,  0.04399017,\n",
      "           0.19205703,  0.11038306,  0.03589077,  0.00906198,\n",
      "          -0.37840566, -0.37030143,  0.20424773, -0.14138216]],\n",
      "\n",
      "        [[ 0.10515498, -0.24054505,  0.14045446, -0.22693633,\n",
      "          -0.11538218,  0.02909706, -0.17690185,  0.10624854,\n",
      "           0.2548585 ,  0.11893099,  0.01227522,  0.05038937,\n",
      "          -0.07167285, -0.20905289,  0.19960222,  0.15943222]],\n",
      "\n",
      "        [[ 0.09301633, -0.2536512 ,  0.06403708, -0.14128202,\n",
      "           0.16476826,  0.01594154, -0.27825966, -0.06018138,\n",
      "           0.26140732, -0.06393534,  0.02416369,  0.1422065 ,\n",
      "           0.06545442,  0.02064212,  0.16836615, -0.01465044]]],\n",
      "\n",
      "\n",
      "       [[[ 0.1833933 , -0.24008945,  0.11247017, -0.0226975 ,\n",
      "           0.10619786,  0.08774418,  0.12049051,  0.03924442,\n",
      "          -0.09806385,  0.07055938, -0.07558232, -0.02986648,\n",
      "          -0.12498786, -0.275851  , -0.3297698 , -0.1424001 ]],\n",
      "\n",
      "        [[ 0.09152786, -0.36108816, -0.0216684 ,  0.12204411,\n",
      "          -0.07005472, -0.03581935,  0.03713867,  0.06659675,\n",
      "           0.07554626, -0.03677384, -0.25113425,  0.05778947,\n",
      "          -0.35025707, -0.33023018, -0.10969459,  0.1258597 ]],\n",
      "\n",
      "        [[-0.12988867, -0.15738904, -0.05001451,  0.14038458,\n",
      "          -0.18753386,  0.05883418,  0.13056415,  0.132984  ,\n",
      "           0.10107356,  0.06342582,  0.10019206,  0.2412843 ,\n",
      "          -0.38929442,  0.01938233,  0.07839895,  0.05384505]],\n",
      "\n",
      "        [[ 0.11947823,  0.00931615,  0.15592036,  0.21123537,\n",
      "           0.09088705, -0.09291797, -0.2105102 ,  0.1449667 ,\n",
      "           0.14003523, -0.05971288,  0.105749  ,  0.11190601,\n",
      "           0.07888457,  0.13500948,  0.07463213,  0.15028064]],\n",
      "\n",
      "        [[-0.05896499,  0.13365664,  0.06327363,  0.07190559,\n",
      "           0.08867395, -0.09308968, -0.40941733,  0.109286  ,\n",
      "           0.2142449 ,  0.03123146,  0.15847898,  0.2440816 ,\n",
      "           0.18307999,  0.14854006,  0.04995311,  0.08613855]]],\n",
      "\n",
      "\n",
      "       [[[ 0.02848834,  0.11533601,  0.07222003,  0.1811673 ,\n",
      "           0.01992514,  0.04945072,  0.16749291,  0.12485369,\n",
      "          -0.3389505 ,  0.03317555, -0.22744954,  0.08576107,\n",
      "          -0.22958064, -0.33199802, -0.28232467,  0.06711783]],\n",
      "\n",
      "        [[-0.10753245,  0.2915585 ,  0.01115238,  0.29906908,\n",
      "           0.0508993 ,  0.12217902,  0.23033464,  0.11098496,\n",
      "          -0.09804044, -0.16578718, -0.08833442,  0.11117808,\n",
      "          -0.23377231, -0.14578447, -0.2292247 , -0.04214626]],\n",
      "\n",
      "        [[-0.1669596 ,  0.1401641 , -0.11046971,  0.1917418 ,\n",
      "          -0.0869068 ,  0.05554939,  0.1925194 ,  0.206174  ,\n",
      "          -0.13665438,  0.00420401,  0.14438999,  0.1794359 ,\n",
      "          -0.20153259,  0.22381718,  0.16176665,  0.12208153]],\n",
      "\n",
      "        [[ 0.16896655,  0.05086694,  0.05726608,  0.0545355 ,\n",
      "           0.04116519,  0.00315797, -0.09578133,  0.09471079,\n",
      "          -0.13479489,  0.1383527 ,  0.11616036,  0.25934833,\n",
      "           0.15150589,  0.16768613,  0.22096795, -0.08455668]],\n",
      "\n",
      "        [[-0.05051803,  0.15351553,  0.13905628,  0.00993605,\n",
      "           0.03676784, -0.00571749, -0.3910533 , -0.13787621,\n",
      "          -0.08217689,  0.1130859 , -0.02899919,  0.04064082,\n",
      "           0.23852503,  0.02721938, -0.02296982, -0.08250575]]],\n",
      "\n",
      "\n",
      "       [[[-0.01169396,  0.16458182, -0.06139754, -0.02653807,\n",
      "          -0.14454488, -0.12254789, -0.02198752,  0.19204514,\n",
      "          -0.1483304 ,  0.00402333,  0.00936462, -0.30512905,\n",
      "          -0.28404438, -0.2762495 , -0.32421607,  0.11300212]],\n",
      "\n",
      "        [[-0.1253022 ,  0.25315738, -0.26975596, -0.09785797,\n",
      "           0.20485465, -0.08296053,  0.2789318 ,  0.14427036,\n",
      "          -0.25207943, -0.05103256,  0.15167367, -0.16297768,\n",
      "          -0.27248687,  0.12720217, -0.09506361,  0.12285207]],\n",
      "\n",
      "        [[ 0.13207951,  0.19888785, -0.30302277,  0.04754725,\n",
      "           0.02109633,  0.02791377,  0.33056277, -0.09149116,\n",
      "          -0.20035666, -0.00710485,  0.24229196, -0.11869886,\n",
      "           0.14263797,  0.12572807, -0.01356617,  0.05816084]],\n",
      "\n",
      "        [[ 0.14980161, -0.03301837,  0.10461866, -0.00743634,\n",
      "           0.16164237,  0.05238991,  0.11171909, -0.22919546,\n",
      "          -0.15777583, -0.03655921, -0.08849866, -0.11502946,\n",
      "           0.1013441 ,  0.02724281,  0.11186105,  0.00505205]],\n",
      "\n",
      "        [[-0.11507285, -0.03772631,  0.18534006,  0.09401425,\n",
      "          -0.18266533, -0.19860698, -0.18795033, -0.1914636 ,\n",
      "          -0.27095526,  0.09552743, -0.01257384, -0.24717963,\n",
      "           0.19499075,  0.10817266,  0.16174409, -0.14442353]]],\n",
      "\n",
      "\n",
      "       [[[ 0.07297139,  0.23196359, -0.10571489, -0.29630902,\n",
      "           0.01664297, -0.04788801, -0.23636557,  0.10845037,\n",
      "          -0.08861453,  0.0209164 ,  0.05133395, -0.24750625,\n",
      "          -0.2821701 , -0.18262368, -0.21581008,  0.10185891]],\n",
      "\n",
      "        [[-0.15433347,  0.07004457, -0.11778703, -0.2483006 ,\n",
      "           0.20612949,  0.12838438, -0.01069886, -0.15192164,\n",
      "          -0.08386406,  0.09412575,  0.15792307, -0.45683035,\n",
      "          -0.0108791 ,  0.02965242, -0.20096046, -0.06005663]],\n",
      "\n",
      "        [[ 0.03449748,  0.11042132, -0.15372755, -0.13184513,\n",
      "           0.11770636, -0.06147241,  0.28183356, -0.2527498 ,\n",
      "          -0.15747637, -0.06617339, -0.08479455, -0.4959885 ,\n",
      "           0.18352857,  0.17206289,  0.09467125,  0.04301519]],\n",
      "\n",
      "        [[ 0.2029325 ,  0.13841143,  0.07680044, -0.06538727,\n",
      "          -0.08707251, -0.09692077,  0.17806594, -0.20250453,\n",
      "          -0.12839876, -0.05754348, -0.03441304, -0.4351231 ,\n",
      "           0.12512518,  0.09608689,  0.06454956,  0.00589408]],\n",
      "\n",
      "        [[-0.23862053, -0.017064  ,  0.06103193, -0.05167   ,\n",
      "          -0.363332  , -0.11991329, -0.00415743, -0.20774804,\n",
      "          -0.07402746,  0.0899298 , -0.20423321, -0.24038759,\n",
      "           0.08557969,  0.10754306,  0.04676222,  0.01255258]]]],\n",
      "      dtype=float32)>, <tf.Variable 'conv2d/bias:0' shape=(16,) dtype=float32, numpy=\n",
      "array([-0.02656215, -0.00085917, -0.09580227, -0.00143003, -0.04946264,\n",
      "       -0.01886944, -0.03696782, -0.0854687 , -0.00169984, -0.09451894,\n",
      "       -0.11544022,  0.02783516, -0.00389058,  0.00264487, -0.01185725,\n",
      "       -0.09578225], dtype=float32)>]\n"
     ]
    }
   ],
   "source": [
    "layers=model.layers\n",
    "num_of_layers=len(layers)\n",
    "print(num_of_layers)\n",
    "print(layers)\n",
    "print(layers[0].weights)\n"
   ]
  },
  {
   "cell_type": "markdown",
   "metadata": {
    "colab_type": "text",
    "id": "lGnXDQ19kUxb"
   },
   "source": [
    "##Activation map visualization visualization"
   ]
  },
  {
   "cell_type": "markdown",
   "metadata": {
    "colab_type": "text",
    "id": "wS9cUyIijqqD"
   },
   "source": [
    "For CNNs, it is common to visualize outputs of each layer. It helps us to figure out what each filter does on the input images, or in other words, what each filters try to see. There are several ways to do it, here we define another model to help us visualize outputs of our model. "
   ]
  },
  {
   "cell_type": "code",
   "execution_count": 10,
   "metadata": {
    "colab": {
     "base_uri": "https://localhost:8080/",
     "height": 457
    },
    "colab_type": "code",
    "id": "ubG93x4d_PTu",
    "outputId": "f89b7b88-03a3-4606-9281-e5f388b76e27"
   },
   "outputs": [
    {
     "name": "stdout",
     "output_type": "stream",
     "text": [
      "[<tf.Tensor 'conv2d/Identity:0' shape=(None, 24, 24, 16) dtype=float32>, <tf.Tensor 'max_pooling2d/Identity:0' shape=(None, 12, 12, 16) dtype=float32>, <tf.Tensor 'flatten/Identity:0' shape=(None, 2304) dtype=float32>, <tf.Tensor 'dense/Identity:0' shape=(None, 100) dtype=float32>, <tf.Tensor 'dense_1/Identity:0' shape=(None, 10) dtype=float32>]\n",
      "Model: \"model\"\n",
      "_________________________________________________________________\n",
      "Layer (type)                 Output Shape              Param #   \n",
      "=================================================================\n",
      "conv2d_input (InputLayer)    [(None, 28, 28, 1)]       0         \n",
      "_________________________________________________________________\n",
      "conv2d (Conv2D)              (None, 24, 24, 16)        416       \n",
      "_________________________________________________________________\n",
      "max_pooling2d (MaxPooling2D) (None, 12, 12, 16)        0         \n",
      "_________________________________________________________________\n",
      "flatten (Flatten)            (None, 2304)              0         \n",
      "_________________________________________________________________\n",
      "dense (Dense)                (None, 100)               230500    \n",
      "_________________________________________________________________\n",
      "dense_1 (Dense)              (None, 10)                1010      \n",
      "=================================================================\n",
      "Total params: 231,926\n",
      "Trainable params: 231,926\n",
      "Non-trainable params: 0\n",
      "_________________________________________________________________\n"
     ]
    }
   ],
   "source": [
    "layer_outputs=[]\n",
    "for i in range(num_of_layers):\n",
    "  Layer=model.layers[i]\n",
    "  layer_outputs.append(Layer.output)\n",
    "print(layer_outputs)\n",
    "\n",
    "from tensorflow.keras import models\n",
    "\n",
    "activation_model = models.Model(inputs = model.input, outputs = layer_outputs)\n",
    "activation_model.summary()"
   ]
  },
  {
   "cell_type": "markdown",
   "metadata": {
    "colab_type": "text",
    "id": "oz4j-xZMkss3"
   },
   "source": [
    "Now let's see what's the difference between the new model and the model we previously had:"
   ]
  },
  {
   "cell_type": "code",
   "execution_count": 11,
   "metadata": {
    "colab": {
     "base_uri": "https://localhost:8080/",
     "height": 1000
    },
    "colab_type": "code",
    "id": "yHWg7n4uhT-w",
    "outputId": "44e60008-0e6b-4be6-b43d-494b847340f3"
   },
   "outputs": [
    {
     "name": "stdout",
     "output_type": "stream",
     "text": [
      "[[2.5643325e-09 1.6099884e-09 8.4245693e-07 1.5945890e-05 1.2179092e-10\n",
      "  1.6667917e-09 1.3013703e-14 9.9998188e-01 1.2033215e-07 1.2024409e-06]]\n",
      "[array([[[[0.        , 0.        , 0.        , ..., 0.00264487,\n",
      "          0.        , 0.        ],\n",
      "         [0.        , 0.        , 0.        , ..., 0.00264487,\n",
      "          0.        , 0.        ],\n",
      "         [0.        , 0.        , 0.        , ..., 0.00264487,\n",
      "          0.        , 0.        ],\n",
      "         ...,\n",
      "         [0.        , 0.        , 0.        , ..., 0.00264487,\n",
      "          0.        , 0.        ],\n",
      "         [0.        , 0.        , 0.        , ..., 0.00264487,\n",
      "          0.        , 0.        ],\n",
      "         [0.        , 0.        , 0.        , ..., 0.00264487,\n",
      "          0.        , 0.        ]],\n",
      "\n",
      "        [[0.        , 0.        , 0.        , ..., 0.00264487,\n",
      "          0.        , 0.        ],\n",
      "         [0.        , 0.        , 0.        , ..., 0.00264487,\n",
      "          0.        , 0.        ],\n",
      "         [0.        , 0.        , 0.        , ..., 0.00264487,\n",
      "          0.        , 0.        ],\n",
      "         ...,\n",
      "         [0.        , 0.        , 0.        , ..., 0.00264487,\n",
      "          0.        , 0.        ],\n",
      "         [0.        , 0.        , 0.        , ..., 0.00264487,\n",
      "          0.        , 0.        ],\n",
      "         [0.        , 0.        , 0.        , ..., 0.00264487,\n",
      "          0.        , 0.        ]],\n",
      "\n",
      "        [[0.        , 0.        , 0.        , ..., 0.00264487,\n",
      "          0.        , 0.        ],\n",
      "         [0.        , 0.        , 0.        , ..., 0.00264487,\n",
      "          0.        , 0.        ],\n",
      "         [0.        , 0.        , 0.        , ..., 0.00264487,\n",
      "          0.        , 0.        ],\n",
      "         ...,\n",
      "         [0.        , 0.        , 0.        , ..., 0.00264487,\n",
      "          0.        , 0.        ],\n",
      "         [0.        , 0.        , 0.        , ..., 0.00264487,\n",
      "          0.        , 0.        ],\n",
      "         [0.        , 0.        , 0.        , ..., 0.00264487,\n",
      "          0.        , 0.        ]],\n",
      "\n",
      "        ...,\n",
      "\n",
      "        [[0.        , 0.        , 0.        , ..., 0.00264487,\n",
      "          0.        , 0.        ],\n",
      "         [0.        , 0.        , 0.        , ..., 0.00264487,\n",
      "          0.        , 0.        ],\n",
      "         [0.        , 0.        , 0.        , ..., 0.00264487,\n",
      "          0.        , 0.        ],\n",
      "         ...,\n",
      "         [0.        , 0.        , 0.        , ..., 0.00264487,\n",
      "          0.        , 0.        ],\n",
      "         [0.        , 0.        , 0.        , ..., 0.00264487,\n",
      "          0.        , 0.        ],\n",
      "         [0.        , 0.        , 0.        , ..., 0.00264487,\n",
      "          0.        , 0.        ]],\n",
      "\n",
      "        [[0.        , 0.        , 0.        , ..., 0.00264487,\n",
      "          0.        , 0.        ],\n",
      "         [0.        , 0.        , 0.        , ..., 0.00264487,\n",
      "          0.        , 0.        ],\n",
      "         [0.        , 0.        , 0.        , ..., 0.00264487,\n",
      "          0.        , 0.        ],\n",
      "         ...,\n",
      "         [0.        , 0.        , 0.        , ..., 0.00264487,\n",
      "          0.        , 0.        ],\n",
      "         [0.        , 0.        , 0.        , ..., 0.00264487,\n",
      "          0.        , 0.        ],\n",
      "         [0.        , 0.        , 0.        , ..., 0.00264487,\n",
      "          0.        , 0.        ]],\n",
      "\n",
      "        [[0.        , 0.        , 0.        , ..., 0.00264487,\n",
      "          0.        , 0.        ],\n",
      "         [0.        , 0.        , 0.        , ..., 0.00264487,\n",
      "          0.        , 0.        ],\n",
      "         [0.        , 0.        , 0.        , ..., 0.00264487,\n",
      "          0.        , 0.        ],\n",
      "         ...,\n",
      "         [0.        , 0.        , 0.        , ..., 0.00264487,\n",
      "          0.        , 0.        ],\n",
      "         [0.        , 0.        , 0.        , ..., 0.00264487,\n",
      "          0.        , 0.        ],\n",
      "         [0.        , 0.        , 0.        , ..., 0.00264487,\n",
      "          0.        , 0.        ]]]], dtype=float32), array([[[[0.        , 0.        , 0.        , ..., 0.00264487,\n",
      "          0.        , 0.        ],\n",
      "         [0.        , 0.        , 0.        , ..., 0.00264487,\n",
      "          0.        , 0.        ],\n",
      "         [0.        , 0.        , 0.        , ..., 0.00264487,\n",
      "          0.        , 0.        ],\n",
      "         ...,\n",
      "         [0.        , 0.        , 0.        , ..., 0.00264487,\n",
      "          0.        , 0.        ],\n",
      "         [0.        , 0.        , 0.        , ..., 0.00264487,\n",
      "          0.        , 0.        ],\n",
      "         [0.        , 0.        , 0.        , ..., 0.00264487,\n",
      "          0.        , 0.        ]],\n",
      "\n",
      "        [[0.        , 0.        , 0.        , ..., 0.00264487,\n",
      "          0.        , 0.        ],\n",
      "         [0.        , 0.03235542, 0.        , ..., 0.11231846,\n",
      "          0.04333166, 0.        ],\n",
      "         [0.        , 0.17852296, 0.        , ..., 0.26083803,\n",
      "          0.09531626, 0.        ],\n",
      "         ...,\n",
      "         [0.        , 0.        , 0.        , ..., 0.00264487,\n",
      "          0.        , 0.        ],\n",
      "         [0.        , 0.        , 0.        , ..., 0.00264487,\n",
      "          0.        , 0.        ],\n",
      "         [0.        , 0.        , 0.        , ..., 0.00264487,\n",
      "          0.        , 0.        ]],\n",
      "\n",
      "        [[0.        , 0.        , 0.        , ..., 0.00264487,\n",
      "          0.        , 0.        ],\n",
      "         [0.        , 0.08968555, 0.34710264, ..., 0.28242022,\n",
      "          0.3406281 , 0.        ],\n",
      "         [0.19151452, 0.76675105, 0.03224864, ..., 0.7684562 ,\n",
      "          0.51507527, 0.        ],\n",
      "         ...,\n",
      "         [0.04324421, 0.9134229 , 0.        , ..., 0.06596275,\n",
      "          0.        , 0.2048904 ],\n",
      "         [0.01111593, 0.42999607, 0.        , ..., 0.        ,\n",
      "          0.        , 0.07309189],\n",
      "         [0.        , 0.        , 0.        , ..., 0.00264487,\n",
      "          0.        , 0.        ]],\n",
      "\n",
      "        ...,\n",
      "\n",
      "        [[0.        , 0.        , 0.        , ..., 0.00264487,\n",
      "          0.        , 0.        ],\n",
      "         [0.        , 0.        , 0.        , ..., 0.00264487,\n",
      "          0.        , 0.        ],\n",
      "         [0.        , 0.        , 0.        , ..., 0.00264487,\n",
      "          0.        , 0.        ],\n",
      "         ...,\n",
      "         [0.        , 0.        , 0.        , ..., 0.00264487,\n",
      "          0.        , 0.        ],\n",
      "         [0.        , 0.        , 0.        , ..., 0.00264487,\n",
      "          0.        , 0.        ],\n",
      "         [0.        , 0.        , 0.        , ..., 0.00264487,\n",
      "          0.        , 0.        ]],\n",
      "\n",
      "        [[0.        , 0.        , 0.        , ..., 0.00264487,\n",
      "          0.        , 0.        ],\n",
      "         [0.        , 0.        , 0.        , ..., 0.00264487,\n",
      "          0.        , 0.        ],\n",
      "         [0.        , 0.        , 0.        , ..., 0.00264487,\n",
      "          0.        , 0.        ],\n",
      "         ...,\n",
      "         [0.        , 0.        , 0.        , ..., 0.00264487,\n",
      "          0.        , 0.        ],\n",
      "         [0.        , 0.        , 0.        , ..., 0.00264487,\n",
      "          0.        , 0.        ],\n",
      "         [0.        , 0.        , 0.        , ..., 0.00264487,\n",
      "          0.        , 0.        ]],\n",
      "\n",
      "        [[0.        , 0.        , 0.        , ..., 0.00264487,\n",
      "          0.        , 0.        ],\n",
      "         [0.        , 0.        , 0.        , ..., 0.00264487,\n",
      "          0.        , 0.        ],\n",
      "         [0.        , 0.        , 0.        , ..., 0.00264487,\n",
      "          0.        , 0.        ],\n",
      "         ...,\n",
      "         [0.        , 0.        , 0.        , ..., 0.00264487,\n",
      "          0.        , 0.        ],\n",
      "         [0.        , 0.        , 0.        , ..., 0.00264487,\n",
      "          0.        , 0.        ],\n",
      "         [0.        , 0.        , 0.        , ..., 0.00264487,\n",
      "          0.        , 0.        ]]]], dtype=float32), array([[0.        , 0.        , 0.        , ..., 0.00264487, 0.        ,\n",
      "        0.        ]], dtype=float32), array([[0.        , 7.387703  , 0.        , 3.394632  , 0.        ,\n",
      "        0.        , 2.418061  , 1.2528373 , 5.784379  , 2.673376  ,\n",
      "        0.        , 1.9491209 , 1.9257704 , 0.        , 0.        ,\n",
      "        2.4417646 , 3.6826746 , 0.        , 3.0483272 , 0.        ,\n",
      "        0.        , 4.3909974 , 0.        , 3.0933046 , 0.        ,\n",
      "        2.0060365 , 0.        , 1.5653847 , 0.5352212 , 0.        ,\n",
      "        2.9797606 , 0.        , 0.        , 0.39561653, 0.        ,\n",
      "        0.        , 5.051727  , 0.        , 0.        , 1.3616995 ,\n",
      "        0.        , 6.669085  , 2.7549393 , 0.        , 0.31391323,\n",
      "        0.9855238 , 3.9975517 , 0.5297979 , 3.4498596 , 2.2010362 ,\n",
      "        0.        , 0.        , 2.0384321 , 4.4452515 , 4.2517467 ,\n",
      "        0.        , 0.        , 0.        , 4.097391  , 0.        ,\n",
      "        0.        , 0.        , 1.2720021 , 4.2471843 , 0.        ,\n",
      "        0.        , 2.440849  , 3.8136666 , 1.2438587 , 0.        ,\n",
      "        0.7576766 , 1.1624863 , 0.5760824 , 1.3863025 , 5.1898317 ,\n",
      "        0.        , 5.005366  , 0.        , 0.        , 0.        ,\n",
      "        0.        , 2.8875587 , 0.        , 5.9549456 , 0.        ,\n",
      "        0.77453   , 0.64164764, 3.280223  , 0.        , 1.6760576 ,\n",
      "        1.1564627 , 2.5248315 , 1.7383478 , 0.        , 0.82124615,\n",
      "        3.4224732 , 1.7908576 , 3.5003197 , 0.        , 0.79442304]],\n",
      "      dtype=float32), array([[2.5643325e-09, 1.6099884e-09, 8.4245693e-07, 1.5945890e-05,\n",
      "        1.2179092e-10, 1.6667917e-09, 1.3013703e-14, 9.9998188e-01,\n",
      "        1.2033215e-07, 1.2024409e-06]], dtype=float32)]\n"
     ]
    }
   ],
   "source": [
    "out=model.predict(X_test[0].reshape(1, 28, 28, 1))\n",
    "print(out)\n",
    "out=activation_model.predict(X_test[0].reshape(1, 28, 28, 1))\n",
    "print(out)"
   ]
  },
  {
   "cell_type": "markdown",
   "metadata": {
    "colab_type": "text",
    "id": "dApoSGaGk6i9"
   },
   "source": [
    "As you can see, the first model just predicts final output of the network, in this case that is 10 probabilities for our 10 classes, but the output of the second model, seems a bit messy! let's have a closer look to this output"
   ]
  },
  {
   "cell_type": "code",
   "execution_count": 12,
   "metadata": {
    "colab": {
     "base_uri": "https://localhost:8080/",
     "height": 50
    },
    "colab_type": "code",
    "id": "8lMNgeEEiCIa",
    "outputId": "ad2b5887-b868-4b44-d589-f431c819f9bd"
   },
   "outputs": [
    {
     "name": "stdout",
     "output_type": "stream",
     "text": [
      "5\n",
      "<class 'list'>\n"
     ]
    }
   ],
   "source": [
    "print(len(out))\n",
    "print(type(out))"
   ]
  },
  {
   "cell_type": "markdown",
   "metadata": {
    "colab_type": "text",
    "id": "kibTG30ulRvy"
   },
   "source": [
    "So, it seems we have a python list which has 7 elements. Now, as you can guess, our network had 7 layers and this list has 7 elements. It seems the second network has captured outputs for all layers, not only the final one. Let's see type and shape of the first element to make sure:"
   ]
  },
  {
   "cell_type": "code",
   "execution_count": 13,
   "metadata": {
    "colab": {
     "base_uri": "https://localhost:8080/",
     "height": 50
    },
    "colab_type": "code",
    "id": "QTZj25qEiOQY",
    "outputId": "4e3b851d-b0f6-46ce-ce59-29cb6820c7d5"
   },
   "outputs": [
    {
     "name": "stdout",
     "output_type": "stream",
     "text": [
      "<class 'numpy.ndarray'>\n",
      "(1, 24, 24, 16)\n"
     ]
    }
   ],
   "source": [
    "print(type(out[0]))\n",
    "print(out[0].shape)"
   ]
  },
  {
   "cell_type": "markdown",
   "metadata": {
    "colab_type": "text",
    "id": "CDjpxVPilxYO"
   },
   "source": [
    "And there you go! We got a numpy array which seems to match what we expected as output of the first convolution layer! Now we can plot output of first filter:"
   ]
  },
  {
   "cell_type": "code",
   "execution_count": 14,
   "metadata": {
    "colab": {
     "base_uri": "https://localhost:8080/",
     "height": 282
    },
    "colab_type": "code",
    "id": "rlxoxSnQiffh",
    "outputId": "375173e1-51d9-44dc-8ce4-41a8ecd48359"
   },
   "outputs": [
    {
     "data": {
      "text/plain": [
       "<matplotlib.image.AxesImage at 0x7fbb840c64c0>"
      ]
     },
     "execution_count": 14,
     "metadata": {},
     "output_type": "execute_result"
    },
    {
     "data": {
      "image/png": "[encoded data removed]",
      "text/plain": [
       "<Figure size 432x288 with 1 Axes>"
      ]
     },
     "metadata": {
      "needs_background": "light"
     },
     "output_type": "display_data"
    }
   ],
   "source": [
    "%matplotlib inline\n",
    "import matplotlib.pyplot as plt\n",
    "img=out[0][0,:,:,0]\n",
    "plt.imshow(img)"
   ]
  },
  {
   "cell_type": "code",
   "execution_count": 18,
   "metadata": {},
   "outputs": [
    {
     "name": "stdout",
     "output_type": "stream",
     "text": [
      "/bin/bash: y: command not found\n"
     ]
    }
   ],
   "source": []
  },
  {
   "cell_type": "markdown",
   "metadata": {
    "colab_type": "text",
    "id": "eHY8eH0qmRAP"
   },
   "source": [
    "Now, it's easy to see all 16 filters together!"
   ]
  },
  {
   "cell_type": "code",
   "execution_count": 15,
   "metadata": {
    "colab": {
     "base_uri": "https://localhost:8080/",
     "height": 268
    },
    "colab_type": "code",
    "id": "GBN-2AAOjAND",
    "outputId": "fcd2633c-d0db-4689-f51b-765f9fd0a6ce"
   },
   "outputs": [
    {
     "data": {
      "image/png": "[encoded data removed]",
      "text/plain": [
       "<Figure size 432x288 with 16 Axes>"
      ]
     },
     "metadata": {
      "needs_background": "light"
     },
     "output_type": "display_data"
    }
   ],
   "source": [
    "import matplotlib.pyplot as plt\n",
    "f, axarr = plt.subplots(4,4)\n",
    "for i in range(4):\n",
    "  for j in range(4):\n",
    "    axarr[i,j].imshow(out[0][0,:,:,i*j])"
   ]
  },
  {
   "cell_type": "markdown",
   "metadata": {
    "colab_type": "text",
    "id": "NuKJmPabvTHc"
   },
   "source": [
    "Now it's time to solve a more challenging problem which is much closer to real life examples. "
   ]
  },
  {
   "cell_type": "markdown",
   "metadata": {
    "colab_type": "text",
    "id": "jFgODFBewQQh"
   },
   "source": [
    "At first, we need to download the dataset:"
   ]
  },
  {
   "cell_type": "code",
   "execution_count": null,
   "metadata": {
    "colab": {
     "base_uri": "https://localhost:8080/",
     "height": 202
    },
    "colab_type": "code",
    "id": "RXZT2UsyIVe_",
    "outputId": "8d6f59e1-4f94-4f28-962c-45d8a1ca33aa"
   },
   "outputs": [
    {
     "name": "stdout",
     "output_type": "stream",
     "text": [
      "--2020-05-09 03:18:44--  https://storage.googleapis.com/laurencemoroney-blog.appspot.com/horse-or-human.zip\n",
      "Resolving storage.googleapis.com (storage.googleapis.com)... 74.125.143.128, 2a00:1450:4013:c01::80\n",
      "Connecting to storage.googleapis.com (storage.googleapis.com)|74.125.143.128|:443... connected.\n",
      "HTTP request sent, awaiting response... 200 OK\n",
      "Length: 149574867 (143M) [application/zip]\n",
      "Saving to: ‘horse-or-human.zip’\n",
      "\n",
      "horse-or-human.zip  100%[===================>] 142.65M  85.5MB/s    in 1.7s    \n",
      "\n",
      "2020-05-09 03:18:46 (85.5 MB/s) - ‘horse-or-human.zip’ saved [149574867/149574867]\n",
      "\n"
     ]
    }
   ],
   "source": [
    "!wget https://storage.googleapis.com/laurencemoroney-blog.appspot.com/horse-or-human.zip "
   ]
  },
  {
   "cell_type": "code",
   "execution_count": null,
   "metadata": {
    "colab": {
     "base_uri": "https://localhost:8080/",
     "height": 1000
    },
    "colab_type": "code",
    "id": "aLf_WO8gwdxN",
    "outputId": "5f3d81ea-0457-426e-a5be-15b904f61a4a"
   },
   "outputs": [
    {
     "name": "stdout",
     "output_type": "stream",
     "text": [
      "Archive:  horse-or-human.zip\n",
      "  inflating: horses/horse01-0.png    \n",
      "  inflating: horses/horse01-1.png    \n",
      "  inflating: horses/horse01-2.png    \n",
      "  inflating: horses/horse01-3.png    \n",
      "  inflating: horses/horse01-4.png    \n",
      "  inflating: horses/horse01-5.png    \n",
      "  inflating: horses/horse01-6.png    \n",
      "  inflating: horses/horse01-7.png    \n",
      "  inflating: horses/horse01-8.png    \n",
      "  inflating: horses/horse01-9.png    \n",
      "  inflating: horses/horse02-0.png    \n",
      "  inflating: horses/horse02-1.png    \n",
      "  inflating: horses/horse02-2.png    \n",
      "  inflating: horses/horse02-3.png    \n",
      "  inflating: horses/horse02-4.png    \n",
      "  inflating: horses/horse02-5.png    \n",
      "  inflating: horses/horse02-6.png    \n",
      "  inflating: horses/horse02-7.png    \n",
      "  inflating: horses/horse02-8.png    \n",
      "  inflating: horses/horse02-9.png    \n",
      "  inflating: horses/horse03-0.png    \n",
      "  inflating: horses/horse03-1.png    \n",
      "  inflating: horses/horse03-2.png    \n",
      "  inflating: horses/horse03-3.png    \n",
      "  inflating: horses/horse03-4.png    \n",
      "  inflating: horses/horse03-5.png    \n",
      "  inflating: horses/horse03-6.png    \n",
      "  inflating: horses/horse03-7.png    \n",
      "  inflating: horses/horse03-8.png    \n",
      "  inflating: horses/horse03-9.png    \n",
      "  inflating: horses/horse04-0.png    \n",
      "  inflating: horses/horse04-1.png    \n",
      "  inflating: horses/horse04-2.png    \n",
      "  inflating: horses/horse04-3.png    \n",
      "  inflating: horses/horse04-4.png    \n",
      "  inflating: horses/horse04-5.png    \n",
      "  inflating: horses/horse04-6.png    \n",
      "  inflating: horses/horse04-7.png    \n",
      "  inflating: horses/horse04-8.png    \n",
      "  inflating: horses/horse04-9.png    \n",
      "  inflating: horses/horse05-0.png    \n",
      "  inflating: horses/horse05-1.png    \n",
      "  inflating: horses/horse05-2.png    \n",
      "  inflating: horses/horse05-3.png    \n",
      "  inflating: horses/horse05-4.png    \n",
      "  inflating: horses/horse05-5.png    \n",
      "  inflating: horses/horse05-6.png    \n",
      "  inflating: horses/horse05-7.png    \n",
      "  inflating: horses/horse05-8.png    \n",
      "  inflating: horses/horse05-9.png    \n",
      "  inflating: horses/horse06-0.png    \n",
      "  inflating: horses/horse06-1.png    \n",
      "  inflating: horses/horse06-2.png    \n",
      "  inflating: horses/horse06-3.png    \n",
      "  inflating: horses/horse06-4.png    \n",
      "  inflating: horses/horse06-5.png    \n",
      "  inflating: horses/horse06-6.png    \n",
      "  inflating: horses/horse06-7.png    \n",
      "  inflating: horses/horse06-8.png    \n",
      "  inflating: horses/horse06-9.png    \n",
      "  inflating: horses/horse07-0.png    \n",
      "  inflating: horses/horse07-1.png    \n",
      "  inflating: horses/horse07-2.png    \n",
      "  inflating: horses/horse07-3.png    \n",
      "  inflating: horses/horse07-4.png    \n",
      "  inflating: horses/horse07-5.png    \n",
      "  inflating: horses/horse07-6.png    \n",
      "  inflating: horses/horse07-7.png    \n",
      "  inflating: horses/horse07-8.png    \n",
      "  inflating: horses/horse07-9.png    \n",
      "  inflating: horses/horse08-0.png    \n",
      "  inflating: horses/horse08-1.png    \n",
      "  inflating: horses/horse08-2.png    \n",
      "  inflating: horses/horse08-3.png    \n",
      "  inflating: horses/horse08-4.png    \n",
      "  inflating: horses/horse08-5.png    \n",
      "  inflating: horses/horse08-6.png    \n",
      "  inflating: horses/horse08-7.png    \n",
      "  inflating: horses/horse08-8.png    \n",
      "  inflating: horses/horse08-9.png    \n",
      "  inflating: horses/horse09-0.png    \n",
      "  inflating: horses/horse09-1.png    \n",
      "  inflating: horses/horse09-2.png    \n",
      "  inflating: horses/horse09-3.png    \n",
      "  inflating: horses/horse09-4.png    \n",
      "  inflating: horses/horse09-5.png    \n",
      "  inflating: horses/horse09-6.png    \n",
      "  inflating: horses/horse09-7.png    \n",
      "  inflating: horses/horse09-8.png    \n",
      "  inflating: horses/horse09-9.png    \n",
      "  inflating: horses/horse10-0.png    \n",
      "  inflating: horses/horse10-1.png    \n",
      "  inflating: horses/horse10-2.png    \n",
      "  inflating: horses/horse10-3.png    \n",
      "  inflating: horses/horse10-4.png    \n",
      "  inflating: horses/horse10-5.png    \n",
      "  inflating: horses/horse10-6.png    \n",
      "  inflating: horses/horse10-7.png    \n",
      "  inflating: horses/horse10-8.png    \n",
      "  inflating: horses/horse10-9.png    \n",
      "  inflating: horses/horse11-0.png    \n",
      "  inflating: horses/horse11-1.png    \n",
      "  inflating: horses/horse11-2.png    \n",
      "  inflating: horses/horse11-3.png    \n",
      "  inflating: horses/horse11-4.png    \n",
      "  inflating: horses/horse11-5.png    \n",
      "  inflating: horses/horse11-6.png    \n",
      "  inflating: horses/horse11-7.png    \n",
      "  inflating: horses/horse11-8.png    \n",
      "  inflating: horses/horse11-9.png    \n",
      "  inflating: horses/horse12-0.png    \n",
      "  inflating: horses/horse12-1.png    \n",
      "  inflating: horses/horse12-2.png    \n",
      "  inflating: horses/horse12-3.png    \n",
      "  inflating: horses/horse12-4.png    \n",
      "  inflating: horses/horse12-5.png    \n",
      "  inflating: horses/horse12-6.png    \n",
      "  inflating: horses/horse12-7.png    \n",
      "  inflating: horses/horse12-8.png    \n",
      "  inflating: horses/horse12-9.png    \n",
      "  inflating: horses/horse13-0.png    \n",
      "  inflating: horses/horse13-1.png    \n",
      "  inflating: horses/horse13-2.png    \n",
      "  inflating: horses/horse13-3.png    \n",
      "  inflating: horses/horse13-4.png    \n",
      "  inflating: horses/horse13-5.png    \n",
      "  inflating: horses/horse13-6.png    \n",
      "  inflating: horses/horse13-7.png    \n",
      "  inflating: horses/horse13-8.png    \n",
      "  inflating: horses/horse13-9.png    \n",
      "  inflating: horses/horse14-0.png    \n",
      "  inflating: horses/horse14-1.png    \n",
      "  inflating: horses/horse14-2.png    \n",
      "  inflating: horses/horse14-3.png    \n",
      "  inflating: horses/horse14-4.png    \n",
      "  inflating: horses/horse14-5.png    \n",
      "  inflating: horses/horse14-6.png    \n",
      "  inflating: horses/horse14-7.png    \n",
      "  inflating: horses/horse14-8.png    \n",
      "  inflating: horses/horse14-9.png    \n",
      "  inflating: horses/horse15-0.png    \n",
      "  inflating: horses/horse15-1.png    \n",
      "  inflating: horses/horse15-2.png    \n",
      "  inflating: horses/horse15-3.png    \n",
      "  inflating: horses/horse15-4.png    \n",
      "  inflating: horses/horse15-5.png    \n",
      "  inflating: horses/horse15-6.png    \n",
      "  inflating: horses/horse15-7.png    \n",
      "  inflating: horses/horse15-8.png    \n",
      "  inflating: horses/horse15-9.png    \n",
      "  inflating: horses/horse16-0.png    \n",
      "  inflating: horses/horse16-1.png    \n",
      "  inflating: horses/horse16-2.png    \n",
      "  inflating: horses/horse16-3.png    \n",
      "  inflating: horses/horse16-4.png    \n",
      "  inflating: horses/horse16-5.png    \n",
      "  inflating: horses/horse16-6.png    \n",
      "  inflating: horses/horse16-7.png    \n",
      "  inflating: horses/horse16-8.png    \n",
      "  inflating: horses/horse16-9.png    \n",
      "  inflating: horses/horse17-0.png    \n",
      "  inflating: horses/horse17-1.png    \n",
      "  inflating: horses/horse17-2.png    \n",
      "  inflating: horses/horse17-3.png    \n",
      "  inflating: horses/horse17-4.png    \n",
      "  inflating: horses/horse17-5.png    \n",
      "  inflating: horses/horse17-6.png    \n",
      "  inflating: horses/horse17-7.png    \n",
      "  inflating: horses/horse17-8.png    \n",
      "  inflating: horses/horse17-9.png    \n",
      "  inflating: horses/horse18-0.png    \n",
      "  inflating: horses/horse18-1.png    \n",
      "  inflating: horses/horse18-2.png    \n",
      "  inflating: horses/horse18-3.png    \n",
      "  inflating: horses/horse18-4.png    \n",
      "  inflating: horses/horse18-5.png    \n",
      "  inflating: horses/horse18-6.png    \n",
      "  inflating: horses/horse18-7.png    \n",
      "  inflating: horses/horse18-8.png    \n",
      "  inflating: horses/horse18-9.png    \n",
      "  inflating: horses/horse19-0.png    \n",
      "  inflating: horses/horse19-1.png    \n",
      "  inflating: horses/horse19-2.png    \n",
      "  inflating: horses/horse19-3.png    \n",
      "  inflating: horses/horse19-4.png    \n",
      "  inflating: horses/horse19-5.png    \n",
      "  inflating: horses/horse19-6.png    \n",
      "  inflating: horses/horse19-7.png    \n",
      "  inflating: horses/horse19-8.png    \n",
      "  inflating: horses/horse19-9.png    \n",
      "  inflating: horses/horse20-0.png    \n",
      "  inflating: horses/horse20-1.png    \n",
      "  inflating: horses/horse20-2.png    \n",
      "  inflating: horses/horse20-3.png    \n",
      "  inflating: horses/horse20-4.png    \n",
      "  inflating: horses/horse20-5.png    \n",
      "  inflating: horses/horse20-6.png    \n",
      "  inflating: horses/horse20-7.png    \n",
      "  inflating: horses/horse20-8.png    \n",
      "  inflating: horses/horse20-9.png    \n",
      "  inflating: horses/horse21-0.png    \n",
      "  inflating: horses/horse21-1.png    \n",
      "  inflating: horses/horse21-2.png    \n",
      "  inflating: horses/horse21-3.png    \n",
      "  inflating: horses/horse21-4.png    \n",
      "  inflating: horses/horse21-5.png    \n",
      "  inflating: horses/horse21-6.png    \n",
      "  inflating: horses/horse21-7.png    \n",
      "  inflating: horses/horse21-8.png    \n",
      "  inflating: horses/horse21-9.png    \n",
      "  inflating: horses/horse22-0.png    \n",
      "  inflating: horses/horse22-1.png    \n",
      "  inflating: horses/horse22-2.png    \n",
      "  inflating: horses/horse22-3.png    \n",
      "  inflating: horses/horse22-4.png    \n",
      "  inflating: horses/horse22-5.png    \n",
      "  inflating: horses/horse22-6.png    \n",
      "  inflating: horses/horse22-7.png    \n",
      "  inflating: horses/horse22-8.png    \n",
      "  inflating: horses/horse22-9.png    \n",
      "  inflating: horses/horse23-0.png    \n",
      "  inflating: horses/horse23-1.png    \n",
      "  inflating: horses/horse23-2.png    \n",
      "  inflating: horses/horse23-3.png    \n",
      "  inflating: horses/horse23-4.png    \n",
      "  inflating: horses/horse23-5.png    \n",
      "  inflating: horses/horse23-6.png    \n",
      "  inflating: horses/horse23-7.png    \n",
      "  inflating: horses/horse23-8.png    \n",
      "  inflating: horses/horse23-9.png    \n",
      "  inflating: horses/horse24-0.png    \n",
      "  inflating: horses/horse24-1.png    \n",
      "  inflating: horses/horse24-2.png    \n",
      "  inflating: horses/horse24-3.png    \n",
      "  inflating: horses/horse24-4.png    \n",
      "  inflating: horses/horse24-5.png    \n",
      "  inflating: horses/horse24-6.png    \n",
      "  inflating: horses/horse24-7.png    \n",
      "  inflating: horses/horse24-8.png    \n",
      "  inflating: horses/horse24-9.png    \n",
      "  inflating: horses/horse25-0.png    \n",
      "  inflating: horses/horse25-1.png    \n",
      "  inflating: horses/horse25-2.png    \n",
      "  inflating: horses/horse25-3.png    \n",
      "  inflating: horses/horse25-4.png    \n",
      "  inflating: horses/horse25-5.png    \n",
      "  inflating: horses/horse25-6.png    \n",
      "  inflating: horses/horse25-7.png    \n",
      "  inflating: horses/horse25-8.png    \n",
      "  inflating: horses/horse25-9.png    \n",
      "  inflating: horses/horse26-0.png    \n",
      "  inflating: horses/horse26-1.png    \n",
      "  inflating: horses/horse26-2.png    \n",
      "  inflating: horses/horse26-3.png    \n",
      "  inflating: horses/horse26-4.png    \n",
      "  inflating: horses/horse26-5.png    \n",
      "  inflating: horses/horse26-6.png    \n",
      "  inflating: horses/horse26-7.png    \n",
      "  inflating: horses/horse26-8.png    \n",
      "  inflating: horses/horse26-9.png    \n",
      "  inflating: horses/horse27-0.png    \n",
      "  inflating: horses/horse27-1.png    \n",
      "  inflating: horses/horse27-2.png    \n",
      "  inflating: horses/horse27-3.png    \n",
      "  inflating: horses/horse27-4.png    \n",
      "  inflating: horses/horse27-5.png    \n",
      "  inflating: horses/horse27-6.png    \n",
      "  inflating: horses/horse27-7.png    \n",
      "  inflating: horses/horse27-8.png    \n",
      "  inflating: horses/horse27-9.png    \n",
      "  inflating: horses/horse28-0.png    \n",
      "  inflating: horses/horse28-1.png    \n",
      "  inflating: horses/horse28-2.png    \n",
      "  inflating: horses/horse28-3.png    \n",
      "  inflating: horses/horse28-4.png    \n",
      "  inflating: horses/horse28-5.png    \n",
      "  inflating: horses/horse28-6.png    \n",
      "  inflating: horses/horse28-7.png    \n",
      "  inflating: horses/horse28-8.png    \n",
      "  inflating: horses/horse28-9.png    \n",
      "  inflating: horses/horse29-0.png    \n",
      "  inflating: horses/horse29-1.png    \n",
      "  inflating: horses/horse29-2.png    \n",
      "  inflating: horses/horse29-3.png    \n",
      "  inflating: horses/horse29-4.png    \n",
      "  inflating: horses/horse29-5.png    \n",
      "  inflating: horses/horse29-6.png    \n",
      "  inflating: horses/horse29-7.png    \n",
      "  inflating: horses/horse29-8.png    \n",
      "  inflating: horses/horse29-9.png    \n",
      "  inflating: horses/horse30-0.png    \n",
      "  inflating: horses/horse30-1.png    \n",
      "  inflating: horses/horse30-2.png    \n",
      "  inflating: horses/horse30-3.png    \n",
      "  inflating: horses/horse30-4.png    \n",
      "  inflating: horses/horse30-5.png    \n",
      "  inflating: horses/horse30-6.png    \n",
      "  inflating: horses/horse30-7.png    \n",
      "  inflating: horses/horse30-8.png    \n",
      "  inflating: horses/horse30-9.png    \n",
      "  inflating: horses/horse31-0.png    \n",
      "  inflating: horses/horse31-1.png    \n",
      "  inflating: horses/horse31-2.png    \n",
      "  inflating: horses/horse31-3.png    \n",
      "  inflating: horses/horse31-4.png    \n",
      "  inflating: horses/horse31-5.png    \n",
      "  inflating: horses/horse31-6.png    \n",
      "  inflating: horses/horse31-7.png    \n",
      "  inflating: horses/horse31-8.png    \n",
      "  inflating: horses/horse31-9.png    \n",
      "  inflating: horses/horse32-0.png    \n",
      "  inflating: horses/horse32-1.png    \n",
      "  inflating: horses/horse32-2.png    \n",
      "  inflating: horses/horse32-3.png    \n",
      "  inflating: horses/horse32-4.png    \n",
      "  inflating: horses/horse32-5.png    \n",
      "  inflating: horses/horse32-6.png    \n",
      "  inflating: horses/horse32-7.png    \n",
      "  inflating: horses/horse32-8.png    \n",
      "  inflating: horses/horse32-9.png    \n",
      "  inflating: horses/horse33-0.png    \n",
      "  inflating: horses/horse33-1.png    \n",
      "  inflating: horses/horse33-2.png    \n",
      "  inflating: horses/horse33-3.png    \n",
      "  inflating: horses/horse33-4.png    \n",
      "  inflating: horses/horse33-5.png    \n",
      "  inflating: horses/horse33-6.png    \n",
      "  inflating: horses/horse33-7.png    \n",
      "  inflating: horses/horse33-8.png    \n",
      "  inflating: horses/horse33-9.png    \n",
      "  inflating: horses/horse34-0.png    \n",
      "  inflating: horses/horse34-1.png    \n",
      "  inflating: horses/horse34-2.png    \n",
      "  inflating: horses/horse34-3.png    \n",
      "  inflating: horses/horse34-4.png    \n",
      "  inflating: horses/horse34-5.png    \n",
      "  inflating: horses/horse34-6.png    \n",
      "  inflating: horses/horse34-7.png    \n",
      "  inflating: horses/horse34-8.png    \n",
      "  inflating: horses/horse34-9.png    \n",
      "  inflating: horses/horse35-0.png    \n",
      "  inflating: horses/horse35-1.png    \n",
      "  inflating: horses/horse35-2.png    \n",
      "  inflating: horses/horse35-3.png    \n",
      "  inflating: horses/horse35-4.png    \n",
      "  inflating: horses/horse35-5.png    \n",
      "  inflating: horses/horse35-6.png    \n",
      "  inflating: horses/horse35-7.png    \n",
      "  inflating: horses/horse35-8.png    \n",
      "  inflating: horses/horse35-9.png    \n",
      "  inflating: horses/horse36-0.png    \n",
      "  inflating: horses/horse36-1.png    \n",
      "  inflating: horses/horse36-2.png    \n",
      "  inflating: horses/horse36-3.png    \n",
      "  inflating: horses/horse36-4.png    \n",
      "  inflating: horses/horse36-5.png    \n",
      "  inflating: horses/horse36-6.png    \n",
      "  inflating: horses/horse36-7.png    \n",
      "  inflating: horses/horse36-8.png    \n",
      "  inflating: horses/horse36-9.png    \n",
      "  inflating: horses/horse37-0.png    \n",
      "  inflating: horses/horse37-1.png    \n",
      "  inflating: horses/horse37-2.png    \n",
      "  inflating: horses/horse37-3.png    \n",
      "  inflating: horses/horse37-4.png    \n",
      "  inflating: horses/horse37-5.png    \n",
      "  inflating: horses/horse37-6.png    \n",
      "  inflating: horses/horse37-7.png    \n",
      "  inflating: horses/horse37-8.png    \n",
      "  inflating: horses/horse37-9.png    \n",
      "  inflating: horses/horse38-0.png    \n",
      "  inflating: horses/horse38-1.png    \n",
      "  inflating: horses/horse38-2.png    \n",
      "  inflating: horses/horse38-3.png    \n",
      "  inflating: horses/horse38-4.png    \n",
      "  inflating: horses/horse38-5.png    \n",
      "  inflating: horses/horse38-6.png    \n",
      "  inflating: horses/horse38-7.png    \n",
      "  inflating: horses/horse38-8.png    \n",
      "  inflating: horses/horse38-9.png    \n",
      "  inflating: horses/horse39-0.png    \n",
      "  inflating: horses/horse39-1.png    \n",
      "  inflating: horses/horse39-2.png    \n",
      "  inflating: horses/horse39-3.png    \n",
      "  inflating: horses/horse39-4.png    \n",
      "  inflating: horses/horse39-5.png    \n",
      "  inflating: horses/horse39-6.png    \n",
      "  inflating: horses/horse39-7.png    \n",
      "  inflating: horses/horse39-8.png    \n",
      "  inflating: horses/horse39-9.png    \n",
      "  inflating: horses/horse40-0.png    \n",
      "  inflating: horses/horse40-1.png    \n",
      "  inflating: horses/horse40-2.png    \n",
      "  inflating: horses/horse40-3.png    \n",
      "  inflating: horses/horse40-4.png    \n",
      "  inflating: horses/horse40-5.png    \n",
      "  inflating: horses/horse40-6.png    \n",
      "  inflating: horses/horse40-7.png    \n",
      "  inflating: horses/horse40-8.png    \n",
      "  inflating: horses/horse40-9.png    \n",
      "  inflating: horses/horse41-0.png    \n",
      "  inflating: horses/horse41-1.png    \n",
      "  inflating: horses/horse41-2.png    \n",
      "  inflating: horses/horse41-3.png    \n",
      "  inflating: horses/horse41-4.png    \n",
      "  inflating: horses/horse41-5.png    \n",
      "  inflating: horses/horse41-6.png    \n",
      "  inflating: horses/horse41-7.png    \n",
      "  inflating: horses/horse41-8.png    \n",
      "  inflating: horses/horse41-9.png    \n",
      "  inflating: horses/horse42-0.png    \n",
      "  inflating: horses/horse42-1.png    \n",
      "  inflating: horses/horse42-2.png    \n",
      "  inflating: horses/horse42-3.png    \n",
      "  inflating: horses/horse42-4.png    \n",
      "  inflating: horses/horse42-5.png    \n",
      "  inflating: horses/horse42-6.png    \n",
      "  inflating: horses/horse42-7.png    \n",
      "  inflating: horses/horse42-8.png    \n",
      "  inflating: horses/horse42-9.png    \n",
      "  inflating: horses/horse43-0.png    \n",
      "  inflating: horses/horse43-1.png    \n",
      "  inflating: horses/horse43-2.png    \n",
      "  inflating: horses/horse43-3.png    \n",
      "  inflating: horses/horse43-4.png    \n",
      "  inflating: horses/horse43-5.png    \n",
      "  inflating: horses/horse43-6.png    \n",
      "  inflating: horses/horse43-7.png    \n",
      "  inflating: horses/horse43-8.png    \n",
      "  inflating: horses/horse43-9.png    \n",
      "  inflating: horses/horse44-0.png    \n",
      "  inflating: horses/horse44-1.png    \n",
      "  inflating: horses/horse44-2.png    \n",
      "  inflating: horses/horse44-3.png    \n",
      "  inflating: horses/horse44-4.png    \n",
      "  inflating: horses/horse44-5.png    \n",
      "  inflating: horses/horse44-6.png    \n",
      "  inflating: horses/horse44-7.png    \n",
      "  inflating: horses/horse44-8.png    \n",
      "  inflating: horses/horse44-9.png    \n",
      "  inflating: horses/horse45-0.png    \n",
      "  inflating: horses/horse45-1.png    \n",
      "  inflating: horses/horse45-2.png    \n",
      "  inflating: horses/horse45-3.png    \n",
      "  inflating: horses/horse45-4.png    \n",
      "  inflating: horses/horse45-5.png    \n",
      "  inflating: horses/horse45-6.png    \n",
      "  inflating: horses/horse45-7.png    \n",
      "  inflating: horses/horse45-8.png    \n",
      "  inflating: horses/horse45-9.png    \n",
      "  inflating: horses/horse46-0.png    \n",
      "  inflating: horses/horse46-1.png    \n",
      "  inflating: horses/horse46-2.png    \n",
      "  inflating: horses/horse46-3.png    \n",
      "  inflating: horses/horse46-4.png    \n",
      "  inflating: horses/horse46-5.png    \n",
      "  inflating: horses/horse46-6.png    \n",
      "  inflating: horses/horse46-7.png    \n",
      "  inflating: horses/horse46-8.png    \n",
      "  inflating: horses/horse46-9.png    \n",
      "  inflating: horses/horse47-0.png    \n",
      "  inflating: horses/horse47-1.png    \n",
      "  inflating: horses/horse47-2.png    \n",
      "  inflating: horses/horse47-3.png    \n",
      "  inflating: horses/horse47-4.png    \n",
      "  inflating: horses/horse47-5.png    \n",
      "  inflating: horses/horse47-6.png    \n",
      "  inflating: horses/horse47-7.png    \n",
      "  inflating: horses/horse47-8.png    \n",
      "  inflating: horses/horse47-9.png    \n",
      "  inflating: horses/horse48-0.png    \n",
      "  inflating: horses/horse48-1.png    \n",
      "  inflating: horses/horse48-2.png    \n",
      "  inflating: horses/horse48-3.png    \n",
      "  inflating: horses/horse48-4.png    \n",
      "  inflating: horses/horse48-5.png    \n",
      "  inflating: horses/horse48-6.png    \n",
      "  inflating: horses/horse48-7.png    \n",
      "  inflating: horses/horse48-8.png    \n",
      "  inflating: horses/horse48-9.png    \n",
      "  inflating: horses/horse49-0.png    \n",
      "  inflating: horses/horse49-1.png    \n",
      "  inflating: horses/horse49-2.png    \n",
      "  inflating: horses/horse49-3.png    \n",
      "  inflating: horses/horse49-4.png    \n",
      "  inflating: horses/horse49-5.png    \n",
      "  inflating: horses/horse49-6.png    \n",
      "  inflating: horses/horse49-7.png    \n",
      "  inflating: horses/horse49-8.png    \n",
      "  inflating: horses/horse49-9.png    \n",
      "  inflating: horses/horse50-0.png    \n",
      "  inflating: horses/horse50-1.png    \n",
      "  inflating: horses/horse50-2.png    \n",
      "  inflating: horses/horse50-3.png    \n",
      "  inflating: horses/horse50-4.png    \n",
      "  inflating: horses/horse50-5.png    \n",
      "  inflating: horses/horse50-6.png    \n",
      "  inflating: horses/horse50-7.png    \n",
      "  inflating: horses/horse50-8.png    \n",
      "  inflating: horses/horse50-9.png    \n",
      "  inflating: humans/human01-00.png   \n",
      "  inflating: humans/human01-01.png   \n",
      "  inflating: humans/human01-02.png   \n",
      "  inflating: humans/human01-03.png   \n",
      "  inflating: humans/human01-04.png   \n",
      "  inflating: humans/human01-05.png   \n",
      "  inflating: humans/human01-06.png   \n",
      "  inflating: humans/human01-07.png   \n",
      "  inflating: humans/human01-08.png   \n",
      "  inflating: humans/human01-09.png   \n",
      "  inflating: humans/human01-10.png   \n",
      "  inflating: humans/human01-11.png   \n",
      "  inflating: humans/human01-12.png   \n",
      "  inflating: humans/human01-13.png   \n",
      "  inflating: humans/human01-14.png   \n",
      "  inflating: humans/human01-15.png   \n",
      "  inflating: humans/human01-16.png   \n",
      "  inflating: humans/human01-17.png   \n",
      "  inflating: humans/human01-18.png   \n",
      "  inflating: humans/human01-19.png   \n",
      "  inflating: humans/human01-20.png   \n",
      "  inflating: humans/human01-21.png   \n",
      "  inflating: humans/human01-22.png   \n",
      "  inflating: humans/human01-23.png   \n",
      "  inflating: humans/human01-24.png   \n",
      "  inflating: humans/human01-25.png   \n",
      "  inflating: humans/human01-26.png   \n",
      "  inflating: humans/human01-27.png   \n",
      "  inflating: humans/human01-28.png   \n",
      "  inflating: humans/human01-29.png   \n",
      "  inflating: humans/human01-30.png   \n",
      "  inflating: humans/human02-00.png   \n",
      "  inflating: humans/human02-01.png   \n",
      "  inflating: humans/human02-02.png   \n",
      "  inflating: humans/human02-03.png   \n",
      "  inflating: humans/human02-04.png   \n",
      "  inflating: humans/human02-05.png   \n",
      "  inflating: humans/human02-06.png   \n",
      "  inflating: humans/human02-07.png   \n",
      "  inflating: humans/human02-08.png   \n",
      "  inflating: humans/human02-09.png   \n",
      "  inflating: humans/human02-10.png   \n",
      "  inflating: humans/human02-11.png   \n",
      "  inflating: humans/human02-12.png   \n",
      "  inflating: humans/human02-13.png   \n",
      "  inflating: humans/human02-14.png   \n",
      "  inflating: humans/human02-15.png   \n",
      "  inflating: humans/human02-16.png   \n",
      "  inflating: humans/human02-17.png   \n",
      "  inflating: humans/human02-18.png   \n",
      "  inflating: humans/human02-19.png   \n",
      "  inflating: humans/human02-20.png   \n",
      "  inflating: humans/human02-21.png   \n",
      "  inflating: humans/human02-22.png   \n",
      "  inflating: humans/human02-23.png   \n",
      "  inflating: humans/human02-24.png   \n",
      "  inflating: humans/human02-25.png   \n",
      "  inflating: humans/human02-26.png   \n",
      "  inflating: humans/human02-27.png   \n",
      "  inflating: humans/human02-28.png   \n",
      "  inflating: humans/human02-29.png   \n",
      "  inflating: humans/human02-30.png   \n",
      "  inflating: humans/human03-00.png   \n",
      "  inflating: humans/human03-01.png   \n",
      "  inflating: humans/human03-02.png   \n",
      "  inflating: humans/human03-03.png   \n",
      "  inflating: humans/human03-04.png   \n",
      "  inflating: humans/human03-05.png   \n",
      "  inflating: humans/human03-06.png   \n",
      "  inflating: humans/human03-07.png   \n",
      "  inflating: humans/human03-08.png   \n",
      "  inflating: humans/human03-09.png   \n",
      "  inflating: humans/human03-10.png   \n",
      "  inflating: humans/human03-11.png   \n",
      "  inflating: humans/human03-12.png   \n",
      "  inflating: humans/human03-13.png   \n",
      "  inflating: humans/human03-14.png   \n",
      "  inflating: humans/human03-15.png   \n",
      "  inflating: humans/human03-16.png   \n",
      "  inflating: humans/human03-17.png   \n",
      "  inflating: humans/human03-18.png   \n",
      "  inflating: humans/human03-19.png   \n",
      "  inflating: humans/human03-20.png   \n",
      "  inflating: humans/human03-21.png   \n",
      "  inflating: humans/human03-22.png   \n",
      "  inflating: humans/human03-23.png   \n",
      "  inflating: humans/human03-24.png   \n",
      "  inflating: humans/human03-25.png   \n",
      "  inflating: humans/human03-26.png   \n",
      "  inflating: humans/human03-27.png   \n",
      "  inflating: humans/human03-28.png   \n",
      "  inflating: humans/human03-29.png   \n",
      "  inflating: humans/human03-30.png   \n",
      "  inflating: humans/human04-00.png   \n",
      "  inflating: humans/human04-01.png   \n",
      "  inflating: humans/human04-02.png   \n",
      "  inflating: humans/human04-03.png   \n",
      "  inflating: humans/human04-04.png   \n",
      "  inflating: humans/human04-05.png   \n",
      "  inflating: humans/human04-06.png   \n",
      "  inflating: humans/human04-07.png   \n",
      "  inflating: humans/human04-08.png   \n",
      "  inflating: humans/human04-09.png   \n",
      "  inflating: humans/human04-10.png   \n",
      "  inflating: humans/human04-11.png   \n",
      "  inflating: humans/human04-12.png   \n",
      "  inflating: humans/human04-13.png   \n",
      "  inflating: humans/human04-14.png   \n",
      "  inflating: humans/human04-15.png   \n",
      "  inflating: humans/human04-16.png   \n",
      "  inflating: humans/human04-17.png   \n",
      "  inflating: humans/human04-18.png   \n",
      "  inflating: humans/human04-19.png   \n",
      "  inflating: humans/human04-20.png   \n",
      "  inflating: humans/human04-21.png   \n",
      "  inflating: humans/human04-22.png   \n",
      "  inflating: humans/human04-23.png   \n",
      "  inflating: humans/human04-24.png   \n",
      "  inflating: humans/human04-25.png   \n",
      "  inflating: humans/human04-26.png   \n",
      "  inflating: humans/human04-27.png   \n",
      "  inflating: humans/human04-28.png   \n",
      "  inflating: humans/human04-29.png   \n",
      "  inflating: humans/human04-30.png   \n",
      "  inflating: humans/human05-00.png   \n",
      "  inflating: humans/human05-01.png   \n",
      "  inflating: humans/human05-02.png   \n",
      "  inflating: humans/human05-03.png   \n",
      "  inflating: humans/human05-04.png   \n",
      "  inflating: humans/human05-05.png   \n",
      "  inflating: humans/human05-06.png   \n",
      "  inflating: humans/human05-07.png   \n",
      "  inflating: humans/human05-08.png   \n",
      "  inflating: humans/human05-09.png   \n",
      "  inflating: humans/human05-10.png   \n",
      "  inflating: humans/human05-11.png   \n",
      "  inflating: humans/human05-12.png   \n",
      "  inflating: humans/human05-13.png   \n",
      "  inflating: humans/human05-14.png   \n",
      "  inflating: humans/human05-15.png   \n",
      "  inflating: humans/human05-16.png   \n",
      "  inflating: humans/human05-17.png   \n",
      "  inflating: humans/human05-18.png   \n",
      "  inflating: humans/human05-19.png   \n",
      "  inflating: humans/human05-20.png   \n",
      "  inflating: humans/human05-21.png   \n",
      "  inflating: humans/human05-22.png   \n",
      "  inflating: humans/human05-23.png   \n",
      "  inflating: humans/human05-24.png   \n",
      "  inflating: humans/human05-25.png   \n",
      "  inflating: humans/human05-26.png   \n",
      "  inflating: humans/human05-27.png   \n",
      "  inflating: humans/human05-28.png   \n",
      "  inflating: humans/human05-29.png   \n",
      "  inflating: humans/human05-30.png   \n",
      "  inflating: humans/human06-00.png   \n",
      "  inflating: humans/human06-01.png   \n",
      "  inflating: humans/human06-02.png   \n",
      "  inflating: humans/human06-03.png   \n",
      "  inflating: humans/human06-04.png   \n",
      "  inflating: humans/human06-05.png   \n",
      "  inflating: humans/human06-06.png   \n",
      "  inflating: humans/human06-07.png   \n",
      "  inflating: humans/human06-08.png   \n",
      "  inflating: humans/human06-09.png   \n",
      "  inflating: humans/human06-10.png   \n",
      "  inflating: humans/human06-11.png   \n",
      "  inflating: humans/human06-12.png   \n",
      "  inflating: humans/human06-13.png   \n",
      "  inflating: humans/human06-14.png   \n",
      "  inflating: humans/human06-15.png   \n",
      "  inflating: humans/human06-16.png   \n",
      "  inflating: humans/human06-17.png   \n",
      "  inflating: humans/human06-18.png   \n",
      "  inflating: humans/human06-19.png   \n",
      "  inflating: humans/human06-20.png   \n",
      "  inflating: humans/human06-21.png   \n",
      "  inflating: humans/human06-22.png   \n",
      "  inflating: humans/human06-23.png   \n",
      "  inflating: humans/human06-24.png   \n",
      "  inflating: humans/human06-25.png   \n",
      "  inflating: humans/human06-26.png   \n",
      "  inflating: humans/human06-27.png   \n",
      "  inflating: humans/human06-28.png   \n",
      "  inflating: humans/human06-29.png   \n",
      "  inflating: humans/human06-30.png   \n",
      "  inflating: humans/human07-00.png   \n",
      "  inflating: humans/human07-01.png   \n",
      "  inflating: humans/human07-02.png   \n",
      "  inflating: humans/human07-03.png   \n",
      "  inflating: humans/human07-04.png   \n",
      "  inflating: humans/human07-05.png   \n",
      "  inflating: humans/human07-06.png   \n",
      "  inflating: humans/human07-07.png   \n",
      "  inflating: humans/human07-08.png   \n",
      "  inflating: humans/human07-09.png   \n",
      "  inflating: humans/human07-10.png   \n",
      "  inflating: humans/human07-11.png   \n",
      "  inflating: humans/human07-12.png   \n",
      "  inflating: humans/human07-13.png   \n",
      "  inflating: humans/human07-14.png   \n",
      "  inflating: humans/human07-15.png   \n",
      "  inflating: humans/human07-16.png   \n",
      "  inflating: humans/human07-17.png   \n",
      "  inflating: humans/human07-18.png   \n",
      "  inflating: humans/human07-19.png   \n",
      "  inflating: humans/human07-20.png   \n",
      "  inflating: humans/human07-21.png   \n",
      "  inflating: humans/human07-22.png   \n",
      "  inflating: humans/human07-23.png   \n",
      "  inflating: humans/human07-24.png   \n",
      "  inflating: humans/human07-25.png   \n",
      "  inflating: humans/human07-26.png   \n",
      "  inflating: humans/human07-27.png   \n",
      "  inflating: humans/human07-28.png   \n",
      "  inflating: humans/human07-29.png   \n",
      "  inflating: humans/human07-30.png   \n",
      "  inflating: humans/human08-00.png   \n",
      "  inflating: humans/human08-01.png   \n",
      "  inflating: humans/human08-02.png   \n",
      "  inflating: humans/human08-03.png   \n",
      "  inflating: humans/human08-04.png   \n",
      "  inflating: humans/human08-05.png   \n",
      "  inflating: humans/human08-06.png   \n",
      "  inflating: humans/human08-07.png   \n",
      "  inflating: humans/human08-08.png   \n",
      "  inflating: humans/human08-09.png   \n",
      "  inflating: humans/human08-10.png   \n",
      "  inflating: humans/human08-11.png   \n",
      "  inflating: humans/human08-12.png   \n",
      "  inflating: humans/human08-13.png   \n",
      "  inflating: humans/human08-14.png   \n",
      "  inflating: humans/human08-15.png   \n",
      "  inflating: humans/human08-16.png   \n",
      "  inflating: humans/human08-17.png   \n",
      "  inflating: humans/human08-18.png   \n",
      "  inflating: humans/human08-19.png   \n",
      "  inflating: humans/human08-20.png   \n",
      "  inflating: humans/human08-21.png   \n",
      "  inflating: humans/human08-22.png   \n",
      "  inflating: humans/human08-23.png   \n",
      "  inflating: humans/human08-24.png   \n",
      "  inflating: humans/human08-25.png   \n",
      "  inflating: humans/human08-26.png   \n",
      "  inflating: humans/human08-27.png   \n",
      "  inflating: humans/human08-28.png   \n",
      "  inflating: humans/human08-29.png   \n",
      "  inflating: humans/human08-30.png   \n",
      "  inflating: humans/human09-00.png   \n",
      "  inflating: humans/human09-01.png   \n",
      "  inflating: humans/human09-02.png   \n",
      "  inflating: humans/human09-03.png   \n",
      "  inflating: humans/human09-04.png   \n",
      "  inflating: humans/human09-05.png   \n",
      "  inflating: humans/human09-06.png   \n",
      "  inflating: humans/human09-07.png   \n",
      "  inflating: humans/human09-08.png   \n",
      "  inflating: humans/human09-09.png   \n",
      "  inflating: humans/human09-10.png   \n",
      "  inflating: humans/human09-11.png   \n",
      "  inflating: humans/human09-12.png   \n",
      "  inflating: humans/human09-13.png   \n",
      "  inflating: humans/human09-14.png   \n",
      "  inflating: humans/human09-15.png   \n",
      "  inflating: humans/human09-16.png   \n",
      "  inflating: humans/human09-17.png   \n",
      "  inflating: humans/human09-18.png   \n",
      "  inflating: humans/human09-19.png   \n",
      "  inflating: humans/human09-20.png   \n",
      "  inflating: humans/human09-21.png   \n",
      "  inflating: humans/human09-22.png   \n",
      "  inflating: humans/human09-23.png   \n",
      "  inflating: humans/human09-24.png   \n",
      "  inflating: humans/human09-25.png   \n",
      "  inflating: humans/human09-26.png   \n",
      "  inflating: humans/human09-27.png   \n",
      "  inflating: humans/human09-28.png   \n",
      "  inflating: humans/human09-29.png   \n",
      "  inflating: humans/human09-30.png   \n",
      "  inflating: humans/human10-00.png   \n",
      "  inflating: humans/human10-01.png   \n",
      "  inflating: humans/human10-02.png   \n",
      "  inflating: humans/human10-03.png   \n",
      "  inflating: humans/human10-04.png   \n",
      "  inflating: humans/human10-05.png   \n",
      "  inflating: humans/human10-06.png   \n",
      "  inflating: humans/human10-07.png   \n",
      "  inflating: humans/human10-08.png   \n",
      "  inflating: humans/human10-09.png   \n",
      "  inflating: humans/human10-10.png   \n",
      "  inflating: humans/human10-11.png   \n",
      "  inflating: humans/human10-12.png   \n",
      "  inflating: humans/human10-13.png   \n",
      "  inflating: humans/human10-14.png   \n",
      "  inflating: humans/human10-15.png   \n",
      "  inflating: humans/human10-16.png   \n",
      "  inflating: humans/human10-17.png   \n",
      "  inflating: humans/human10-18.png   \n",
      "  inflating: humans/human10-19.png   \n",
      "  inflating: humans/human10-20.png   \n",
      "  inflating: humans/human10-21.png   \n",
      "  inflating: humans/human10-22.png   \n",
      "  inflating: humans/human10-23.png   \n",
      "  inflating: humans/human10-24.png   \n",
      "  inflating: humans/human10-25.png   \n",
      "  inflating: humans/human10-26.png   \n",
      "  inflating: humans/human10-27.png   \n",
      "  inflating: humans/human10-28.png   \n",
      "  inflating: humans/human10-29.png   \n",
      "  inflating: humans/human10-30.png   \n",
      "  inflating: humans/human11-00.png   \n",
      "  inflating: humans/human11-01.png   \n",
      "  inflating: humans/human11-02.png   \n",
      "  inflating: humans/human11-03.png   \n",
      "  inflating: humans/human11-04.png   \n",
      "  inflating: humans/human11-05.png   \n",
      "  inflating: humans/human11-06.png   \n",
      "  inflating: humans/human11-07.png   \n",
      "  inflating: humans/human11-08.png   \n",
      "  inflating: humans/human11-09.png   \n",
      "  inflating: humans/human11-10.png   \n",
      "  inflating: humans/human11-11.png   \n",
      "  inflating: humans/human11-12.png   \n",
      "  inflating: humans/human11-13.png   \n",
      "  inflating: humans/human11-14.png   \n",
      "  inflating: humans/human11-15.png   \n",
      "  inflating: humans/human11-16.png   \n",
      "  inflating: humans/human11-17.png   \n",
      "  inflating: humans/human11-18.png   \n",
      "  inflating: humans/human11-19.png   \n",
      "  inflating: humans/human11-20.png   \n",
      "  inflating: humans/human11-21.png   \n",
      "  inflating: humans/human11-22.png   \n",
      "  inflating: humans/human11-23.png   \n",
      "  inflating: humans/human11-24.png   \n",
      "  inflating: humans/human11-25.png   \n",
      "  inflating: humans/human11-26.png   \n",
      "  inflating: humans/human11-27.png   \n",
      "  inflating: humans/human11-28.png   \n",
      "  inflating: humans/human11-29.png   \n",
      "  inflating: humans/human11-30.png   \n",
      "  inflating: humans/human12-00.png   \n",
      "  inflating: humans/human12-01.png   \n",
      "  inflating: humans/human12-02.png   \n",
      "  inflating: humans/human12-03.png   \n",
      "  inflating: humans/human12-04.png   \n",
      "  inflating: humans/human12-05.png   \n",
      "  inflating: humans/human12-06.png   \n",
      "  inflating: humans/human12-07.png   \n",
      "  inflating: humans/human12-08.png   \n",
      "  inflating: humans/human12-09.png   \n",
      "  inflating: humans/human12-10.png   \n",
      "  inflating: humans/human12-11.png   \n",
      "  inflating: humans/human12-12.png   \n",
      "  inflating: humans/human12-13.png   \n",
      "  inflating: humans/human12-14.png   \n",
      "  inflating: humans/human12-15.png   \n",
      "  inflating: humans/human12-16.png   \n",
      "  inflating: humans/human12-17.png   \n",
      "  inflating: humans/human12-18.png   \n",
      "  inflating: humans/human12-19.png   \n",
      "  inflating: humans/human12-20.png   \n",
      "  inflating: humans/human12-21.png   \n",
      "  inflating: humans/human12-22.png   \n",
      "  inflating: humans/human12-23.png   \n",
      "  inflating: humans/human12-24.png   \n",
      "  inflating: humans/human12-25.png   \n",
      "  inflating: humans/human12-26.png   \n",
      "  inflating: humans/human12-27.png   \n",
      "  inflating: humans/human12-28.png   \n",
      "  inflating: humans/human12-29.png   \n",
      "  inflating: humans/human12-30.png   \n",
      "  inflating: humans/human13-00.png   \n",
      "  inflating: humans/human13-01.png   \n",
      "  inflating: humans/human13-02.png   \n",
      "  inflating: humans/human13-03.png   \n",
      "  inflating: humans/human13-04.png   \n",
      "  inflating: humans/human13-05.png   \n",
      "  inflating: humans/human13-06.png   \n",
      "  inflating: humans/human13-07.png   \n",
      "  inflating: humans/human13-08.png   \n",
      "  inflating: humans/human13-09.png   \n",
      "  inflating: humans/human13-10.png   \n",
      "  inflating: humans/human13-11.png   \n",
      "  inflating: humans/human13-12.png   \n",
      "  inflating: humans/human13-13.png   \n",
      "  inflating: humans/human13-14.png   \n",
      "  inflating: humans/human13-15.png   \n",
      "  inflating: humans/human13-16.png   \n",
      "  inflating: humans/human13-17.png   \n",
      "  inflating: humans/human13-18.png   \n",
      "  inflating: humans/human13-19.png   \n",
      "  inflating: humans/human13-20.png   \n",
      "  inflating: humans/human13-21.png   \n",
      "  inflating: humans/human13-22.png   \n",
      "  inflating: humans/human13-23.png   \n",
      "  inflating: humans/human13-24.png   \n",
      "  inflating: humans/human13-25.png   \n",
      "  inflating: humans/human13-26.png   \n",
      "  inflating: humans/human13-27.png   \n",
      "  inflating: humans/human13-28.png   \n",
      "  inflating: humans/human13-29.png   \n",
      "  inflating: humans/human13-30.png   \n",
      "  inflating: humans/human14-00.png   \n",
      "  inflating: humans/human14-01.png   \n",
      "  inflating: humans/human14-02.png   \n",
      "  inflating: humans/human14-03.png   \n",
      "  inflating: humans/human14-04.png   \n",
      "  inflating: humans/human14-05.png   \n",
      "  inflating: humans/human14-06.png   \n",
      "  inflating: humans/human14-07.png   \n",
      "  inflating: humans/human14-08.png   \n",
      "  inflating: humans/human14-09.png   \n",
      "  inflating: humans/human14-10.png   \n",
      "  inflating: humans/human14-11.png   \n",
      "  inflating: humans/human14-12.png   \n",
      "  inflating: humans/human14-13.png   \n",
      "  inflating: humans/human14-14.png   \n",
      "  inflating: humans/human14-15.png   \n",
      "  inflating: humans/human14-16.png   \n",
      "  inflating: humans/human14-17.png   \n",
      "  inflating: humans/human14-18.png   \n",
      "  inflating: humans/human14-19.png   \n",
      "  inflating: humans/human14-20.png   \n",
      "  inflating: humans/human14-21.png   \n",
      "  inflating: humans/human14-22.png   \n",
      "  inflating: humans/human14-23.png   \n",
      "  inflating: humans/human14-24.png   \n",
      "  inflating: humans/human14-25.png   \n",
      "  inflating: humans/human14-26.png   \n",
      "  inflating: humans/human14-27.png   \n",
      "  inflating: humans/human14-28.png   \n",
      "  inflating: humans/human14-29.png   \n",
      "  inflating: humans/human14-30.png   \n",
      "  inflating: humans/human15-00.png   \n",
      "  inflating: humans/human15-01.png   \n",
      "  inflating: humans/human15-02.png   \n",
      "  inflating: humans/human15-03.png   \n",
      "  inflating: humans/human15-04.png   \n",
      "  inflating: humans/human15-05.png   \n",
      "  inflating: humans/human15-06.png   \n",
      "  inflating: humans/human15-07.png   \n",
      "  inflating: humans/human15-08.png   \n",
      "  inflating: humans/human15-09.png   \n",
      "  inflating: humans/human15-10.png   \n",
      "  inflating: humans/human15-11.png   \n",
      "  inflating: humans/human15-12.png   \n",
      "  inflating: humans/human15-13.png   \n",
      "  inflating: humans/human15-14.png   \n",
      "  inflating: humans/human15-15.png   \n",
      "  inflating: humans/human15-16.png   \n",
      "  inflating: humans/human15-17.png   \n",
      "  inflating: humans/human15-18.png   \n",
      "  inflating: humans/human15-19.png   \n",
      "  inflating: humans/human15-20.png   \n",
      "  inflating: humans/human15-21.png   \n",
      "  inflating: humans/human15-22.png   \n",
      "  inflating: humans/human15-23.png   \n",
      "  inflating: humans/human15-24.png   \n",
      "  inflating: humans/human15-25.png   \n",
      "  inflating: humans/human15-26.png   \n",
      "  inflating: humans/human15-27.png   \n",
      "  inflating: humans/human15-28.png   \n",
      "  inflating: humans/human15-29.png   \n",
      "  inflating: humans/human15-30.png   \n",
      "  inflating: humans/human16-00.png   \n",
      "  inflating: humans/human16-01.png   \n",
      "  inflating: humans/human16-02.png   \n",
      "  inflating: humans/human16-03.png   \n",
      "  inflating: humans/human16-04.png   \n",
      "  inflating: humans/human16-05.png   \n",
      "  inflating: humans/human16-06.png   \n",
      "  inflating: humans/human16-07.png   \n",
      "  inflating: humans/human16-08.png   \n",
      "  inflating: humans/human16-09.png   \n",
      "  inflating: humans/human16-10.png   \n",
      "  inflating: humans/human16-11.png   \n",
      "  inflating: humans/human16-12.png   \n",
      "  inflating: humans/human16-13.png   \n",
      "  inflating: humans/human16-14.png   \n",
      "  inflating: humans/human16-15.png   \n",
      "  inflating: humans/human16-16.png   \n",
      "  inflating: humans/human16-17.png   \n",
      "  inflating: humans/human16-18.png   \n",
      "  inflating: humans/human16-19.png   \n",
      "  inflating: humans/human16-20.png   \n",
      "  inflating: humans/human16-21.png   \n",
      "  inflating: humans/human16-22.png   \n",
      "  inflating: humans/human16-23.png   \n",
      "  inflating: humans/human16-24.png   \n",
      "  inflating: humans/human16-25.png   \n",
      "  inflating: humans/human16-26.png   \n",
      "  inflating: humans/human16-27.png   \n",
      "  inflating: humans/human16-28.png   \n",
      "  inflating: humans/human16-29.png   \n",
      "  inflating: humans/human16-30.png   \n",
      "  inflating: humans/human17-00.png   \n",
      "  inflating: humans/human17-01.png   \n",
      "  inflating: humans/human17-02.png   \n",
      "  inflating: humans/human17-03.png   \n",
      "  inflating: humans/human17-04.png   \n",
      "  inflating: humans/human17-05.png   \n",
      "  inflating: humans/human17-06.png   \n",
      "  inflating: humans/human17-07.png   \n",
      "  inflating: humans/human17-08.png   \n",
      "  inflating: humans/human17-09.png   \n",
      "  inflating: humans/human17-10.png   \n",
      "  inflating: humans/human17-11.png   \n",
      "  inflating: humans/human17-12.png   \n",
      "  inflating: humans/human17-13.png   \n",
      "  inflating: humans/human17-14.png   \n",
      "  inflating: humans/human17-15.png   \n",
      "  inflating: humans/human17-16.png   \n",
      "  inflating: humans/human17-17.png   \n",
      "  inflating: humans/human17-18.png   \n",
      "  inflating: humans/human17-19.png   \n",
      "  inflating: humans/human17-20.png   \n",
      "  inflating: humans/human17-21.png   \n",
      "  inflating: humans/human17-22.png   \n",
      "  inflating: humans/human17-23.png   \n",
      "  inflating: humans/human17-24.png   \n",
      "  inflating: humans/human17-25.png   \n",
      "  inflating: humans/human17-26.png   \n",
      "  inflating: humans/human17-27.png   \n",
      "  inflating: humans/human17-28.png   \n",
      "  inflating: humans/human17-29.png   \n",
      "  inflating: humans/human17-30.png   \n"
     ]
    }
   ],
   "source": [
    "!unzip horse-or-human.zip"
   ]
  },
  {
   "cell_type": "markdown",
   "metadata": {
    "colab_type": "text",
    "id": "U8bQos24yTAu"
   },
   "source": [
    "As you can see, here we don't have any labels. We have almost raw data. Now in order to train with keras, we need to make some directories and sub-directories.  "
   ]
  },
  {
   "cell_type": "code",
   "execution_count": null,
   "metadata": {
    "colab": {},
    "colab_type": "code",
    "id": "B-zFQFJNx18h"
   },
   "outputs": [],
   "source": [
    "!mkdir Train\n",
    "!mkdir Train/horses\n",
    "!mkdir Train/humans\n",
    "!mkdir Val\n",
    "!mkdir Val/horses\n",
    "!mkdir Val/humans"
   ]
  },
  {
   "cell_type": "markdown",
   "metadata": {
    "colab_type": "text",
    "id": "bgGYGGeL4jgv"
   },
   "source": [
    "Here, we need to write a python code to give us a list of images names in each sub-directories. It is hard to do something like this by hand. OS is a library which can help us to see what is in a special directory. "
   ]
  },
  {
   "cell_type": "code",
   "execution_count": null,
   "metadata": {
    "colab": {
     "base_uri": "https://localhost:8080/",
     "height": 104
    },
    "colab_type": "code",
    "id": "02xz7e-Myvhz",
    "outputId": "ceddb6cb-1274-4e3b-ed87-ab48cf102d65"
   },
   "outputs": [
    {
     "name": "stdout",
     "output_type": "stream",
     "text": [
      "500\n",
      "['horse43-0.png', 'horse27-2.png', 'horse21-4.png', 'horse11-7.png', 'horse34-5.png', 'horse03-6.png', 'horse33-7.png', 'horse01-5.png', 'horse46-0.png', 'horse34-7.png']\n",
      "527\n",
      "['human10-08.png', 'human11-06.png', 'human07-01.png', 'human09-21.png', 'human17-30.png', 'human03-11.png', 'human08-19.png', 'human01-16.png', 'human07-07.png', 'human11-16.png']\n"
     ]
    }
   ],
   "source": [
    "import os\n",
    "path1=\"/content/horses/\"\n",
    "path2=\"/content/humans/\"\n",
    "horses_names=os.listdir(path1)\n",
    "human_names=os.listdir(path2)\n",
    "print(len(horses_names))\n",
    "print(horses_names[0:10])\n",
    "print(len(human_names))\n",
    "print(human_names[0:10])"
   ]
  },
  {
   "cell_type": "code",
   "execution_count": null,
   "metadata": {
    "colab": {
     "base_uri": "https://localhost:8080/",
     "height": 34
    },
    "colab_type": "code",
    "id": "370W8eS4kS95",
    "outputId": "68156966-88c2-4748-9d46-139fdca984be"
   },
   "outputs": [
    {
     "data": {
      "text/plain": [
       "'/content/humans/human10-08.png'"
      ]
     },
     "execution_count": 5,
     "metadata": {
      "tags": []
     },
     "output_type": "execute_result"
    }
   ],
   "source": [
    "path2+human_names[0]"
   ]
  },
  {
   "cell_type": "markdown",
   "metadata": {
    "colab_type": "text",
    "id": "YicSlFUw4blI"
   },
   "source": [
    "We can plot some of images as examples to see what is in this dataset:"
   ]
  },
  {
   "cell_type": "code",
   "execution_count": null,
   "metadata": {
    "colab": {
     "base_uri": "https://localhost:8080/",
     "height": 286
    },
    "colab_type": "code",
    "id": "1p3gtBWE2iSd",
    "outputId": "d988b8fb-52b9-49fa-d4e9-86a581096eef"
   },
   "outputs": [
    {
     "data": {
      "text/plain": [
       "<matplotlib.image.AxesImage at 0x7faf084ae390>"
      ]
     },
     "execution_count": 8,
     "metadata": {
      "tags": []
     },
     "output_type": "execute_result"
    },
    {
     "data": {
      "image/png": "[encoded data removed]",
      "text/plain": [
       "<Figure size 432x288 with 4 Axes>"
      ]
     },
     "metadata": {
      "needs_background": "light",
      "tags": []
     },
     "output_type": "display_data"
    }
   ],
   "source": [
    "%matplotlib inline\n",
    "import matplotlib.pyplot as plt\n",
    "import cv2\n",
    "import numpy as np\n",
    "f, axarr = plt.subplots(2,2)\n",
    "img1=(cv2.imread(path2+human_names[0]))\n",
    "img2=(cv2.imread(path2+human_names[1]))\n",
    "img3=(cv2.imread(path1+horses_names[0]))\n",
    "img4=(cv2.imread(path1+horses_names[1]))\n",
    "\n",
    "img1=cv2.cvtColor(img1,cv2.COLOR_BGR2RGB)\n",
    "img2=cv2.cvtColor(img2,cv2.COLOR_BGR2RGB)\n",
    "img3=cv2.cvtColor(img3,cv2.COLOR_BGR2RGB)\n",
    "img4=cv2.cvtColor(img4,cv2.COLOR_BGR2RGB)\n",
    "\n",
    "axarr[0,0].imshow(img1)\n",
    "axarr[0,1].imshow(img2)\n",
    "axarr[1,0].imshow(img3)\n",
    "axarr[1,1].imshow(img4)"
   ]
  },
  {
   "cell_type": "markdown",
   "metadata": {
    "colab_type": "text",
    "id": "bUzJiVwO430-"
   },
   "source": [
    "It's time to write another python code to split data into train and validation and move them to sub-directories. "
   ]
  },
  {
   "cell_type": "code",
   "execution_count": null,
   "metadata": {
    "colab": {},
    "colab_type": "code",
    "id": "_xSbWzvZzeuN"
   },
   "outputs": [],
   "source": [
    "import shutil\n",
    "train_rate=0.7\n",
    "\n",
    "train_num_horses=int(train_rate*len(horses_names))\n",
    "train_num_humans=int(train_rate*len(human_names))\n",
    "\n",
    "for i in range(len(horses_names)):\n",
    "  if i<train_num_horses:\n",
    "    shutil.move('horses/'+horses_names[i],'Train/horses/'+horses_names[i])\n",
    "  else:\n",
    "    shutil.move('horses/'+horses_names[i],'Val/horses/'+horses_names[i])\n",
    "\n",
    "for i in range(len(human_names)):\n",
    "  if i<train_num_humans:\n",
    "    shutil.move('humans/'+human_names[i],'Train/humans/'+human_names[i])\n",
    "  else:\n",
    "    shutil.move('humans/'+human_names[i],'Val/humans/'+human_names[i])\n",
    "  "
   ]
  },
  {
   "cell_type": "markdown",
   "metadata": {
    "colab_type": "text",
    "id": "5oqBkNBJmtUv"
   },
   "source": [
    "## Building a Small Model from Scratch\n",
    "\n",
    "But before we continue, let's start defining the model:\n",
    "\n",
    "Step 1 will be to import tensorflow."
   ]
  },
  {
   "cell_type": "code",
   "execution_count": null,
   "metadata": {
    "colab": {},
    "colab_type": "code",
    "id": "qvfZg3LQbD-5"
   },
   "outputs": [],
   "source": [
    "import tensorflow as tf"
   ]
  },
  {
   "cell_type": "markdown",
   "metadata": {
    "colab_type": "text",
    "id": "BnhYCP4tdqjC"
   },
   "source": [
    "We then add convolutional layers as in the previous example, and flatten the final result to feed into the densely connected layers."
   ]
  },
  {
   "cell_type": "markdown",
   "metadata": {
    "colab_type": "text",
    "id": "gokG5HKpdtzm"
   },
   "source": [
    "Finally we add the densely connected layers. \n",
    "\n",
    "Note that because we are facing a two-class classification problem, i.e. a *binary classification problem*, we will end our network with a [*sigmoid* activation](https://wikipedia.org/wiki/Sigmoid_function), so that the output of our network will be a single scalar between 0 and 1, encoding the probability that the current image is class 1 (as opposed to class 0)."
   ]
  },
  {
   "cell_type": "code",
   "execution_count": null,
   "metadata": {
    "colab": {},
    "colab_type": "code",
    "id": "PixZ2s5QbYQ3"
   },
   "outputs": [],
   "source": [
    "model = tf.keras.models.Sequential([\n",
    "    # Note the input shape is the desired size of the image 300x300 with 3 bytes color\n",
    "    # This is the first convolution\n",
    "    tf.keras.layers.Conv2D(16, (3,3), activation='relu',padding='same', input_shape=(300, 300, 3)),\n",
    "    tf.keras.layers.MaxPooling2D(2, 2),\n",
    "    # The second convolution\n",
    "    tf.keras.layers.Conv2D(32, (3,3), activation='relu',padding='same'),\n",
    "    tf.keras.layers.MaxPooling2D(2,2),\n",
    "    # The third convolution\n",
    "    tf.keras.layers.Conv2D(64, (3,3), activation='relu',padding='same'),\n",
    "    tf.keras.layers.MaxPooling2D(2,2),\n",
    "    # The fourth convolution\n",
    "    tf.keras.layers.Conv2D(64, (3,3), activation='relu',padding='same'),\n",
    "    tf.keras.layers.MaxPooling2D(2,2),\n",
    "    # The fifth convolution\n",
    "    tf.keras.layers.Conv2D(64, (3,3), activation='relu',padding='same'),\n",
    "    tf.keras.layers.MaxPooling2D(2,2),\n",
    "    # Flatten the results to feed into a DNN\n",
    "    tf.keras.layers.Flatten(),\n",
    "    # 512 neuron hidden layer\n",
    "    tf.keras.layers.Dense(512, activation='relu'),\n",
    "    # Only 1 output neuron. It will contain a value from 0-1 where 0 for 1 class ('horses') and 1 for the other ('humans')\n",
    "    tf.keras.layers.Dense(1, activation='sigmoid')\n",
    "])"
   ]
  },
  {
   "cell_type": "markdown",
   "metadata": {
    "colab_type": "text",
    "id": "s9EaFDP5srBa"
   },
   "source": [
    "The model.summary() method call prints a summary of the NN "
   ]
  },
  {
   "cell_type": "code",
   "execution_count": null,
   "metadata": {
    "colab": {
     "base_uri": "https://localhost:8080/",
     "height": 588
    },
    "colab_type": "code",
    "id": "7ZKj8392nbgP",
    "outputId": "7b4c5c8a-f243-4bc5-8547-42350410bd72"
   },
   "outputs": [
    {
     "name": "stdout",
     "output_type": "stream",
     "text": [
      "Model: \"sequential\"\n",
      "_________________________________________________________________\n",
      "Layer (type)                 Output Shape              Param #   \n",
      "=================================================================\n",
      "conv2d (Conv2D)              (None, 300, 300, 16)      448       \n",
      "_________________________________________________________________\n",
      "max_pooling2d (MaxPooling2D) (None, 150, 150, 16)      0         \n",
      "_________________________________________________________________\n",
      "conv2d_1 (Conv2D)            (None, 150, 150, 32)      4640      \n",
      "_________________________________________________________________\n",
      "max_pooling2d_1 (MaxPooling2 (None, 75, 75, 32)        0         \n",
      "_________________________________________________________________\n",
      "conv2d_2 (Conv2D)            (None, 75, 75, 64)        18496     \n",
      "_________________________________________________________________\n",
      "max_pooling2d_2 (MaxPooling2 (None, 37, 37, 64)        0         \n",
      "_________________________________________________________________\n",
      "conv2d_3 (Conv2D)            (None, 37, 37, 64)        36928     \n",
      "_________________________________________________________________\n",
      "max_pooling2d_3 (MaxPooling2 (None, 18, 18, 64)        0         \n",
      "_________________________________________________________________\n",
      "conv2d_4 (Conv2D)            (None, 18, 18, 64)        36928     \n",
      "_________________________________________________________________\n",
      "max_pooling2d_4 (MaxPooling2 (None, 9, 9, 64)          0         \n",
      "_________________________________________________________________\n",
      "flatten (Flatten)            (None, 5184)              0         \n",
      "_________________________________________________________________\n",
      "dense (Dense)                (None, 512)               2654720   \n",
      "_________________________________________________________________\n",
      "dense_1 (Dense)              (None, 1)                 513       \n",
      "=================================================================\n",
      "Total params: 2,752,673\n",
      "Trainable params: 2,752,673\n",
      "Non-trainable params: 0\n",
      "_________________________________________________________________\n"
     ]
    }
   ],
   "source": [
    "model.summary()\n"
   ]
  },
  {
   "cell_type": "markdown",
   "metadata": {
    "colab_type": "text",
    "id": "DmtkTn06pKxF"
   },
   "source": [
    "The \"output shape\" column shows how the size of your feature map evolves in each successive layer. The convolution layers reduce the size of the feature maps by a bit due to padding, and each pooling layer halves the dimensions."
   ]
  },
  {
   "cell_type": "markdown",
   "metadata": {
    "colab_type": "text",
    "id": "PEkKSpZlvJXA"
   },
   "source": [
    "Next, we'll configure the specifications for model training. We will train our model with the `binary_crossentropy` loss, because it's a binary classification problem and our final activation is a sigmoid. (For a refresher on loss metrics, see the [Machine Learning Crash Course](https://developers.google.com/machine-learning/crash-course/descending-into-ml/video-lecture).) We will use the `rmsprop` optimizer with a learning rate of `0.001`. During training, we will want to monitor classification accuracy.\n",
    "\n",
    "**NOTE**: In this case, using the [RMSprop optimization algorithm](https://wikipedia.org/wiki/Stochastic_gradient_descent#RMSProp) is preferable to [stochastic gradient descent](https://developers.google.com/machine-learning/glossary/#SGD) (SGD), because RMSprop automates learning-rate tuning for us. (Other optimizers, such as [Adam](https://wikipedia.org/wiki/Stochastic_gradient_descent#Adam) and [Adagrad](https://developers.google.com/machine-learning/glossary/#AdaGrad), also automatically adapt the learning rate during training, and would work equally well here.)"
   ]
  },
  {
   "cell_type": "code",
   "execution_count": null,
   "metadata": {
    "colab": {},
    "colab_type": "code",
    "id": "8DHWhFP_uhq3"
   },
   "outputs": [],
   "source": [
    "from tensorflow.keras.optimizers import RMSprop\n",
    "\n",
    "model.compile(loss='binary_crossentropy',\n",
    "              optimizer=RMSprop(lr=0.001),\n",
    "              metrics=['acc'])"
   ]
  },
  {
   "cell_type": "markdown",
   "metadata": {
    "colab_type": "text",
    "id": "Sn9m9D3UimHM"
   },
   "source": [
    "### Data Preprocessing\n",
    "\n",
    "Let's set up data generators that will read pictures in our source folders, convert them to `float32` tensors, and feed them (with their labels) to our network. We'll have one generator for the training images and one for the validation images. Our generators will yield batches of images of size 300x300 and their labels (binary).\n",
    "\n",
    "As you may already know, data that goes into neural networks should usually be normalized in some way to make it more amenable to processing by the network. (It is uncommon to feed raw pixels into a convnet.) In our case, we will preprocess our images by normalizing the pixel values to be in the `[0, 1]` range (originally all values are in the `[0, 255]` range).\n",
    "\n",
    "In Keras this can be done via the `keras.preprocessing.image.ImageDataGenerator` class using the `rescale` parameter. This `ImageDataGenerator` class allows you to instantiate generators of augmented image batches (and their labels) via `.flow(data, labels)` or `.flow_from_directory(directory)`. These generators can then be used with the Keras model methods that accept data generators as inputs: `fit_generator`, `evaluate_generator`, and `predict_generator`."
   ]
  },
  {
   "cell_type": "code",
   "execution_count": null,
   "metadata": {
    "colab": {
     "base_uri": "https://localhost:8080/",
     "height": 50
    },
    "colab_type": "code",
    "id": "ClebU9NJg99G",
    "outputId": "85606382-6d2d-45e5-c88a-b7939e0eaae2"
   },
   "outputs": [
    {
     "name": "stdout",
     "output_type": "stream",
     "text": [
      "Found 718 images belonging to 2 classes.\n",
      "Found 309 images belonging to 2 classes.\n"
     ]
    }
   ],
   "source": [
    "from tensorflow.keras.preprocessing.image import ImageDataGenerator\n",
    "\n",
    "datagen = ImageDataGenerator(\n",
    "        rescale=1./255,\n",
    "        shear_range=0.2,\n",
    "        zoom_range=0.2,\n",
    "        horizontal_flip=True,\n",
    "        vertical_flip=True,\n",
    "        rotation_range=20,\n",
    "        width_shift_range=0.2,\n",
    "        height_shift_range=0.2,\n",
    ")\n",
    "train_batch=128\n",
    "val_batch  =32\n",
    "# Flow training images in batches of 128 using train_datagen generator\n",
    "train_generator = datagen.flow_from_directory(\n",
    "        'Train/',  # This is the source directory for training images\n",
    "        target_size=(300, 300),  # All images will be resized to 150x150\n",
    "        batch_size=train_batch,\n",
    "        # Since we use binary_crossentropy loss, we need binary labels. In case of categorical we can set class_mode='categorical'\n",
    "        class_mode='binary') \n",
    "# Flow training images in batches of 128 using train_datagen generator\n",
    "val_generator = datagen.flow_from_directory(\n",
    "        'Val/',  # This is the source directory for training images\n",
    "        target_size=(300, 300),  # All images will be resized to 150x150\n",
    "        batch_size=val_batch,\n",
    "        # Since we use binary_crossentropy loss, we need binary labels\n",
    "        class_mode='binary') \n"
   ]
  },
  {
   "cell_type": "markdown",
   "metadata": {
    "colab_type": "text",
    "id": "mu3Jdwkjwax4"
   },
   "source": [
    "### Training\n",
    "Let's train for 8 epochs -- this may take a few minutes to run.\n",
    "\n",
    "Do note the values per epoch.\n",
    "\n",
    "The Loss and Accuracy are a great indication of progress of training. It's making a guess as to the classification of the training data, and then measuring it against the known label, calculating the result. Accuracy is the portion of correct guesses. "
   ]
  },
  {
   "cell_type": "code",
   "execution_count": null,
   "metadata": {
    "colab": {
     "base_uri": "https://localhost:8080/",
     "height": 354
    },
    "colab_type": "code",
    "id": "Fb1_lgobv81m",
    "outputId": "335dd8d8-a59f-45d7-8b8b-6eda73b26b52"
   },
   "outputs": [
    {
     "name": "stdout",
     "output_type": "stream",
     "text": [
      "      2/Unknown - 0s 110ms/step - loss: 3.2866 - acc: 0.5156"
     ]
    },
    {
     "ename": "KeyboardInterrupt",
     "evalue": "ignored",
     "output_type": "error",
     "traceback": [
      "\u001b[0;31m---------------------------------------------------------------------------\u001b[0m",
      "\u001b[0;31mKeyboardInterrupt\u001b[0m                         Traceback (most recent call last)",
      "\u001b[0;32m<ipython-input-16-f4e919d3eb79>\u001b[0m in \u001b[0;36m<module>\u001b[0;34m()\u001b[0m\n\u001b[1;32m      3\u001b[0m       \u001b[0mvalidation_data\u001b[0m  \u001b[0;34m=\u001b[0m \u001b[0mval_generator\u001b[0m\u001b[0;34m,\u001b[0m\u001b[0;34m\u001b[0m\u001b[0;34m\u001b[0m\u001b[0m\n\u001b[1;32m      4\u001b[0m       \u001b[0mepochs\u001b[0m\u001b[0;34m=\u001b[0m\u001b[0;36m1\u001b[0m\u001b[0;34m,\u001b[0m\u001b[0;34m\u001b[0m\u001b[0;34m\u001b[0m\u001b[0m\n\u001b[0;32m----> 5\u001b[0;31m       verbose=1)\n\u001b[0m",
      "\u001b[0;32m/usr/local/lib/python3.6/dist-packages/tensorflow/python/keras/engine/training.py\u001b[0m in \u001b[0;36m_method_wrapper\u001b[0;34m(self, *args, **kwargs)\u001b[0m\n\u001b[1;32m     64\u001b[0m   \u001b[0;32mdef\u001b[0m \u001b[0m_method_wrapper\u001b[0m\u001b[0;34m(\u001b[0m\u001b[0mself\u001b[0m\u001b[0;34m,\u001b[0m \u001b[0;34m*\u001b[0m\u001b[0margs\u001b[0m\u001b[0;34m,\u001b[0m \u001b[0;34m**\u001b[0m\u001b[0mkwargs\u001b[0m\u001b[0;34m)\u001b[0m\u001b[0;34m:\u001b[0m\u001b[0;34m\u001b[0m\u001b[0;34m\u001b[0m\u001b[0m\n\u001b[1;32m     65\u001b[0m     \u001b[0;32mif\u001b[0m \u001b[0;32mnot\u001b[0m \u001b[0mself\u001b[0m\u001b[0;34m.\u001b[0m\u001b[0m_in_multi_worker_mode\u001b[0m\u001b[0;34m(\u001b[0m\u001b[0;34m)\u001b[0m\u001b[0;34m:\u001b[0m  \u001b[0;31m# pylint: disable=protected-access\u001b[0m\u001b[0;34m\u001b[0m\u001b[0;34m\u001b[0m\u001b[0m\n\u001b[0;32m---> 66\u001b[0;31m       \u001b[0;32mreturn\u001b[0m \u001b[0mmethod\u001b[0m\u001b[0;34m(\u001b[0m\u001b[0mself\u001b[0m\u001b[0;34m,\u001b[0m \u001b[0;34m*\u001b[0m\u001b[0margs\u001b[0m\u001b[0;34m,\u001b[0m \u001b[0;34m**\u001b[0m\u001b[0mkwargs\u001b[0m\u001b[0;34m)\u001b[0m\u001b[0;34m\u001b[0m\u001b[0;34m\u001b[0m\u001b[0m\n\u001b[0m\u001b[1;32m     67\u001b[0m \u001b[0;34m\u001b[0m\u001b[0m\n\u001b[1;32m     68\u001b[0m     \u001b[0;31m# Running inside `run_distribute_coordinator` already.\u001b[0m\u001b[0;34m\u001b[0m\u001b[0;34m\u001b[0m\u001b[0;34m\u001b[0m\u001b[0m\n",
      "\u001b[0;32m/usr/local/lib/python3.6/dist-packages/tensorflow/python/keras/engine/training.py\u001b[0m in \u001b[0;36mfit\u001b[0;34m(self, x, y, batch_size, epochs, verbose, callbacks, validation_split, validation_data, shuffle, class_weight, sample_weight, initial_epoch, steps_per_epoch, validation_steps, validation_batch_size, validation_freq, max_queue_size, workers, use_multiprocessing)\u001b[0m\n\u001b[1;32m    846\u001b[0m                 batch_size=batch_size):\n\u001b[1;32m    847\u001b[0m               \u001b[0mcallbacks\u001b[0m\u001b[0;34m.\u001b[0m\u001b[0mon_train_batch_begin\u001b[0m\u001b[0;34m(\u001b[0m\u001b[0mstep\u001b[0m\u001b[0;34m)\u001b[0m\u001b[0;34m\u001b[0m\u001b[0;34m\u001b[0m\u001b[0m\n\u001b[0;32m--> 848\u001b[0;31m               \u001b[0mtmp_logs\u001b[0m \u001b[0;34m=\u001b[0m \u001b[0mtrain_function\u001b[0m\u001b[0;34m(\u001b[0m\u001b[0miterator\u001b[0m\u001b[0;34m)\u001b[0m\u001b[0;34m\u001b[0m\u001b[0;34m\u001b[0m\u001b[0m\n\u001b[0m\u001b[1;32m    849\u001b[0m               \u001b[0;31m# Catch OutOfRangeError for Datasets of unknown size.\u001b[0m\u001b[0;34m\u001b[0m\u001b[0;34m\u001b[0m\u001b[0;34m\u001b[0m\u001b[0m\n\u001b[1;32m    850\u001b[0m               \u001b[0;31m# This blocks until the batch has finished executing.\u001b[0m\u001b[0;34m\u001b[0m\u001b[0;34m\u001b[0m\u001b[0;34m\u001b[0m\u001b[0m\n",
      "\u001b[0;32m/usr/local/lib/python3.6/dist-packages/tensorflow/python/eager/def_function.py\u001b[0m in \u001b[0;36m__call__\u001b[0;34m(self, *args, **kwds)\u001b[0m\n\u001b[1;32m    578\u001b[0m         \u001b[0mxla_context\u001b[0m\u001b[0;34m.\u001b[0m\u001b[0mExit\u001b[0m\u001b[0;34m(\u001b[0m\u001b[0;34m)\u001b[0m\u001b[0;34m\u001b[0m\u001b[0;34m\u001b[0m\u001b[0m\n\u001b[1;32m    579\u001b[0m     \u001b[0;32melse\u001b[0m\u001b[0;34m:\u001b[0m\u001b[0;34m\u001b[0m\u001b[0;34m\u001b[0m\u001b[0m\n\u001b[0;32m--> 580\u001b[0;31m       \u001b[0mresult\u001b[0m \u001b[0;34m=\u001b[0m \u001b[0mself\u001b[0m\u001b[0;34m.\u001b[0m\u001b[0m_call\u001b[0m\u001b[0;34m(\u001b[0m\u001b[0;34m*\u001b[0m\u001b[0margs\u001b[0m\u001b[0;34m,\u001b[0m \u001b[0;34m**\u001b[0m\u001b[0mkwds\u001b[0m\u001b[0;34m)\u001b[0m\u001b[0;34m\u001b[0m\u001b[0;34m\u001b[0m\u001b[0m\n\u001b[0m\u001b[1;32m    581\u001b[0m \u001b[0;34m\u001b[0m\u001b[0m\n\u001b[1;32m    582\u001b[0m     \u001b[0;32mif\u001b[0m \u001b[0mtracing_count\u001b[0m \u001b[0;34m==\u001b[0m \u001b[0mself\u001b[0m\u001b[0;34m.\u001b[0m\u001b[0m_get_tracing_count\u001b[0m\u001b[0;34m(\u001b[0m\u001b[0;34m)\u001b[0m\u001b[0;34m:\u001b[0m\u001b[0;34m\u001b[0m\u001b[0;34m\u001b[0m\u001b[0m\n",
      "\u001b[0;32m/usr/local/lib/python3.6/dist-packages/tensorflow/python/eager/def_function.py\u001b[0m in \u001b[0;36m_call\u001b[0;34m(self, *args, **kwds)\u001b[0m\n\u001b[1;32m    609\u001b[0m       \u001b[0;31m# In this case we have created variables on the first call, so we run the\u001b[0m\u001b[0;34m\u001b[0m\u001b[0;34m\u001b[0m\u001b[0;34m\u001b[0m\u001b[0m\n\u001b[1;32m    610\u001b[0m       \u001b[0;31m# defunned version which is guaranteed to never create variables.\u001b[0m\u001b[0;34m\u001b[0m\u001b[0;34m\u001b[0m\u001b[0;34m\u001b[0m\u001b[0m\n\u001b[0;32m--> 611\u001b[0;31m       \u001b[0;32mreturn\u001b[0m \u001b[0mself\u001b[0m\u001b[0;34m.\u001b[0m\u001b[0m_stateless_fn\u001b[0m\u001b[0;34m(\u001b[0m\u001b[0;34m*\u001b[0m\u001b[0margs\u001b[0m\u001b[0;34m,\u001b[0m \u001b[0;34m**\u001b[0m\u001b[0mkwds\u001b[0m\u001b[0;34m)\u001b[0m  \u001b[0;31m# pylint: disable=not-callable\u001b[0m\u001b[0;34m\u001b[0m\u001b[0;34m\u001b[0m\u001b[0m\n\u001b[0m\u001b[1;32m    612\u001b[0m     \u001b[0;32melif\u001b[0m \u001b[0mself\u001b[0m\u001b[0;34m.\u001b[0m\u001b[0m_stateful_fn\u001b[0m \u001b[0;32mis\u001b[0m \u001b[0;32mnot\u001b[0m \u001b[0;32mNone\u001b[0m\u001b[0;34m:\u001b[0m\u001b[0;34m\u001b[0m\u001b[0;34m\u001b[0m\u001b[0m\n\u001b[1;32m    613\u001b[0m       \u001b[0;31m# Release the lock early so that multiple threads can perform the call\u001b[0m\u001b[0;34m\u001b[0m\u001b[0;34m\u001b[0m\u001b[0;34m\u001b[0m\u001b[0m\n",
      "\u001b[0;32m/usr/local/lib/python3.6/dist-packages/tensorflow/python/eager/function.py\u001b[0m in \u001b[0;36m__call__\u001b[0;34m(self, *args, **kwargs)\u001b[0m\n\u001b[1;32m   2418\u001b[0m     \u001b[0;32mwith\u001b[0m \u001b[0mself\u001b[0m\u001b[0;34m.\u001b[0m\u001b[0m_lock\u001b[0m\u001b[0;34m:\u001b[0m\u001b[0;34m\u001b[0m\u001b[0;34m\u001b[0m\u001b[0m\n\u001b[1;32m   2419\u001b[0m       \u001b[0mgraph_function\u001b[0m\u001b[0;34m,\u001b[0m \u001b[0margs\u001b[0m\u001b[0;34m,\u001b[0m \u001b[0mkwargs\u001b[0m \u001b[0;34m=\u001b[0m \u001b[0mself\u001b[0m\u001b[0;34m.\u001b[0m\u001b[0m_maybe_define_function\u001b[0m\u001b[0;34m(\u001b[0m\u001b[0margs\u001b[0m\u001b[0;34m,\u001b[0m \u001b[0mkwargs\u001b[0m\u001b[0;34m)\u001b[0m\u001b[0;34m\u001b[0m\u001b[0;34m\u001b[0m\u001b[0m\n\u001b[0;32m-> 2420\u001b[0;31m     \u001b[0;32mreturn\u001b[0m \u001b[0mgraph_function\u001b[0m\u001b[0;34m.\u001b[0m\u001b[0m_filtered_call\u001b[0m\u001b[0;34m(\u001b[0m\u001b[0margs\u001b[0m\u001b[0;34m,\u001b[0m \u001b[0mkwargs\u001b[0m\u001b[0;34m)\u001b[0m  \u001b[0;31m# pylint: disable=protected-access\u001b[0m\u001b[0;34m\u001b[0m\u001b[0;34m\u001b[0m\u001b[0m\n\u001b[0m\u001b[1;32m   2421\u001b[0m \u001b[0;34m\u001b[0m\u001b[0m\n\u001b[1;32m   2422\u001b[0m   \u001b[0;34m@\u001b[0m\u001b[0mproperty\u001b[0m\u001b[0;34m\u001b[0m\u001b[0;34m\u001b[0m\u001b[0m\n",
      "\u001b[0;32m/usr/local/lib/python3.6/dist-packages/tensorflow/python/eager/function.py\u001b[0m in \u001b[0;36m_filtered_call\u001b[0;34m(self, args, kwargs)\u001b[0m\n\u001b[1;32m   1663\u001b[0m          if isinstance(t, (ops.Tensor,\n\u001b[1;32m   1664\u001b[0m                            resource_variable_ops.BaseResourceVariable))),\n\u001b[0;32m-> 1665\u001b[0;31m         self.captured_inputs)\n\u001b[0m\u001b[1;32m   1666\u001b[0m \u001b[0;34m\u001b[0m\u001b[0m\n\u001b[1;32m   1667\u001b[0m   \u001b[0;32mdef\u001b[0m \u001b[0m_call_flat\u001b[0m\u001b[0;34m(\u001b[0m\u001b[0mself\u001b[0m\u001b[0;34m,\u001b[0m \u001b[0margs\u001b[0m\u001b[0;34m,\u001b[0m \u001b[0mcaptured_inputs\u001b[0m\u001b[0;34m,\u001b[0m \u001b[0mcancellation_manager\u001b[0m\u001b[0;34m=\u001b[0m\u001b[0;32mNone\u001b[0m\u001b[0;34m)\u001b[0m\u001b[0;34m:\u001b[0m\u001b[0;34m\u001b[0m\u001b[0;34m\u001b[0m\u001b[0m\n",
      "\u001b[0;32m/usr/local/lib/python3.6/dist-packages/tensorflow/python/eager/function.py\u001b[0m in \u001b[0;36m_call_flat\u001b[0;34m(self, args, captured_inputs, cancellation_manager)\u001b[0m\n\u001b[1;32m   1744\u001b[0m       \u001b[0;31m# No tape is watching; skip to running the function.\u001b[0m\u001b[0;34m\u001b[0m\u001b[0;34m\u001b[0m\u001b[0;34m\u001b[0m\u001b[0m\n\u001b[1;32m   1745\u001b[0m       return self._build_call_outputs(self._inference_function.call(\n\u001b[0;32m-> 1746\u001b[0;31m           ctx, args, cancellation_manager=cancellation_manager))\n\u001b[0m\u001b[1;32m   1747\u001b[0m     forward_backward = self._select_forward_and_backward_functions(\n\u001b[1;32m   1748\u001b[0m         \u001b[0margs\u001b[0m\u001b[0;34m,\u001b[0m\u001b[0;34m\u001b[0m\u001b[0;34m\u001b[0m\u001b[0m\n",
      "\u001b[0;32m/usr/local/lib/python3.6/dist-packages/tensorflow/python/eager/function.py\u001b[0m in \u001b[0;36mcall\u001b[0;34m(self, ctx, args, cancellation_manager)\u001b[0m\n\u001b[1;32m    596\u001b[0m               \u001b[0minputs\u001b[0m\u001b[0;34m=\u001b[0m\u001b[0margs\u001b[0m\u001b[0;34m,\u001b[0m\u001b[0;34m\u001b[0m\u001b[0;34m\u001b[0m\u001b[0m\n\u001b[1;32m    597\u001b[0m               \u001b[0mattrs\u001b[0m\u001b[0;34m=\u001b[0m\u001b[0mattrs\u001b[0m\u001b[0;34m,\u001b[0m\u001b[0;34m\u001b[0m\u001b[0;34m\u001b[0m\u001b[0m\n\u001b[0;32m--> 598\u001b[0;31m               ctx=ctx)\n\u001b[0m\u001b[1;32m    599\u001b[0m         \u001b[0;32melse\u001b[0m\u001b[0;34m:\u001b[0m\u001b[0;34m\u001b[0m\u001b[0;34m\u001b[0m\u001b[0m\n\u001b[1;32m    600\u001b[0m           outputs = execute.execute_with_cancellation(\n",
      "\u001b[0;32m/usr/local/lib/python3.6/dist-packages/tensorflow/python/eager/execute.py\u001b[0m in \u001b[0;36mquick_execute\u001b[0;34m(op_name, num_outputs, inputs, attrs, ctx, name)\u001b[0m\n\u001b[1;32m     58\u001b[0m     \u001b[0mctx\u001b[0m\u001b[0;34m.\u001b[0m\u001b[0mensure_initialized\u001b[0m\u001b[0;34m(\u001b[0m\u001b[0;34m)\u001b[0m\u001b[0;34m\u001b[0m\u001b[0;34m\u001b[0m\u001b[0m\n\u001b[1;32m     59\u001b[0m     tensors = pywrap_tfe.TFE_Py_Execute(ctx._handle, device_name, op_name,\n\u001b[0;32m---> 60\u001b[0;31m                                         inputs, attrs, num_outputs)\n\u001b[0m\u001b[1;32m     61\u001b[0m   \u001b[0;32mexcept\u001b[0m \u001b[0mcore\u001b[0m\u001b[0;34m.\u001b[0m\u001b[0m_NotOkStatusException\u001b[0m \u001b[0;32mas\u001b[0m \u001b[0me\u001b[0m\u001b[0;34m:\u001b[0m\u001b[0;34m\u001b[0m\u001b[0;34m\u001b[0m\u001b[0m\n\u001b[1;32m     62\u001b[0m     \u001b[0;32mif\u001b[0m \u001b[0mname\u001b[0m \u001b[0;32mis\u001b[0m \u001b[0;32mnot\u001b[0m \u001b[0;32mNone\u001b[0m\u001b[0;34m:\u001b[0m\u001b[0;34m\u001b[0m\u001b[0;34m\u001b[0m\u001b[0m\n",
      "\u001b[0;31mKeyboardInterrupt\u001b[0m: "
     ]
    }
   ],
   "source": [
    "history = model.fit(\n",
    "      train_generator,\n",
    "      validation_data  = val_generator, \n",
    "      epochs=1,\n",
    "      verbose=1)"
   ]
  },
  {
   "cell_type": "markdown",
   "metadata": {
    "colab_type": "text",
    "id": "5_LbkdQQA2pf"
   },
   "source": [
    "Let's add more argument to fix this problem:"
   ]
  },
  {
   "cell_type": "code",
   "execution_count": null,
   "metadata": {
    "colab": {
     "base_uri": "https://localhost:8080/",
     "height": 84
    },
    "colab_type": "code",
    "id": "jLdjIVuH_z8l",
    "outputId": "220bca0d-9df0-44c7-8953-1cd80fecf958"
   },
   "outputs": [
    {
     "name": "stdout",
     "output_type": "stream",
     "text": [
      "Epoch 1/2\n",
      "5/5 [==============================] - 20s 4s/step - loss: 0.6983 - acc: 0.4542 - val_loss: 0.6892 - val_acc: 0.5243\n",
      "Epoch 2/2\n",
      "5/5 [==============================] - 19s 4s/step - loss: 0.6937 - acc: 0.5237 - val_loss: 0.6865 - val_acc: 0.5243\n"
     ]
    }
   ],
   "source": [
    "history = model.fit(\n",
    "      train_generator,\n",
    "      steps_per_epoch=train_generator.samples//train_batch,\n",
    "      validation_data  = val_generator, \n",
    "      validation_steps=val_generator.samples//val_batch,\n",
    "      epochs=2,\n",
    "      verbose=1)"
   ]
  },
  {
   "cell_type": "markdown",
   "metadata": {
    "colab_type": "text",
    "id": "pm5Py-EFDYT9"
   },
   "source": [
    "We can upload new images and do some predictions:"
   ]
  },
  {
   "cell_type": "code",
   "execution_count": null,
   "metadata": {
    "colab": {
     "base_uri": "https://localhost:8080/",
     "height": 67
    },
    "colab_type": "code",
    "id": "Zcopec5xBn9p",
    "outputId": "2e0256cc-5d9b-43d0-94cd-73242a9c2aa2"
   },
   "outputs": [
    {
     "name": "stdout",
     "output_type": "stream",
     "text": [
      "(300, 300, 3)\n",
      "(1, 300, 300, 3)\n",
      "[[0.55168146]]\n"
     ]
    }
   ],
   "source": [
    "import cv2\n",
    "img=cv2.imread('/content/test1.jpg')\n",
    "img=cv2.cvtColor(img,cv2.COLOR_BGR2RGB)\n",
    "img=cv2.resize(img,(300,300))\n",
    "img=img/255\n",
    "print(img.shape)\n",
    "img=np.expand_dims(img, axis=0)\n",
    "print(img.shape)\n",
    "score=model.predict(img)\n",
    "print(score)"
   ]
  },
  {
   "cell_type": "markdown",
   "metadata": {
    "colab_type": "text",
    "id": "3aRxF49O8o7K"
   },
   "source": [
    "But how do we know that 0 is for horse or human? \n",
    "here is how we can see class labels:"
   ]
  },
  {
   "cell_type": "code",
   "execution_count": null,
   "metadata": {
    "colab": {
     "base_uri": "https://localhost:8080/",
     "height": 34
    },
    "colab_type": "code",
    "id": "ajXF5lB78ghQ",
    "outputId": "3e81a5e2-c7ff-48b0-ad93-a79cadd1807b"
   },
   "outputs": [
    {
     "data": {
      "text/plain": [
       "{'horses': 0, 'humans': 1}"
      ]
     },
     "execution_count": 22,
     "metadata": {
      "tags": []
     },
     "output_type": "execute_result"
    }
   ],
   "source": [
    "train_generator.class_indices"
   ]
  },
  {
   "cell_type": "markdown",
   "metadata": {
    "colab_type": "text",
    "id": "QxEtfHBsCsmL"
   },
   "source": [
    "It is also possible to do predictions on multiple images."
   ]
  },
  {
   "cell_type": "code",
   "execution_count": null,
   "metadata": {
    "colab": {
     "base_uri": "https://localhost:8080/",
     "height": 118
    },
    "colab_type": "code",
    "id": "4VclcB6sCrrn",
    "outputId": "167a4326-8e1e-4e89-c446-3008111ddc88"
   },
   "outputs": [
    {
     "name": "stdout",
     "output_type": "stream",
     "text": [
      "(667, 1000, 3)\n",
      "[[0.55168146]]\n",
      "(746, 500, 3)\n",
      "[[0.54219]]\n",
      "(1219, 1826, 3)\n",
      "[[0.57529765]]\n"
     ]
    }
   ],
   "source": [
    "import cv2\n",
    "test_images_names=['/content/test1.jpg','/content/test2.jpg','/content/test3.jpeg']\n",
    "for i in (test_images_names):\n",
    "  img=cv2.imread(i)\n",
    "  print(img.shape)\n",
    "  img=cv2.cvtColor(img,cv2.COLOR_BGR2RGB)\n",
    "  img=cv2.resize(img,(300,300))\n",
    "  img=img/255\n",
    "  img=np.expand_dims(img, axis=0)\n",
    "  score=model.predict(img)\n",
    "  print(score)\n",
    "\n"
   ]
  },
  {
   "cell_type": "markdown",
   "metadata": {
    "colab_type": "text",
    "id": "Q5VBuuqJGKdb"
   },
   "source": [
    "##Callbacks"
   ]
  },
  {
   "cell_type": "markdown",
   "metadata": {
    "colab_type": "text",
    "id": "j2DXzow-Nl3P"
   },
   "source": [
    "Callbacks in keras are really usefull. These functions act at the end of each epoch. We can use ModelCheckpoint callback to save the model after each epoch. EarlyStopping callback is another callback function which stops the model if validation error is not changing. You can check and discover more callback functions [here](https://keras.io/callbacks/)"
   ]
  },
  {
   "cell_type": "code",
   "execution_count": 16,
   "metadata": {
    "colab": {
     "base_uri": "https://localhost:8080/",
     "height": 101
    },
    "colab_type": "code",
    "id": "6cpEJcmzG8sp",
    "outputId": "37678bc8-5893-446d-c7cc-59134dba7c85"
   },
   "outputs": [
    {
     "name": "stdout",
     "output_type": "stream",
     "text": [
      "WARNING:tensorflow:`period` argument is deprecated. Please use `save_freq` to specify the frequency in number of batches seen.\n"
     ]
    },
    {
     "ename": "NameError",
     "evalue": "name 'train_generator' is not defined",
     "output_type": "error",
     "traceback": [
      "\u001b[0;31m---------------------------------------------------------------------------\u001b[0m",
      "\u001b[0;31mNameError\u001b[0m                                 Traceback (most recent call last)",
      "\u001b[0;32m<ipython-input-16-7d75e4c4dcc6>\u001b[0m in \u001b[0;36m<module>\u001b[0;34m\u001b[0m\n\u001b[1;32m      4\u001b[0m \u001b[0mcl2\u001b[0m\u001b[0;34m=\u001b[0m\u001b[0mModelCheckpoint\u001b[0m\u001b[0;34m(\u001b[0m\u001b[0;34m'backup/weights.{epoch:02d}-{val_loss:.2f}.hdf5'\u001b[0m\u001b[0;34m,\u001b[0m \u001b[0mmonitor\u001b[0m\u001b[0;34m=\u001b[0m\u001b[0;34m'val_loss'\u001b[0m\u001b[0;34m,\u001b[0m \u001b[0mverbose\u001b[0m\u001b[0;34m=\u001b[0m\u001b[0;36m0\u001b[0m\u001b[0;34m,\u001b[0m \u001b[0mperiod\u001b[0m\u001b[0;34m=\u001b[0m\u001b[0;36m1\u001b[0m\u001b[0;34m)\u001b[0m\u001b[0;34m\u001b[0m\u001b[0;34m\u001b[0m\u001b[0m\n\u001b[1;32m      5\u001b[0m history = model.fit(\n\u001b[0;32m----> 6\u001b[0;31m       \u001b[0mtrain_generator\u001b[0m\u001b[0;34m,\u001b[0m\u001b[0;34m\u001b[0m\u001b[0;34m\u001b[0m\u001b[0m\n\u001b[0m\u001b[1;32m      7\u001b[0m       \u001b[0msteps_per_epoch\u001b[0m\u001b[0;34m=\u001b[0m\u001b[0mtrain_generator\u001b[0m\u001b[0;34m.\u001b[0m\u001b[0msamples\u001b[0m\u001b[0;34m//\u001b[0m\u001b[0mtrain_batch\u001b[0m\u001b[0;34m,\u001b[0m\u001b[0;34m\u001b[0m\u001b[0;34m\u001b[0m\u001b[0m\n\u001b[1;32m      8\u001b[0m       \u001b[0mvalidation_data\u001b[0m  \u001b[0;34m=\u001b[0m \u001b[0mval_generator\u001b[0m\u001b[0;34m,\u001b[0m\u001b[0;34m\u001b[0m\u001b[0;34m\u001b[0m\u001b[0m\n",
      "\u001b[0;31mNameError\u001b[0m: name 'train_generator' is not defined"
     ]
    }
   ],
   "source": [
    "from tensorflow.keras.callbacks import ModelCheckpoint\n",
    "from tensorflow.keras.callbacks import EarlyStopping\n",
    "cl1=EarlyStopping(monitor='val_loss', min_delta=0, patience=0, verbose=0)\n",
    "cl2=ModelCheckpoint('backup/weights.{epoch:02d}-{val_loss:.2f}.hdf5', monitor='val_loss', verbose=0, period=1)\n",
    "history = model.fit(\n",
    "      train_generator,\n",
    "      steps_per_epoch=train_generator.samples//train_batch,\n",
    "      validation_data  = val_generator, \n",
    "      validation_steps=val_generator.samples//val_batch,\n",
    "      epochs=2,\n",
    "      verbose=1,\n",
    "      callbacks=[cl1,cl2])"
   ]
  },
  {
   "cell_type": "markdown",
   "metadata": {
    "colab_type": "text",
    "id": "KzeNe_IjOjkF"
   },
   "source": [
    "We can resume the training from the last checkpoint by simply loading the model:"
   ]
  },
  {
   "cell_type": "code",
   "execution_count": null,
   "metadata": {
    "colab": {
     "base_uri": "https://localhost:8080/",
     "height": 84
    },
    "colab_type": "code",
    "id": "VKpnBijrM3g4",
    "outputId": "92aeca51-3caf-44da-fa6a-cfd82fd0034e"
   },
   "outputs": [
    {
     "name": "stdout",
     "output_type": "stream",
     "text": [
      "Epoch 1/2\n",
      "5/5 [==============================] - 19s 4s/step - loss: 0.6782 - acc: 0.5983 - val_loss: 0.6262 - val_acc: 0.7257\n",
      "Epoch 2/2\n",
      "5/5 [==============================] - 19s 4s/step - loss: 0.7779 - acc: 0.5305 - val_loss: 0.6880 - val_acc: 0.6493\n"
     ]
    }
   ],
   "source": [
    "from tensorflow.keras.models import load_model\n",
    "Model=load_model('/content/backup/weights.02-0.69.hdf5')\n",
    "history = Model.fit(\n",
    "      train_generator,\n",
    "      steps_per_epoch=train_generator.samples//train_batch,\n",
    "      validation_data  = val_generator, \n",
    "      validation_steps=val_generator.samples//val_batch,\n",
    "      epochs=2,\n",
    "      verbose=1,\n",
    "      callbacks=[cl1,cl2])"
   ]
  },
  {
   "cell_type": "markdown",
   "metadata": {
    "colab_type": "text",
    "id": "3VV_g5WmPq02"
   },
   "source": [
    "##Transfer Learning"
   ]
  },
  {
   "cell_type": "markdown",
   "metadata": {
    "colab_type": "text",
    "id": "SdHOw9tnP0EQ"
   },
   "source": [
    "**Load the pre-trained model**\n",
    "\n",
    "\n",
    "First, we will load a VGG model trained on imagenet dataset"
   ]
  },
  {
   "cell_type": "code",
   "execution_count": null,
   "metadata": {
    "colab": {
     "base_uri": "https://localhost:8080/",
     "height": 50
    },
    "colab_type": "code",
    "id": "R9Cl7IvgP-sK",
    "outputId": "8ee757bf-dd3e-4713-d9d9-26af6cc61392"
   },
   "outputs": [
    {
     "name": "stdout",
     "output_type": "stream",
     "text": [
      "Downloading data from https://github.com/fchollet/deep-learning-models/releases/download/v0.1/vgg16_weights_tf_dim_ordering_tf_kernels.h5\n",
      "553467904/553467096 [==============================] - 16s 0us/step\n"
     ]
    }
   ],
   "source": [
    "from keras.applications import VGG16\n",
    "#Load the VGG model\n",
    "\n",
    "vgg_conv = VGG16(weights='imagenet', include_top=True, input_shape=(224, 224, 3))"
   ]
  },
  {
   "cell_type": "markdown",
   "metadata": {
    "colab_type": "text",
    "id": "b7rshZiHQSPb"
   },
   "source": [
    "Let's have a look at this architecture:"
   ]
  },
  {
   "cell_type": "code",
   "execution_count": null,
   "metadata": {
    "colab": {
     "base_uri": "https://localhost:8080/",
     "height": 924
    },
    "colab_type": "code",
    "id": "bTGgQzaHQL1-",
    "outputId": "aa9c5da3-0932-4bf7-fad4-abe35dd3ac85"
   },
   "outputs": [
    {
     "name": "stdout",
     "output_type": "stream",
     "text": [
      "Model: \"vgg16\"\n",
      "_________________________________________________________________\n",
      "Layer (type)                 Output Shape              Param #   \n",
      "=================================================================\n",
      "input_1 (InputLayer)         (None, 224, 224, 3)       0         \n",
      "_________________________________________________________________\n",
      "block1_conv1 (Conv2D)        (None, 224, 224, 64)      1792      \n",
      "_________________________________________________________________\n",
      "block1_conv2 (Conv2D)        (None, 224, 224, 64)      36928     \n",
      "_________________________________________________________________\n",
      "block1_pool (MaxPooling2D)   (None, 112, 112, 64)      0         \n",
      "_________________________________________________________________\n",
      "block2_conv1 (Conv2D)        (None, 112, 112, 128)     73856     \n",
      "_________________________________________________________________\n",
      "block2_conv2 (Conv2D)        (None, 112, 112, 128)     147584    \n",
      "_________________________________________________________________\n",
      "block2_pool (MaxPooling2D)   (None, 56, 56, 128)       0         \n",
      "_________________________________________________________________\n",
      "block3_conv1 (Conv2D)        (None, 56, 56, 256)       295168    \n",
      "_________________________________________________________________\n",
      "block3_conv2 (Conv2D)        (None, 56, 56, 256)       590080    \n",
      "_________________________________________________________________\n",
      "block3_conv3 (Conv2D)        (None, 56, 56, 256)       590080    \n",
      "_________________________________________________________________\n",
      "block3_pool (MaxPooling2D)   (None, 28, 28, 256)       0         \n",
      "_________________________________________________________________\n",
      "block4_conv1 (Conv2D)        (None, 28, 28, 512)       1180160   \n",
      "_________________________________________________________________\n",
      "block4_conv2 (Conv2D)        (None, 28, 28, 512)       2359808   \n",
      "_________________________________________________________________\n",
      "block4_conv3 (Conv2D)        (None, 28, 28, 512)       2359808   \n",
      "_________________________________________________________________\n",
      "block4_pool (MaxPooling2D)   (None, 14, 14, 512)       0         \n",
      "_________________________________________________________________\n",
      "block5_conv1 (Conv2D)        (None, 14, 14, 512)       2359808   \n",
      "_________________________________________________________________\n",
      "block5_conv2 (Conv2D)        (None, 14, 14, 512)       2359808   \n",
      "_________________________________________________________________\n",
      "block5_conv3 (Conv2D)        (None, 14, 14, 512)       2359808   \n",
      "_________________________________________________________________\n",
      "block5_pool (MaxPooling2D)   (None, 7, 7, 512)         0         \n",
      "_________________________________________________________________\n",
      "flatten (Flatten)            (None, 25088)             0         \n",
      "_________________________________________________________________\n",
      "fc1 (Dense)                  (None, 4096)              102764544 \n",
      "_________________________________________________________________\n",
      "fc2 (Dense)                  (None, 4096)              16781312  \n",
      "_________________________________________________________________\n",
      "predictions (Dense)          (None, 1000)              4097000   \n",
      "=================================================================\n",
      "Total params: 138,357,544\n",
      "Trainable params: 138,357,544\n",
      "Non-trainable params: 0\n",
      "_________________________________________________________________\n"
     ]
    }
   ],
   "source": [
    "vgg_conv.summary()"
   ]
  },
  {
   "cell_type": "markdown",
   "metadata": {
    "colab_type": "text",
    "id": "4-BOS7nY_NPe"
   },
   "source": [
    "Now let's set include_top to false and see what happens:"
   ]
  },
  {
   "cell_type": "code",
   "execution_count": null,
   "metadata": {
    "colab": {
     "base_uri": "https://localhost:8080/",
     "height": 50
    },
    "colab_type": "code",
    "id": "IfkplZQb_XnS",
    "outputId": "ecb0140b-ac6f-4f2d-b444-ccbd97f6e04b"
   },
   "outputs": [
    {
     "name": "stdout",
     "output_type": "stream",
     "text": [
      "Downloading data from https://github.com/fchollet/deep-learning-models/releases/download/v0.1/vgg16_weights_tf_dim_ordering_tf_kernels_notop.h5\n",
      "58892288/58889256 [==============================] - 2s 0us/step\n"
     ]
    }
   ],
   "source": [
    "from keras.applications import VGG16\n",
    "#Load the VGG model\n",
    "\n",
    "vgg_conv = VGG16(weights='imagenet', include_top=False, input_shape=(300, 300, 3))"
   ]
  },
  {
   "cell_type": "markdown",
   "metadata": {
    "colab_type": "text",
    "id": "4eHsK2Cm_Xnc"
   },
   "source": [
    "Let's have a look at this architecture:"
   ]
  },
  {
   "cell_type": "code",
   "execution_count": null,
   "metadata": {
    "colab": {
     "base_uri": "https://localhost:8080/",
     "height": 790
    },
    "colab_type": "code",
    "id": "FllMLjnf_Xnd",
    "outputId": "af1e4844-c928-4d4d-b094-5ae7d2f6a43f"
   },
   "outputs": [
    {
     "name": "stdout",
     "output_type": "stream",
     "text": [
      "Model: \"vgg16\"\n",
      "_________________________________________________________________\n",
      "Layer (type)                 Output Shape              Param #   \n",
      "=================================================================\n",
      "input_2 (InputLayer)         (None, 300, 300, 3)       0         \n",
      "_________________________________________________________________\n",
      "block1_conv1 (Conv2D)        (None, 300, 300, 64)      1792      \n",
      "_________________________________________________________________\n",
      "block1_conv2 (Conv2D)        (None, 300, 300, 64)      36928     \n",
      "_________________________________________________________________\n",
      "block1_pool (MaxPooling2D)   (None, 150, 150, 64)      0         \n",
      "_________________________________________________________________\n",
      "block2_conv1 (Conv2D)        (None, 150, 150, 128)     73856     \n",
      "_________________________________________________________________\n",
      "block2_conv2 (Conv2D)        (None, 150, 150, 128)     147584    \n",
      "_________________________________________________________________\n",
      "block2_pool (MaxPooling2D)   (None, 75, 75, 128)       0         \n",
      "_________________________________________________________________\n",
      "block3_conv1 (Conv2D)        (None, 75, 75, 256)       295168    \n",
      "_________________________________________________________________\n",
      "block3_conv2 (Conv2D)        (None, 75, 75, 256)       590080    \n",
      "_________________________________________________________________\n",
      "block3_conv3 (Conv2D)        (None, 75, 75, 256)       590080    \n",
      "_________________________________________________________________\n",
      "block3_pool (MaxPooling2D)   (None, 37, 37, 256)       0         \n",
      "_________________________________________________________________\n",
      "block4_conv1 (Conv2D)        (None, 37, 37, 512)       1180160   \n",
      "_________________________________________________________________\n",
      "block4_conv2 (Conv2D)        (None, 37, 37, 512)       2359808   \n",
      "_________________________________________________________________\n",
      "block4_conv3 (Conv2D)        (None, 37, 37, 512)       2359808   \n",
      "_________________________________________________________________\n",
      "block4_pool (MaxPooling2D)   (None, 18, 18, 512)       0         \n",
      "_________________________________________________________________\n",
      "block5_conv1 (Conv2D)        (None, 18, 18, 512)       2359808   \n",
      "_________________________________________________________________\n",
      "block5_conv2 (Conv2D)        (None, 18, 18, 512)       2359808   \n",
      "_________________________________________________________________\n",
      "block5_conv3 (Conv2D)        (None, 18, 18, 512)       2359808   \n",
      "_________________________________________________________________\n",
      "block5_pool (MaxPooling2D)   (None, 9, 9, 512)         0         \n",
      "=================================================================\n",
      "Total params: 14,714,688\n",
      "Trainable params: 14,714,688\n",
      "Non-trainable params: 0\n",
      "_________________________________________________________________\n"
     ]
    }
   ],
   "source": [
    "vgg_conv.summary()"
   ]
  },
  {
   "cell_type": "markdown",
   "metadata": {
    "colab_type": "text",
    "id": "T7o4KiyOQV_j"
   },
   "source": [
    "**Freeze the required layers**\n",
    "In Keras, each layer has a parameter called “trainable”. For freezing the weights of a particular layer, we should set this parameter to False, indicating that this layer should not be trained. That’s it! We go over each layer and select which layers we want to train."
   ]
  },
  {
   "cell_type": "code",
   "execution_count": null,
   "metadata": {
    "colab": {
     "base_uri": "https://localhost:8080/",
     "height": 336
    },
    "colab_type": "code",
    "id": "9xZbD911QZKu",
    "outputId": "e1ce5824-7aad-4c95-f2e7-f1f755d71c83"
   },
   "outputs": [
    {
     "name": "stdout",
     "output_type": "stream",
     "text": [
      "<keras.engine.input_layer.InputLayer object at 0x7fae62442978> False\n",
      "<keras.layers.convolutional.Conv2D object at 0x7fae624429b0> False\n",
      "<keras.layers.convolutional.Conv2D object at 0x7fae62442d30> False\n",
      "<keras.layers.pooling.MaxPooling2D object at 0x7fae6245f518> False\n",
      "<keras.layers.convolutional.Conv2D object at 0x7fae6245f358> False\n",
      "<keras.layers.convolutional.Conv2D object at 0x7fae6245ff60> False\n",
      "<keras.layers.pooling.MaxPooling2D object at 0x7fae6245bbe0> False\n",
      "<keras.layers.convolutional.Conv2D object at 0x7fae6245ba20> False\n",
      "<keras.layers.convolutional.Conv2D object at 0x7fae62469710> False\n",
      "<keras.layers.convolutional.Conv2D object at 0x7fae6246e2e8> False\n",
      "<keras.layers.pooling.MaxPooling2D object at 0x7fae6246ed30> False\n",
      "<keras.layers.convolutional.Conv2D object at 0x7fae6246eb70> False\n",
      "<keras.layers.convolutional.Conv2D object at 0x7fae624755f8> False\n",
      "<keras.layers.convolutional.Conv2D object at 0x7fae621cf438> False\n",
      "<keras.layers.pooling.MaxPooling2D object at 0x7fae621cfe80> False\n",
      "<keras.layers.convolutional.Conv2D object at 0x7fae621cfcc0> True\n",
      "<keras.layers.convolutional.Conv2D object at 0x7fae621d7f28> True\n",
      "<keras.layers.convolutional.Conv2D object at 0x7fae621de588> True\n",
      "<keras.layers.pooling.MaxPooling2D object at 0x7fae621dee10> True\n"
     ]
    }
   ],
   "source": [
    "\n",
    "# Freeze the layers except the last 4 layers\n",
    "for layer in vgg_conv.layers[:-4]:\n",
    "    layer.trainable = False\n",
    "# Check the trainable status of the individual layers\n",
    "for layer in vgg_conv.layers:\n",
    "    print(layer, layer.trainable)\n"
   ]
  },
  {
   "cell_type": "markdown",
   "metadata": {
    "colab_type": "text",
    "id": "penLoV1LQnPB"
   },
   "source": [
    "**Create a new model**\n",
    "Now that we have set the trainable parameters of our base network, we would like to add a classifier on top of the convolutional base. We will simply add a fully connected layer followed by a softmax layer with 3 outputs. This is done as given below."
   ]
  },
  {
   "cell_type": "code",
   "execution_count": null,
   "metadata": {
    "colab": {
     "base_uri": "https://localhost:8080/",
     "height": 286
    },
    "colab_type": "code",
    "id": "4UPYI-GLQuUe",
    "outputId": "abc1862c-80e7-49b2-b675-f69deac90a05"
   },
   "outputs": [
    {
     "name": "stdout",
     "output_type": "stream",
     "text": [
      "Model: \"sequential_1\"\n",
      "_________________________________________________________________\n",
      "Layer (type)                 Output Shape              Param #   \n",
      "=================================================================\n",
      "vgg16 (Model)                (None, 9, 9, 512)         14714688  \n",
      "_________________________________________________________________\n",
      "flatten_1 (Flatten)          (None, 41472)             0         \n",
      "_________________________________________________________________\n",
      "dense_1 (Dense)              (None, 1024)              42468352  \n",
      "_________________________________________________________________\n",
      "dense_2 (Dense)              (None, 1)                 1025      \n",
      "=================================================================\n",
      "Total params: 57,184,065\n",
      "Trainable params: 49,548,801\n",
      "Non-trainable params: 7,635,264\n",
      "_________________________________________________________________\n"
     ]
    }
   ],
   "source": [
    "from keras import models\n",
    "from keras import layers\n",
    "from keras import optimizers\n",
    "# Create the model\n",
    "\n",
    "model = models.Sequential()\n",
    "# Add the vgg convolutional base model\n",
    "\n",
    "model.add(vgg_conv)\n",
    "# Add new layers\n",
    "model.add(layers.Flatten())\n",
    "model.add(layers.Dense(1024, activation='relu'))\n",
    "model.add(layers.Dense(1, activation='sigmoid'))\n",
    "\n",
    "# Show a summary of the model. Check the number of trainable parameters\n",
    "model.summary()\n"
   ]
  },
  {
   "cell_type": "markdown",
   "metadata": {
    "colab_type": "text",
    "id": "aAiUbXyXRki0"
   },
   "source": [
    "Now you can start the training just like before!"
   ]
  },
  {
   "cell_type": "code",
   "execution_count": null,
   "metadata": {
    "colab": {
     "base_uri": "https://localhost:8080/",
     "height": 84
    },
    "colab_type": "code",
    "id": "ZNpfBp_VRUec",
    "outputId": "894948ae-b313-4aca-cdb8-5cc138787d52"
   },
   "outputs": [
    {
     "name": "stdout",
     "output_type": "stream",
     "text": [
      "Epoch 1/2\n",
      "5/5 [==============================] - 38s 8s/step - loss: 3126.3009 - acc: 0.5017 - val_loss: 2.2147 - val_acc: 0.5139\n",
      "Epoch 2/2\n",
      "5/5 [==============================] - 23s 5s/step - loss: 1.1666 - acc: 0.4898 - val_loss: 6.7570 - val_acc: 0.4729\n"
     ]
    }
   ],
   "source": [
    "model.compile(loss='binary_crossentropy',\n",
    "              optimizer=RMSprop(lr=0.001),\n",
    "              metrics=['acc'])\n",
    "history = model.fit(\n",
    "      train_generator,\n",
    "      steps_per_epoch=train_generator.samples//train_batch,\n",
    "      validation_data  = val_generator, \n",
    "      validation_steps=val_generator.samples//val_batch,\n",
    "      epochs=2,\n",
    "      verbose=1)"
   ]
  },
  {
   "cell_type": "markdown",
   "metadata": {
    "colab_type": "text",
    "id": "183PWcTB_6sr"
   },
   "source": [
    "We can also import other trained models:"
   ]
  },
  {
   "cell_type": "code",
   "execution_count": null,
   "metadata": {
    "colab": {
     "base_uri": "https://localhost:8080/",
     "height": 104
    },
    "colab_type": "code",
    "id": "eyirOzoezhbR",
    "outputId": "9bfec50a-6875-48a0-b9a7-d23e441fd1fb"
   },
   "outputs": [
    {
     "name": "stdout",
     "output_type": "stream",
     "text": [
      "Downloading data from https://github.com/keras-team/keras-applications/releases/download/resnet/resnet50_weights_tf_dim_ordering_tf_kernels_notop.h5\n",
      "94773248/94765736 [==============================] - 1s 0us/step\n",
      "Downloading data from https://github.com/keras-team/keras-applications/releases/download/resnet/resnet50_weights_tf_dim_ordering_tf_kernels.h5\n",
      "102973440/102967424 [==============================] - 1s 0us/step\n"
     ]
    }
   ],
   "source": [
    "import tensorflow as tf\n",
    "import keras\n",
    "res1=keras.applications.resnet.ResNet50(include_top=False, weights='imagenet')\n",
    "res2=keras.applications.resnet.ResNet50(include_top=True, weights='imagenet')\n"
   ]
  },
  {
   "cell_type": "code",
   "execution_count": null,
   "metadata": {
    "colab": {
     "base_uri": "https://localhost:8080/",
     "height": 1000
    },
    "colab_type": "code",
    "id": "I_hdvN7A0Ao0",
    "outputId": "0306bb2d-d8f2-4c8c-8c93-2aaefdcb4415"
   },
   "outputs": [
    {
     "name": "stdout",
     "output_type": "stream",
     "text": [
      "Model: \"resnet50\"\n",
      "__________________________________________________________________________________________________\n",
      "Layer (type)                    Output Shape         Param #     Connected to                     \n",
      "==================================================================================================\n",
      "input_3 (InputLayer)            (None, None, None, 3 0                                            \n",
      "__________________________________________________________________________________________________\n",
      "conv1_pad (ZeroPadding2D)       (None, None, None, 3 0           input_3[0][0]                    \n",
      "__________________________________________________________________________________________________\n",
      "conv1_conv (Conv2D)             (None, None, None, 6 9472        conv1_pad[0][0]                  \n",
      "__________________________________________________________________________________________________\n",
      "conv1_bn (BatchNormalization)   (None, None, None, 6 256         conv1_conv[0][0]                 \n",
      "__________________________________________________________________________________________________\n",
      "conv1_relu (Activation)         (None, None, None, 6 0           conv1_bn[0][0]                   \n",
      "__________________________________________________________________________________________________\n",
      "pool1_pad (ZeroPadding2D)       (None, None, None, 6 0           conv1_relu[0][0]                 \n",
      "__________________________________________________________________________________________________\n",
      "pool1_pool (MaxPooling2D)       (None, None, None, 6 0           pool1_pad[0][0]                  \n",
      "__________________________________________________________________________________________________\n",
      "conv2_block1_1_conv (Conv2D)    (None, None, None, 6 4160        pool1_pool[0][0]                 \n",
      "__________________________________________________________________________________________________\n",
      "conv2_block1_1_bn (BatchNormali (None, None, None, 6 256         conv2_block1_1_conv[0][0]        \n",
      "__________________________________________________________________________________________________\n",
      "conv2_block1_1_relu (Activation (None, None, None, 6 0           conv2_block1_1_bn[0][0]          \n",
      "__________________________________________________________________________________________________\n",
      "conv2_block1_2_conv (Conv2D)    (None, None, None, 6 36928       conv2_block1_1_relu[0][0]        \n",
      "__________________________________________________________________________________________________\n",
      "conv2_block1_2_bn (BatchNormali (None, None, None, 6 256         conv2_block1_2_conv[0][0]        \n",
      "__________________________________________________________________________________________________\n",
      "conv2_block1_2_relu (Activation (None, None, None, 6 0           conv2_block1_2_bn[0][0]          \n",
      "__________________________________________________________________________________________________\n",
      "conv2_block1_0_conv (Conv2D)    (None, None, None, 2 16640       pool1_pool[0][0]                 \n",
      "__________________________________________________________________________________________________\n",
      "conv2_block1_3_conv (Conv2D)    (None, None, None, 2 16640       conv2_block1_2_relu[0][0]        \n",
      "__________________________________________________________________________________________________\n",
      "conv2_block1_0_bn (BatchNormali (None, None, None, 2 1024        conv2_block1_0_conv[0][0]        \n",
      "__________________________________________________________________________________________________\n",
      "conv2_block1_3_bn (BatchNormali (None, None, None, 2 1024        conv2_block1_3_conv[0][0]        \n",
      "__________________________________________________________________________________________________\n",
      "conv2_block1_add (Add)          (None, None, None, 2 0           conv2_block1_0_bn[0][0]          \n",
      "                                                                 conv2_block1_3_bn[0][0]          \n",
      "__________________________________________________________________________________________________\n",
      "conv2_block1_out (Activation)   (None, None, None, 2 0           conv2_block1_add[0][0]           \n",
      "__________________________________________________________________________________________________\n",
      "conv2_block2_1_conv (Conv2D)    (None, None, None, 6 16448       conv2_block1_out[0][0]           \n",
      "__________________________________________________________________________________________________\n",
      "conv2_block2_1_bn (BatchNormali (None, None, None, 6 256         conv2_block2_1_conv[0][0]        \n",
      "__________________________________________________________________________________________________\n",
      "conv2_block2_1_relu (Activation (None, None, None, 6 0           conv2_block2_1_bn[0][0]          \n",
      "__________________________________________________________________________________________________\n",
      "conv2_block2_2_conv (Conv2D)    (None, None, None, 6 36928       conv2_block2_1_relu[0][0]        \n",
      "__________________________________________________________________________________________________\n",
      "conv2_block2_2_bn (BatchNormali (None, None, None, 6 256         conv2_block2_2_conv[0][0]        \n",
      "__________________________________________________________________________________________________\n",
      "conv2_block2_2_relu (Activation (None, None, None, 6 0           conv2_block2_2_bn[0][0]          \n",
      "__________________________________________________________________________________________________\n",
      "conv2_block2_3_conv (Conv2D)    (None, None, None, 2 16640       conv2_block2_2_relu[0][0]        \n",
      "__________________________________________________________________________________________________\n",
      "conv2_block2_3_bn (BatchNormali (None, None, None, 2 1024        conv2_block2_3_conv[0][0]        \n",
      "__________________________________________________________________________________________________\n",
      "conv2_block2_add (Add)          (None, None, None, 2 0           conv2_block1_out[0][0]           \n",
      "                                                                 conv2_block2_3_bn[0][0]          \n",
      "__________________________________________________________________________________________________\n",
      "conv2_block2_out (Activation)   (None, None, None, 2 0           conv2_block2_add[0][0]           \n",
      "__________________________________________________________________________________________________\n",
      "conv2_block3_1_conv (Conv2D)    (None, None, None, 6 16448       conv2_block2_out[0][0]           \n",
      "__________________________________________________________________________________________________\n",
      "conv2_block3_1_bn (BatchNormali (None, None, None, 6 256         conv2_block3_1_conv[0][0]        \n",
      "__________________________________________________________________________________________________\n",
      "conv2_block3_1_relu (Activation (None, None, None, 6 0           conv2_block3_1_bn[0][0]          \n",
      "__________________________________________________________________________________________________\n",
      "conv2_block3_2_conv (Conv2D)    (None, None, None, 6 36928       conv2_block3_1_relu[0][0]        \n",
      "__________________________________________________________________________________________________\n",
      "conv2_block3_2_bn (BatchNormali (None, None, None, 6 256         conv2_block3_2_conv[0][0]        \n",
      "__________________________________________________________________________________________________\n",
      "conv2_block3_2_relu (Activation (None, None, None, 6 0           conv2_block3_2_bn[0][0]          \n",
      "__________________________________________________________________________________________________\n",
      "conv2_block3_3_conv (Conv2D)    (None, None, None, 2 16640       conv2_block3_2_relu[0][0]        \n",
      "__________________________________________________________________________________________________\n",
      "conv2_block3_3_bn (BatchNormali (None, None, None, 2 1024        conv2_block3_3_conv[0][0]        \n",
      "__________________________________________________________________________________________________\n",
      "conv2_block3_add (Add)          (None, None, None, 2 0           conv2_block2_out[0][0]           \n",
      "                                                                 conv2_block3_3_bn[0][0]          \n",
      "__________________________________________________________________________________________________\n",
      "conv2_block3_out (Activation)   (None, None, None, 2 0           conv2_block3_add[0][0]           \n",
      "__________________________________________________________________________________________________\n",
      "conv3_block1_1_conv (Conv2D)    (None, None, None, 1 32896       conv2_block3_out[0][0]           \n",
      "__________________________________________________________________________________________________\n",
      "conv3_block1_1_bn (BatchNormali (None, None, None, 1 512         conv3_block1_1_conv[0][0]        \n",
      "__________________________________________________________________________________________________\n",
      "conv3_block1_1_relu (Activation (None, None, None, 1 0           conv3_block1_1_bn[0][0]          \n",
      "__________________________________________________________________________________________________\n",
      "conv3_block1_2_conv (Conv2D)    (None, None, None, 1 147584      conv3_block1_1_relu[0][0]        \n",
      "__________________________________________________________________________________________________\n",
      "conv3_block1_2_bn (BatchNormali (None, None, None, 1 512         conv3_block1_2_conv[0][0]        \n",
      "__________________________________________________________________________________________________\n",
      "conv3_block1_2_relu (Activation (None, None, None, 1 0           conv3_block1_2_bn[0][0]          \n",
      "__________________________________________________________________________________________________\n",
      "conv3_block1_0_conv (Conv2D)    (None, None, None, 5 131584      conv2_block3_out[0][0]           \n",
      "__________________________________________________________________________________________________\n",
      "conv3_block1_3_conv (Conv2D)    (None, None, None, 5 66048       conv3_block1_2_relu[0][0]        \n",
      "__________________________________________________________________________________________________\n",
      "conv3_block1_0_bn (BatchNormali (None, None, None, 5 2048        conv3_block1_0_conv[0][0]        \n",
      "__________________________________________________________________________________________________\n",
      "conv3_block1_3_bn (BatchNormali (None, None, None, 5 2048        conv3_block1_3_conv[0][0]        \n",
      "__________________________________________________________________________________________________\n",
      "conv3_block1_add (Add)          (None, None, None, 5 0           conv3_block1_0_bn[0][0]          \n",
      "                                                                 conv3_block1_3_bn[0][0]          \n",
      "__________________________________________________________________________________________________\n",
      "conv3_block1_out (Activation)   (None, None, None, 5 0           conv3_block1_add[0][0]           \n",
      "__________________________________________________________________________________________________\n",
      "conv3_block2_1_conv (Conv2D)    (None, None, None, 1 65664       conv3_block1_out[0][0]           \n",
      "__________________________________________________________________________________________________\n",
      "conv3_block2_1_bn (BatchNormali (None, None, None, 1 512         conv3_block2_1_conv[0][0]        \n",
      "__________________________________________________________________________________________________\n",
      "conv3_block2_1_relu (Activation (None, None, None, 1 0           conv3_block2_1_bn[0][0]          \n",
      "__________________________________________________________________________________________________\n",
      "conv3_block2_2_conv (Conv2D)    (None, None, None, 1 147584      conv3_block2_1_relu[0][0]        \n",
      "__________________________________________________________________________________________________\n",
      "conv3_block2_2_bn (BatchNormali (None, None, None, 1 512         conv3_block2_2_conv[0][0]        \n",
      "__________________________________________________________________________________________________\n",
      "conv3_block2_2_relu (Activation (None, None, None, 1 0           conv3_block2_2_bn[0][0]          \n",
      "__________________________________________________________________________________________________\n",
      "conv3_block2_3_conv (Conv2D)    (None, None, None, 5 66048       conv3_block2_2_relu[0][0]        \n",
      "__________________________________________________________________________________________________\n",
      "conv3_block2_3_bn (BatchNormali (None, None, None, 5 2048        conv3_block2_3_conv[0][0]        \n",
      "__________________________________________________________________________________________________\n",
      "conv3_block2_add (Add)          (None, None, None, 5 0           conv3_block1_out[0][0]           \n",
      "                                                                 conv3_block2_3_bn[0][0]          \n",
      "__________________________________________________________________________________________________\n",
      "conv3_block2_out (Activation)   (None, None, None, 5 0           conv3_block2_add[0][0]           \n",
      "__________________________________________________________________________________________________\n",
      "conv3_block3_1_conv (Conv2D)    (None, None, None, 1 65664       conv3_block2_out[0][0]           \n",
      "__________________________________________________________________________________________________\n",
      "conv3_block3_1_bn (BatchNormali (None, None, None, 1 512         conv3_block3_1_conv[0][0]        \n",
      "__________________________________________________________________________________________________\n",
      "conv3_block3_1_relu (Activation (None, None, None, 1 0           conv3_block3_1_bn[0][0]          \n",
      "__________________________________________________________________________________________________\n",
      "conv3_block3_2_conv (Conv2D)    (None, None, None, 1 147584      conv3_block3_1_relu[0][0]        \n",
      "__________________________________________________________________________________________________\n",
      "conv3_block3_2_bn (BatchNormali (None, None, None, 1 512         conv3_block3_2_conv[0][0]        \n",
      "__________________________________________________________________________________________________\n",
      "conv3_block3_2_relu (Activation (None, None, None, 1 0           conv3_block3_2_bn[0][0]          \n",
      "__________________________________________________________________________________________________\n",
      "conv3_block3_3_conv (Conv2D)    (None, None, None, 5 66048       conv3_block3_2_relu[0][0]        \n",
      "__________________________________________________________________________________________________\n",
      "conv3_block3_3_bn (BatchNormali (None, None, None, 5 2048        conv3_block3_3_conv[0][0]        \n",
      "__________________________________________________________________________________________________\n",
      "conv3_block3_add (Add)          (None, None, None, 5 0           conv3_block2_out[0][0]           \n",
      "                                                                 conv3_block3_3_bn[0][0]          \n",
      "__________________________________________________________________________________________________\n",
      "conv3_block3_out (Activation)   (None, None, None, 5 0           conv3_block3_add[0][0]           \n",
      "__________________________________________________________________________________________________\n",
      "conv3_block4_1_conv (Conv2D)    (None, None, None, 1 65664       conv3_block3_out[0][0]           \n",
      "__________________________________________________________________________________________________\n",
      "conv3_block4_1_bn (BatchNormali (None, None, None, 1 512         conv3_block4_1_conv[0][0]        \n",
      "__________________________________________________________________________________________________\n",
      "conv3_block4_1_relu (Activation (None, None, None, 1 0           conv3_block4_1_bn[0][0]          \n",
      "__________________________________________________________________________________________________\n",
      "conv3_block4_2_conv (Conv2D)    (None, None, None, 1 147584      conv3_block4_1_relu[0][0]        \n",
      "__________________________________________________________________________________________________\n",
      "conv3_block4_2_bn (BatchNormali (None, None, None, 1 512         conv3_block4_2_conv[0][0]        \n",
      "__________________________________________________________________________________________________\n",
      "conv3_block4_2_relu (Activation (None, None, None, 1 0           conv3_block4_2_bn[0][0]          \n",
      "__________________________________________________________________________________________________\n",
      "conv3_block4_3_conv (Conv2D)    (None, None, None, 5 66048       conv3_block4_2_relu[0][0]        \n",
      "__________________________________________________________________________________________________\n",
      "conv3_block4_3_bn (BatchNormali (None, None, None, 5 2048        conv3_block4_3_conv[0][0]        \n",
      "__________________________________________________________________________________________________\n",
      "conv3_block4_add (Add)          (None, None, None, 5 0           conv3_block3_out[0][0]           \n",
      "                                                                 conv3_block4_3_bn[0][0]          \n",
      "__________________________________________________________________________________________________\n",
      "conv3_block4_out (Activation)   (None, None, None, 5 0           conv3_block4_add[0][0]           \n",
      "__________________________________________________________________________________________________\n",
      "conv4_block1_1_conv (Conv2D)    (None, None, None, 2 131328      conv3_block4_out[0][0]           \n",
      "__________________________________________________________________________________________________\n",
      "conv4_block1_1_bn (BatchNormali (None, None, None, 2 1024        conv4_block1_1_conv[0][0]        \n",
      "__________________________________________________________________________________________________\n",
      "conv4_block1_1_relu (Activation (None, None, None, 2 0           conv4_block1_1_bn[0][0]          \n",
      "__________________________________________________________________________________________________\n",
      "conv4_block1_2_conv (Conv2D)    (None, None, None, 2 590080      conv4_block1_1_relu[0][0]        \n",
      "__________________________________________________________________________________________________\n",
      "conv4_block1_2_bn (BatchNormali (None, None, None, 2 1024        conv4_block1_2_conv[0][0]        \n",
      "__________________________________________________________________________________________________\n",
      "conv4_block1_2_relu (Activation (None, None, None, 2 0           conv4_block1_2_bn[0][0]          \n",
      "__________________________________________________________________________________________________\n",
      "conv4_block1_0_conv (Conv2D)    (None, None, None, 1 525312      conv3_block4_out[0][0]           \n",
      "__________________________________________________________________________________________________\n",
      "conv4_block1_3_conv (Conv2D)    (None, None, None, 1 263168      conv4_block1_2_relu[0][0]        \n",
      "__________________________________________________________________________________________________\n",
      "conv4_block1_0_bn (BatchNormali (None, None, None, 1 4096        conv4_block1_0_conv[0][0]        \n",
      "__________________________________________________________________________________________________\n",
      "conv4_block1_3_bn (BatchNormali (None, None, None, 1 4096        conv4_block1_3_conv[0][0]        \n",
      "__________________________________________________________________________________________________\n",
      "conv4_block1_add (Add)          (None, None, None, 1 0           conv4_block1_0_bn[0][0]          \n",
      "                                                                 conv4_block1_3_bn[0][0]          \n",
      "__________________________________________________________________________________________________\n",
      "conv4_block1_out (Activation)   (None, None, None, 1 0           conv4_block1_add[0][0]           \n",
      "__________________________________________________________________________________________________\n",
      "conv4_block2_1_conv (Conv2D)    (None, None, None, 2 262400      conv4_block1_out[0][0]           \n",
      "__________________________________________________________________________________________________\n",
      "conv4_block2_1_bn (BatchNormali (None, None, None, 2 1024        conv4_block2_1_conv[0][0]        \n",
      "__________________________________________________________________________________________________\n",
      "conv4_block2_1_relu (Activation (None, None, None, 2 0           conv4_block2_1_bn[0][0]          \n",
      "__________________________________________________________________________________________________\n",
      "conv4_block2_2_conv (Conv2D)    (None, None, None, 2 590080      conv4_block2_1_relu[0][0]        \n",
      "__________________________________________________________________________________________________\n",
      "conv4_block2_2_bn (BatchNormali (None, None, None, 2 1024        conv4_block2_2_conv[0][0]        \n",
      "__________________________________________________________________________________________________\n",
      "conv4_block2_2_relu (Activation (None, None, None, 2 0           conv4_block2_2_bn[0][0]          \n",
      "__________________________________________________________________________________________________\n",
      "conv4_block2_3_conv (Conv2D)    (None, None, None, 1 263168      conv4_block2_2_relu[0][0]        \n",
      "__________________________________________________________________________________________________\n",
      "conv4_block2_3_bn (BatchNormali (None, None, None, 1 4096        conv4_block2_3_conv[0][0]        \n",
      "__________________________________________________________________________________________________\n",
      "conv4_block2_add (Add)          (None, None, None, 1 0           conv4_block1_out[0][0]           \n",
      "                                                                 conv4_block2_3_bn[0][0]          \n",
      "__________________________________________________________________________________________________\n",
      "conv4_block2_out (Activation)   (None, None, None, 1 0           conv4_block2_add[0][0]           \n",
      "__________________________________________________________________________________________________\n",
      "conv4_block3_1_conv (Conv2D)    (None, None, None, 2 262400      conv4_block2_out[0][0]           \n",
      "__________________________________________________________________________________________________\n",
      "conv4_block3_1_bn (BatchNormali (None, None, None, 2 1024        conv4_block3_1_conv[0][0]        \n",
      "__________________________________________________________________________________________________\n",
      "conv4_block3_1_relu (Activation (None, None, None, 2 0           conv4_block3_1_bn[0][0]          \n",
      "__________________________________________________________________________________________________\n",
      "conv4_block3_2_conv (Conv2D)    (None, None, None, 2 590080      conv4_block3_1_relu[0][0]        \n",
      "__________________________________________________________________________________________________\n",
      "conv4_block3_2_bn (BatchNormali (None, None, None, 2 1024        conv4_block3_2_conv[0][0]        \n",
      "__________________________________________________________________________________________________\n",
      "conv4_block3_2_relu (Activation (None, None, None, 2 0           conv4_block3_2_bn[0][0]          \n",
      "__________________________________________________________________________________________________\n",
      "conv4_block3_3_conv (Conv2D)    (None, None, None, 1 263168      conv4_block3_2_relu[0][0]        \n",
      "__________________________________________________________________________________________________\n",
      "conv4_block3_3_bn (BatchNormali (None, None, None, 1 4096        conv4_block3_3_conv[0][0]        \n",
      "__________________________________________________________________________________________________\n",
      "conv4_block3_add (Add)          (None, None, None, 1 0           conv4_block2_out[0][0]           \n",
      "                                                                 conv4_block3_3_bn[0][0]          \n",
      "__________________________________________________________________________________________________\n",
      "conv4_block3_out (Activation)   (None, None, None, 1 0           conv4_block3_add[0][0]           \n",
      "__________________________________________________________________________________________________\n",
      "conv4_block4_1_conv (Conv2D)    (None, None, None, 2 262400      conv4_block3_out[0][0]           \n",
      "__________________________________________________________________________________________________\n",
      "conv4_block4_1_bn (BatchNormali (None, None, None, 2 1024        conv4_block4_1_conv[0][0]        \n",
      "__________________________________________________________________________________________________\n",
      "conv4_block4_1_relu (Activation (None, None, None, 2 0           conv4_block4_1_bn[0][0]          \n",
      "__________________________________________________________________________________________________\n",
      "conv4_block4_2_conv (Conv2D)    (None, None, None, 2 590080      conv4_block4_1_relu[0][0]        \n",
      "__________________________________________________________________________________________________\n",
      "conv4_block4_2_bn (BatchNormali (None, None, None, 2 1024        conv4_block4_2_conv[0][0]        \n",
      "__________________________________________________________________________________________________\n",
      "conv4_block4_2_relu (Activation (None, None, None, 2 0           conv4_block4_2_bn[0][0]          \n",
      "__________________________________________________________________________________________________\n",
      "conv4_block4_3_conv (Conv2D)    (None, None, None, 1 263168      conv4_block4_2_relu[0][0]        \n",
      "__________________________________________________________________________________________________\n",
      "conv4_block4_3_bn (BatchNormali (None, None, None, 1 4096        conv4_block4_3_conv[0][0]        \n",
      "__________________________________________________________________________________________________\n",
      "conv4_block4_add (Add)          (None, None, None, 1 0           conv4_block3_out[0][0]           \n",
      "                                                                 conv4_block4_3_bn[0][0]          \n",
      "__________________________________________________________________________________________________\n",
      "conv4_block4_out (Activation)   (None, None, None, 1 0           conv4_block4_add[0][0]           \n",
      "__________________________________________________________________________________________________\n",
      "conv4_block5_1_conv (Conv2D)    (None, None, None, 2 262400      conv4_block4_out[0][0]           \n",
      "__________________________________________________________________________________________________\n",
      "conv4_block5_1_bn (BatchNormali (None, None, None, 2 1024        conv4_block5_1_conv[0][0]        \n",
      "__________________________________________________________________________________________________\n",
      "conv4_block5_1_relu (Activation (None, None, None, 2 0           conv4_block5_1_bn[0][0]          \n",
      "__________________________________________________________________________________________________\n",
      "conv4_block5_2_conv (Conv2D)    (None, None, None, 2 590080      conv4_block5_1_relu[0][0]        \n",
      "__________________________________________________________________________________________________\n",
      "conv4_block5_2_bn (BatchNormali (None, None, None, 2 1024        conv4_block5_2_conv[0][0]        \n",
      "__________________________________________________________________________________________________\n",
      "conv4_block5_2_relu (Activation (None, None, None, 2 0           conv4_block5_2_bn[0][0]          \n",
      "__________________________________________________________________________________________________\n",
      "conv4_block5_3_conv (Conv2D)    (None, None, None, 1 263168      conv4_block5_2_relu[0][0]        \n",
      "__________________________________________________________________________________________________\n",
      "conv4_block5_3_bn (BatchNormali (None, None, None, 1 4096        conv4_block5_3_conv[0][0]        \n",
      "__________________________________________________________________________________________________\n",
      "conv4_block5_add (Add)          (None, None, None, 1 0           conv4_block4_out[0][0]           \n",
      "                                                                 conv4_block5_3_bn[0][0]          \n",
      "__________________________________________________________________________________________________\n",
      "conv4_block5_out (Activation)   (None, None, None, 1 0           conv4_block5_add[0][0]           \n",
      "__________________________________________________________________________________________________\n",
      "conv4_block6_1_conv (Conv2D)    (None, None, None, 2 262400      conv4_block5_out[0][0]           \n",
      "__________________________________________________________________________________________________\n",
      "conv4_block6_1_bn (BatchNormali (None, None, None, 2 1024        conv4_block6_1_conv[0][0]        \n",
      "__________________________________________________________________________________________________\n",
      "conv4_block6_1_relu (Activation (None, None, None, 2 0           conv4_block6_1_bn[0][0]          \n",
      "__________________________________________________________________________________________________\n",
      "conv4_block6_2_conv (Conv2D)    (None, None, None, 2 590080      conv4_block6_1_relu[0][0]        \n",
      "__________________________________________________________________________________________________\n",
      "conv4_block6_2_bn (BatchNormali (None, None, None, 2 1024        conv4_block6_2_conv[0][0]        \n",
      "__________________________________________________________________________________________________\n",
      "conv4_block6_2_relu (Activation (None, None, None, 2 0           conv4_block6_2_bn[0][0]          \n",
      "__________________________________________________________________________________________________\n",
      "conv4_block6_3_conv (Conv2D)    (None, None, None, 1 263168      conv4_block6_2_relu[0][0]        \n",
      "__________________________________________________________________________________________________\n",
      "conv4_block6_3_bn (BatchNormali (None, None, None, 1 4096        conv4_block6_3_conv[0][0]        \n",
      "__________________________________________________________________________________________________\n",
      "conv4_block6_add (Add)          (None, None, None, 1 0           conv4_block5_out[0][0]           \n",
      "                                                                 conv4_block6_3_bn[0][0]          \n",
      "__________________________________________________________________________________________________\n",
      "conv4_block6_out (Activation)   (None, None, None, 1 0           conv4_block6_add[0][0]           \n",
      "__________________________________________________________________________________________________\n",
      "conv5_block1_1_conv (Conv2D)    (None, None, None, 5 524800      conv4_block6_out[0][0]           \n",
      "__________________________________________________________________________________________________\n",
      "conv5_block1_1_bn (BatchNormali (None, None, None, 5 2048        conv5_block1_1_conv[0][0]        \n",
      "__________________________________________________________________________________________________\n",
      "conv5_block1_1_relu (Activation (None, None, None, 5 0           conv5_block1_1_bn[0][0]          \n",
      "__________________________________________________________________________________________________\n",
      "conv5_block1_2_conv (Conv2D)    (None, None, None, 5 2359808     conv5_block1_1_relu[0][0]        \n",
      "__________________________________________________________________________________________________\n",
      "conv5_block1_2_bn (BatchNormali (None, None, None, 5 2048        conv5_block1_2_conv[0][0]        \n",
      "__________________________________________________________________________________________________\n",
      "conv5_block1_2_relu (Activation (None, None, None, 5 0           conv5_block1_2_bn[0][0]          \n",
      "__________________________________________________________________________________________________\n",
      "conv5_block1_0_conv (Conv2D)    (None, None, None, 2 2099200     conv4_block6_out[0][0]           \n",
      "__________________________________________________________________________________________________\n",
      "conv5_block1_3_conv (Conv2D)    (None, None, None, 2 1050624     conv5_block1_2_relu[0][0]        \n",
      "__________________________________________________________________________________________________\n",
      "conv5_block1_0_bn (BatchNormali (None, None, None, 2 8192        conv5_block1_0_conv[0][0]        \n",
      "__________________________________________________________________________________________________\n",
      "conv5_block1_3_bn (BatchNormali (None, None, None, 2 8192        conv5_block1_3_conv[0][0]        \n",
      "__________________________________________________________________________________________________\n",
      "conv5_block1_add (Add)          (None, None, None, 2 0           conv5_block1_0_bn[0][0]          \n",
      "                                                                 conv5_block1_3_bn[0][0]          \n",
      "__________________________________________________________________________________________________\n",
      "conv5_block1_out (Activation)   (None, None, None, 2 0           conv5_block1_add[0][0]           \n",
      "__________________________________________________________________________________________________\n",
      "conv5_block2_1_conv (Conv2D)    (None, None, None, 5 1049088     conv5_block1_out[0][0]           \n",
      "__________________________________________________________________________________________________\n",
      "conv5_block2_1_bn (BatchNormali (None, None, None, 5 2048        conv5_block2_1_conv[0][0]        \n",
      "__________________________________________________________________________________________________\n",
      "conv5_block2_1_relu (Activation (None, None, None, 5 0           conv5_block2_1_bn[0][0]          \n",
      "__________________________________________________________________________________________________\n",
      "conv5_block2_2_conv (Conv2D)    (None, None, None, 5 2359808     conv5_block2_1_relu[0][0]        \n",
      "__________________________________________________________________________________________________\n",
      "conv5_block2_2_bn (BatchNormali (None, None, None, 5 2048        conv5_block2_2_conv[0][0]        \n",
      "__________________________________________________________________________________________________\n",
      "conv5_block2_2_relu (Activation (None, None, None, 5 0           conv5_block2_2_bn[0][0]          \n",
      "__________________________________________________________________________________________________\n",
      "conv5_block2_3_conv (Conv2D)    (None, None, None, 2 1050624     conv5_block2_2_relu[0][0]        \n",
      "__________________________________________________________________________________________________\n",
      "conv5_block2_3_bn (BatchNormali (None, None, None, 2 8192        conv5_block2_3_conv[0][0]        \n",
      "__________________________________________________________________________________________________\n",
      "conv5_block2_add (Add)          (None, None, None, 2 0           conv5_block1_out[0][0]           \n",
      "                                                                 conv5_block2_3_bn[0][0]          \n",
      "__________________________________________________________________________________________________\n",
      "conv5_block2_out (Activation)   (None, None, None, 2 0           conv5_block2_add[0][0]           \n",
      "__________________________________________________________________________________________________\n",
      "conv5_block3_1_conv (Conv2D)    (None, None, None, 5 1049088     conv5_block2_out[0][0]           \n",
      "__________________________________________________________________________________________________\n",
      "conv5_block3_1_bn (BatchNormali (None, None, None, 5 2048        conv5_block3_1_conv[0][0]        \n",
      "__________________________________________________________________________________________________\n",
      "conv5_block3_1_relu (Activation (None, None, None, 5 0           conv5_block3_1_bn[0][0]          \n",
      "__________________________________________________________________________________________________\n",
      "conv5_block3_2_conv (Conv2D)    (None, None, None, 5 2359808     conv5_block3_1_relu[0][0]        \n",
      "__________________________________________________________________________________________________\n",
      "conv5_block3_2_bn (BatchNormali (None, None, None, 5 2048        conv5_block3_2_conv[0][0]        \n",
      "__________________________________________________________________________________________________\n",
      "conv5_block3_2_relu (Activation (None, None, None, 5 0           conv5_block3_2_bn[0][0]          \n",
      "__________________________________________________________________________________________________\n",
      "conv5_block3_3_conv (Conv2D)    (None, None, None, 2 1050624     conv5_block3_2_relu[0][0]        \n",
      "__________________________________________________________________________________________________\n",
      "conv5_block3_3_bn (BatchNormali (None, None, None, 2 8192        conv5_block3_3_conv[0][0]        \n",
      "__________________________________________________________________________________________________\n",
      "conv5_block3_add (Add)          (None, None, None, 2 0           conv5_block2_out[0][0]           \n",
      "                                                                 conv5_block3_3_bn[0][0]          \n",
      "__________________________________________________________________________________________________\n",
      "conv5_block3_out (Activation)   (None, None, None, 2 0           conv5_block3_add[0][0]           \n",
      "==================================================================================================\n",
      "Total params: 23,587,712\n",
      "Trainable params: 23,534,592\n",
      "Non-trainable params: 53,120\n",
      "__________________________________________________________________________________________________\n"
     ]
    }
   ],
   "source": [
    "res1.summary()"
   ]
  },
  {
   "cell_type": "code",
   "execution_count": null,
   "metadata": {
    "colab": {
     "base_uri": "https://localhost:8080/",
     "height": 1000
    },
    "colab_type": "code",
    "id": "yhPsfQ_60Ig2",
    "outputId": "a05d4653-2b41-413b-a613-8b08543449ed"
   },
   "outputs": [
    {
     "name": "stdout",
     "output_type": "stream",
     "text": [
      "Model: \"resnet50\"\n",
      "__________________________________________________________________________________________________\n",
      "Layer (type)                    Output Shape         Param #     Connected to                     \n",
      "==================================================================================================\n",
      "input_4 (InputLayer)            (None, 224, 224, 3)  0                                            \n",
      "__________________________________________________________________________________________________\n",
      "conv1_pad (ZeroPadding2D)       (None, 230, 230, 3)  0           input_4[0][0]                    \n",
      "__________________________________________________________________________________________________\n",
      "conv1_conv (Conv2D)             (None, 112, 112, 64) 9472        conv1_pad[0][0]                  \n",
      "__________________________________________________________________________________________________\n",
      "conv1_bn (BatchNormalization)   (None, 112, 112, 64) 256         conv1_conv[0][0]                 \n",
      "__________________________________________________________________________________________________\n",
      "conv1_relu (Activation)         (None, 112, 112, 64) 0           conv1_bn[0][0]                   \n",
      "__________________________________________________________________________________________________\n",
      "pool1_pad (ZeroPadding2D)       (None, 114, 114, 64) 0           conv1_relu[0][0]                 \n",
      "__________________________________________________________________________________________________\n",
      "pool1_pool (MaxPooling2D)       (None, 56, 56, 64)   0           pool1_pad[0][0]                  \n",
      "__________________________________________________________________________________________________\n",
      "conv2_block1_1_conv (Conv2D)    (None, 56, 56, 64)   4160        pool1_pool[0][0]                 \n",
      "__________________________________________________________________________________________________\n",
      "conv2_block1_1_bn (BatchNormali (None, 56, 56, 64)   256         conv2_block1_1_conv[0][0]        \n",
      "__________________________________________________________________________________________________\n",
      "conv2_block1_1_relu (Activation (None, 56, 56, 64)   0           conv2_block1_1_bn[0][0]          \n",
      "__________________________________________________________________________________________________\n",
      "conv2_block1_2_conv (Conv2D)    (None, 56, 56, 64)   36928       conv2_block1_1_relu[0][0]        \n",
      "__________________________________________________________________________________________________\n",
      "conv2_block1_2_bn (BatchNormali (None, 56, 56, 64)   256         conv2_block1_2_conv[0][0]        \n",
      "__________________________________________________________________________________________________\n",
      "conv2_block1_2_relu (Activation (None, 56, 56, 64)   0           conv2_block1_2_bn[0][0]          \n",
      "__________________________________________________________________________________________________\n",
      "conv2_block1_0_conv (Conv2D)    (None, 56, 56, 256)  16640       pool1_pool[0][0]                 \n",
      "__________________________________________________________________________________________________\n",
      "conv2_block1_3_conv (Conv2D)    (None, 56, 56, 256)  16640       conv2_block1_2_relu[0][0]        \n",
      "__________________________________________________________________________________________________\n",
      "conv2_block1_0_bn (BatchNormali (None, 56, 56, 256)  1024        conv2_block1_0_conv[0][0]        \n",
      "__________________________________________________________________________________________________\n",
      "conv2_block1_3_bn (BatchNormali (None, 56, 56, 256)  1024        conv2_block1_3_conv[0][0]        \n",
      "__________________________________________________________________________________________________\n",
      "conv2_block1_add (Add)          (None, 56, 56, 256)  0           conv2_block1_0_bn[0][0]          \n",
      "                                                                 conv2_block1_3_bn[0][0]          \n",
      "__________________________________________________________________________________________________\n",
      "conv2_block1_out (Activation)   (None, 56, 56, 256)  0           conv2_block1_add[0][0]           \n",
      "__________________________________________________________________________________________________\n",
      "conv2_block2_1_conv (Conv2D)    (None, 56, 56, 64)   16448       conv2_block1_out[0][0]           \n",
      "__________________________________________________________________________________________________\n",
      "conv2_block2_1_bn (BatchNormali (None, 56, 56, 64)   256         conv2_block2_1_conv[0][0]        \n",
      "__________________________________________________________________________________________________\n",
      "conv2_block2_1_relu (Activation (None, 56, 56, 64)   0           conv2_block2_1_bn[0][0]          \n",
      "__________________________________________________________________________________________________\n",
      "conv2_block2_2_conv (Conv2D)    (None, 56, 56, 64)   36928       conv2_block2_1_relu[0][0]        \n",
      "__________________________________________________________________________________________________\n",
      "conv2_block2_2_bn (BatchNormali (None, 56, 56, 64)   256         conv2_block2_2_conv[0][0]        \n",
      "__________________________________________________________________________________________________\n",
      "conv2_block2_2_relu (Activation (None, 56, 56, 64)   0           conv2_block2_2_bn[0][0]          \n",
      "__________________________________________________________________________________________________\n",
      "conv2_block2_3_conv (Conv2D)    (None, 56, 56, 256)  16640       conv2_block2_2_relu[0][0]        \n",
      "__________________________________________________________________________________________________\n",
      "conv2_block2_3_bn (BatchNormali (None, 56, 56, 256)  1024        conv2_block2_3_conv[0][0]        \n",
      "__________________________________________________________________________________________________\n",
      "conv2_block2_add (Add)          (None, 56, 56, 256)  0           conv2_block1_out[0][0]           \n",
      "                                                                 conv2_block2_3_bn[0][0]          \n",
      "__________________________________________________________________________________________________\n",
      "conv2_block2_out (Activation)   (None, 56, 56, 256)  0           conv2_block2_add[0][0]           \n",
      "__________________________________________________________________________________________________\n",
      "conv2_block3_1_conv (Conv2D)    (None, 56, 56, 64)   16448       conv2_block2_out[0][0]           \n",
      "__________________________________________________________________________________________________\n",
      "conv2_block3_1_bn (BatchNormali (None, 56, 56, 64)   256         conv2_block3_1_conv[0][0]        \n",
      "__________________________________________________________________________________________________\n",
      "conv2_block3_1_relu (Activation (None, 56, 56, 64)   0           conv2_block3_1_bn[0][0]          \n",
      "__________________________________________________________________________________________________\n",
      "conv2_block3_2_conv (Conv2D)    (None, 56, 56, 64)   36928       conv2_block3_1_relu[0][0]        \n",
      "__________________________________________________________________________________________________\n",
      "conv2_block3_2_bn (BatchNormali (None, 56, 56, 64)   256         conv2_block3_2_conv[0][0]        \n",
      "__________________________________________________________________________________________________\n",
      "conv2_block3_2_relu (Activation (None, 56, 56, 64)   0           conv2_block3_2_bn[0][0]          \n",
      "__________________________________________________________________________________________________\n",
      "conv2_block3_3_conv (Conv2D)    (None, 56, 56, 256)  16640       conv2_block3_2_relu[0][0]        \n",
      "__________________________________________________________________________________________________\n",
      "conv2_block3_3_bn (BatchNormali (None, 56, 56, 256)  1024        conv2_block3_3_conv[0][0]        \n",
      "__________________________________________________________________________________________________\n",
      "conv2_block3_add (Add)          (None, 56, 56, 256)  0           conv2_block2_out[0][0]           \n",
      "                                                                 conv2_block3_3_bn[0][0]          \n",
      "__________________________________________________________________________________________________\n",
      "conv2_block3_out (Activation)   (None, 56, 56, 256)  0           conv2_block3_add[0][0]           \n",
      "__________________________________________________________________________________________________\n",
      "conv3_block1_1_conv (Conv2D)    (None, 28, 28, 128)  32896       conv2_block3_out[0][0]           \n",
      "__________________________________________________________________________________________________\n",
      "conv3_block1_1_bn (BatchNormali (None, 28, 28, 128)  512         conv3_block1_1_conv[0][0]        \n",
      "__________________________________________________________________________________________________\n",
      "conv3_block1_1_relu (Activation (None, 28, 28, 128)  0           conv3_block1_1_bn[0][0]          \n",
      "__________________________________________________________________________________________________\n",
      "conv3_block1_2_conv (Conv2D)    (None, 28, 28, 128)  147584      conv3_block1_1_relu[0][0]        \n",
      "__________________________________________________________________________________________________\n",
      "conv3_block1_2_bn (BatchNormali (None, 28, 28, 128)  512         conv3_block1_2_conv[0][0]        \n",
      "__________________________________________________________________________________________________\n",
      "conv3_block1_2_relu (Activation (None, 28, 28, 128)  0           conv3_block1_2_bn[0][0]          \n",
      "__________________________________________________________________________________________________\n",
      "conv3_block1_0_conv (Conv2D)    (None, 28, 28, 512)  131584      conv2_block3_out[0][0]           \n",
      "__________________________________________________________________________________________________\n",
      "conv3_block1_3_conv (Conv2D)    (None, 28, 28, 512)  66048       conv3_block1_2_relu[0][0]        \n",
      "__________________________________________________________________________________________________\n",
      "conv3_block1_0_bn (BatchNormali (None, 28, 28, 512)  2048        conv3_block1_0_conv[0][0]        \n",
      "__________________________________________________________________________________________________\n",
      "conv3_block1_3_bn (BatchNormali (None, 28, 28, 512)  2048        conv3_block1_3_conv[0][0]        \n",
      "__________________________________________________________________________________________________\n",
      "conv3_block1_add (Add)          (None, 28, 28, 512)  0           conv3_block1_0_bn[0][0]          \n",
      "                                                                 conv3_block1_3_bn[0][0]          \n",
      "__________________________________________________________________________________________________\n",
      "conv3_block1_out (Activation)   (None, 28, 28, 512)  0           conv3_block1_add[0][0]           \n",
      "__________________________________________________________________________________________________\n",
      "conv3_block2_1_conv (Conv2D)    (None, 28, 28, 128)  65664       conv3_block1_out[0][0]           \n",
      "__________________________________________________________________________________________________\n",
      "conv3_block2_1_bn (BatchNormali (None, 28, 28, 128)  512         conv3_block2_1_conv[0][0]        \n",
      "__________________________________________________________________________________________________\n",
      "conv3_block2_1_relu (Activation (None, 28, 28, 128)  0           conv3_block2_1_bn[0][0]          \n",
      "__________________________________________________________________________________________________\n",
      "conv3_block2_2_conv (Conv2D)    (None, 28, 28, 128)  147584      conv3_block2_1_relu[0][0]        \n",
      "__________________________________________________________________________________________________\n",
      "conv3_block2_2_bn (BatchNormali (None, 28, 28, 128)  512         conv3_block2_2_conv[0][0]        \n",
      "__________________________________________________________________________________________________\n",
      "conv3_block2_2_relu (Activation (None, 28, 28, 128)  0           conv3_block2_2_bn[0][0]          \n",
      "__________________________________________________________________________________________________\n",
      "conv3_block2_3_conv (Conv2D)    (None, 28, 28, 512)  66048       conv3_block2_2_relu[0][0]        \n",
      "__________________________________________________________________________________________________\n",
      "conv3_block2_3_bn (BatchNormali (None, 28, 28, 512)  2048        conv3_block2_3_conv[0][0]        \n",
      "__________________________________________________________________________________________________\n",
      "conv3_block2_add (Add)          (None, 28, 28, 512)  0           conv3_block1_out[0][0]           \n",
      "                                                                 conv3_block2_3_bn[0][0]          \n",
      "__________________________________________________________________________________________________\n",
      "conv3_block2_out (Activation)   (None, 28, 28, 512)  0           conv3_block2_add[0][0]           \n",
      "__________________________________________________________________________________________________\n",
      "conv3_block3_1_conv (Conv2D)    (None, 28, 28, 128)  65664       conv3_block2_out[0][0]           \n",
      "__________________________________________________________________________________________________\n",
      "conv3_block3_1_bn (BatchNormali (None, 28, 28, 128)  512         conv3_block3_1_conv[0][0]        \n",
      "__________________________________________________________________________________________________\n",
      "conv3_block3_1_relu (Activation (None, 28, 28, 128)  0           conv3_block3_1_bn[0][0]          \n",
      "__________________________________________________________________________________________________\n",
      "conv3_block3_2_conv (Conv2D)    (None, 28, 28, 128)  147584      conv3_block3_1_relu[0][0]        \n",
      "__________________________________________________________________________________________________\n",
      "conv3_block3_2_bn (BatchNormali (None, 28, 28, 128)  512         conv3_block3_2_conv[0][0]        \n",
      "__________________________________________________________________________________________________\n",
      "conv3_block3_2_relu (Activation (None, 28, 28, 128)  0           conv3_block3_2_bn[0][0]          \n",
      "__________________________________________________________________________________________________\n",
      "conv3_block3_3_conv (Conv2D)    (None, 28, 28, 512)  66048       conv3_block3_2_relu[0][0]        \n",
      "__________________________________________________________________________________________________\n",
      "conv3_block3_3_bn (BatchNormali (None, 28, 28, 512)  2048        conv3_block3_3_conv[0][0]        \n",
      "__________________________________________________________________________________________________\n",
      "conv3_block3_add (Add)          (None, 28, 28, 512)  0           conv3_block2_out[0][0]           \n",
      "                                                                 conv3_block3_3_bn[0][0]          \n",
      "__________________________________________________________________________________________________\n",
      "conv3_block3_out (Activation)   (None, 28, 28, 512)  0           conv3_block3_add[0][0]           \n",
      "__________________________________________________________________________________________________\n",
      "conv3_block4_1_conv (Conv2D)    (None, 28, 28, 128)  65664       conv3_block3_out[0][0]           \n",
      "__________________________________________________________________________________________________\n",
      "conv3_block4_1_bn (BatchNormali (None, 28, 28, 128)  512         conv3_block4_1_conv[0][0]        \n",
      "__________________________________________________________________________________________________\n",
      "conv3_block4_1_relu (Activation (None, 28, 28, 128)  0           conv3_block4_1_bn[0][0]          \n",
      "__________________________________________________________________________________________________\n",
      "conv3_block4_2_conv (Conv2D)    (None, 28, 28, 128)  147584      conv3_block4_1_relu[0][0]        \n",
      "__________________________________________________________________________________________________\n",
      "conv3_block4_2_bn (BatchNormali (None, 28, 28, 128)  512         conv3_block4_2_conv[0][0]        \n",
      "__________________________________________________________________________________________________\n",
      "conv3_block4_2_relu (Activation (None, 28, 28, 128)  0           conv3_block4_2_bn[0][0]          \n",
      "__________________________________________________________________________________________________\n",
      "conv3_block4_3_conv (Conv2D)    (None, 28, 28, 512)  66048       conv3_block4_2_relu[0][0]        \n",
      "__________________________________________________________________________________________________\n",
      "conv3_block4_3_bn (BatchNormali (None, 28, 28, 512)  2048        conv3_block4_3_conv[0][0]        \n",
      "__________________________________________________________________________________________________\n",
      "conv3_block4_add (Add)          (None, 28, 28, 512)  0           conv3_block3_out[0][0]           \n",
      "                                                                 conv3_block4_3_bn[0][0]          \n",
      "__________________________________________________________________________________________________\n",
      "conv3_block4_out (Activation)   (None, 28, 28, 512)  0           conv3_block4_add[0][0]           \n",
      "__________________________________________________________________________________________________\n",
      "conv4_block1_1_conv (Conv2D)    (None, 14, 14, 256)  131328      conv3_block4_out[0][0]           \n",
      "__________________________________________________________________________________________________\n",
      "conv4_block1_1_bn (BatchNormali (None, 14, 14, 256)  1024        conv4_block1_1_conv[0][0]        \n",
      "__________________________________________________________________________________________________\n",
      "conv4_block1_1_relu (Activation (None, 14, 14, 256)  0           conv4_block1_1_bn[0][0]          \n",
      "__________________________________________________________________________________________________\n",
      "conv4_block1_2_conv (Conv2D)    (None, 14, 14, 256)  590080      conv4_block1_1_relu[0][0]        \n",
      "__________________________________________________________________________________________________\n",
      "conv4_block1_2_bn (BatchNormali (None, 14, 14, 256)  1024        conv4_block1_2_conv[0][0]        \n",
      "__________________________________________________________________________________________________\n",
      "conv4_block1_2_relu (Activation (None, 14, 14, 256)  0           conv4_block1_2_bn[0][0]          \n",
      "__________________________________________________________________________________________________\n",
      "conv4_block1_0_conv (Conv2D)    (None, 14, 14, 1024) 525312      conv3_block4_out[0][0]           \n",
      "__________________________________________________________________________________________________\n",
      "conv4_block1_3_conv (Conv2D)    (None, 14, 14, 1024) 263168      conv4_block1_2_relu[0][0]        \n",
      "__________________________________________________________________________________________________\n",
      "conv4_block1_0_bn (BatchNormali (None, 14, 14, 1024) 4096        conv4_block1_0_conv[0][0]        \n",
      "__________________________________________________________________________________________________\n",
      "conv4_block1_3_bn (BatchNormali (None, 14, 14, 1024) 4096        conv4_block1_3_conv[0][0]        \n",
      "__________________________________________________________________________________________________\n",
      "conv4_block1_add (Add)          (None, 14, 14, 1024) 0           conv4_block1_0_bn[0][0]          \n",
      "                                                                 conv4_block1_3_bn[0][0]          \n",
      "__________________________________________________________________________________________________\n",
      "conv4_block1_out (Activation)   (None, 14, 14, 1024) 0           conv4_block1_add[0][0]           \n",
      "__________________________________________________________________________________________________\n",
      "conv4_block2_1_conv (Conv2D)    (None, 14, 14, 256)  262400      conv4_block1_out[0][0]           \n",
      "__________________________________________________________________________________________________\n",
      "conv4_block2_1_bn (BatchNormali (None, 14, 14, 256)  1024        conv4_block2_1_conv[0][0]        \n",
      "__________________________________________________________________________________________________\n",
      "conv4_block2_1_relu (Activation (None, 14, 14, 256)  0           conv4_block2_1_bn[0][0]          \n",
      "__________________________________________________________________________________________________\n",
      "conv4_block2_2_conv (Conv2D)    (None, 14, 14, 256)  590080      conv4_block2_1_relu[0][0]        \n",
      "__________________________________________________________________________________________________\n",
      "conv4_block2_2_bn (BatchNormali (None, 14, 14, 256)  1024        conv4_block2_2_conv[0][0]        \n",
      "__________________________________________________________________________________________________\n",
      "conv4_block2_2_relu (Activation (None, 14, 14, 256)  0           conv4_block2_2_bn[0][0]          \n",
      "__________________________________________________________________________________________________\n",
      "conv4_block2_3_conv (Conv2D)    (None, 14, 14, 1024) 263168      conv4_block2_2_relu[0][0]        \n",
      "__________________________________________________________________________________________________\n",
      "conv4_block2_3_bn (BatchNormali (None, 14, 14, 1024) 4096        conv4_block2_3_conv[0][0]        \n",
      "__________________________________________________________________________________________________\n",
      "conv4_block2_add (Add)          (None, 14, 14, 1024) 0           conv4_block1_out[0][0]           \n",
      "                                                                 conv4_block2_3_bn[0][0]          \n",
      "__________________________________________________________________________________________________\n",
      "conv4_block2_out (Activation)   (None, 14, 14, 1024) 0           conv4_block2_add[0][0]           \n",
      "__________________________________________________________________________________________________\n",
      "conv4_block3_1_conv (Conv2D)    (None, 14, 14, 256)  262400      conv4_block2_out[0][0]           \n",
      "__________________________________________________________________________________________________\n",
      "conv4_block3_1_bn (BatchNormali (None, 14, 14, 256)  1024        conv4_block3_1_conv[0][0]        \n",
      "__________________________________________________________________________________________________\n",
      "conv4_block3_1_relu (Activation (None, 14, 14, 256)  0           conv4_block3_1_bn[0][0]          \n",
      "__________________________________________________________________________________________________\n",
      "conv4_block3_2_conv (Conv2D)    (None, 14, 14, 256)  590080      conv4_block3_1_relu[0][0]        \n",
      "__________________________________________________________________________________________________\n",
      "conv4_block3_2_bn (BatchNormali (None, 14, 14, 256)  1024        conv4_block3_2_conv[0][0]        \n",
      "__________________________________________________________________________________________________\n",
      "conv4_block3_2_relu (Activation (None, 14, 14, 256)  0           conv4_block3_2_bn[0][0]          \n",
      "__________________________________________________________________________________________________\n",
      "conv4_block3_3_conv (Conv2D)    (None, 14, 14, 1024) 263168      conv4_block3_2_relu[0][0]        \n",
      "__________________________________________________________________________________________________\n",
      "conv4_block3_3_bn (BatchNormali (None, 14, 14, 1024) 4096        conv4_block3_3_conv[0][0]        \n",
      "__________________________________________________________________________________________________\n",
      "conv4_block3_add (Add)          (None, 14, 14, 1024) 0           conv4_block2_out[0][0]           \n",
      "                                                                 conv4_block3_3_bn[0][0]          \n",
      "__________________________________________________________________________________________________\n",
      "conv4_block3_out (Activation)   (None, 14, 14, 1024) 0           conv4_block3_add[0][0]           \n",
      "__________________________________________________________________________________________________\n",
      "conv4_block4_1_conv (Conv2D)    (None, 14, 14, 256)  262400      conv4_block3_out[0][0]           \n",
      "__________________________________________________________________________________________________\n",
      "conv4_block4_1_bn (BatchNormali (None, 14, 14, 256)  1024        conv4_block4_1_conv[0][0]        \n",
      "__________________________________________________________________________________________________\n",
      "conv4_block4_1_relu (Activation (None, 14, 14, 256)  0           conv4_block4_1_bn[0][0]          \n",
      "__________________________________________________________________________________________________\n",
      "conv4_block4_2_conv (Conv2D)    (None, 14, 14, 256)  590080      conv4_block4_1_relu[0][0]        \n",
      "__________________________________________________________________________________________________\n",
      "conv4_block4_2_bn (BatchNormali (None, 14, 14, 256)  1024        conv4_block4_2_conv[0][0]        \n",
      "__________________________________________________________________________________________________\n",
      "conv4_block4_2_relu (Activation (None, 14, 14, 256)  0           conv4_block4_2_bn[0][0]          \n",
      "__________________________________________________________________________________________________\n",
      "conv4_block4_3_conv (Conv2D)    (None, 14, 14, 1024) 263168      conv4_block4_2_relu[0][0]        \n",
      "__________________________________________________________________________________________________\n",
      "conv4_block4_3_bn (BatchNormali (None, 14, 14, 1024) 4096        conv4_block4_3_conv[0][0]        \n",
      "__________________________________________________________________________________________________\n",
      "conv4_block4_add (Add)          (None, 14, 14, 1024) 0           conv4_block3_out[0][0]           \n",
      "                                                                 conv4_block4_3_bn[0][0]          \n",
      "__________________________________________________________________________________________________\n",
      "conv4_block4_out (Activation)   (None, 14, 14, 1024) 0           conv4_block4_add[0][0]           \n",
      "__________________________________________________________________________________________________\n",
      "conv4_block5_1_conv (Conv2D)    (None, 14, 14, 256)  262400      conv4_block4_out[0][0]           \n",
      "__________________________________________________________________________________________________\n",
      "conv4_block5_1_bn (BatchNormali (None, 14, 14, 256)  1024        conv4_block5_1_conv[0][0]        \n",
      "__________________________________________________________________________________________________\n",
      "conv4_block5_1_relu (Activation (None, 14, 14, 256)  0           conv4_block5_1_bn[0][0]          \n",
      "__________________________________________________________________________________________________\n",
      "conv4_block5_2_conv (Conv2D)    (None, 14, 14, 256)  590080      conv4_block5_1_relu[0][0]        \n",
      "__________________________________________________________________________________________________\n",
      "conv4_block5_2_bn (BatchNormali (None, 14, 14, 256)  1024        conv4_block5_2_conv[0][0]        \n",
      "__________________________________________________________________________________________________\n",
      "conv4_block5_2_relu (Activation (None, 14, 14, 256)  0           conv4_block5_2_bn[0][0]          \n",
      "__________________________________________________________________________________________________\n",
      "conv4_block5_3_conv (Conv2D)    (None, 14, 14, 1024) 263168      conv4_block5_2_relu[0][0]        \n",
      "__________________________________________________________________________________________________\n",
      "conv4_block5_3_bn (BatchNormali (None, 14, 14, 1024) 4096        conv4_block5_3_conv[0][0]        \n",
      "__________________________________________________________________________________________________\n",
      "conv4_block5_add (Add)          (None, 14, 14, 1024) 0           conv4_block4_out[0][0]           \n",
      "                                                                 conv4_block5_3_bn[0][0]          \n",
      "__________________________________________________________________________________________________\n",
      "conv4_block5_out (Activation)   (None, 14, 14, 1024) 0           conv4_block5_add[0][0]           \n",
      "__________________________________________________________________________________________________\n",
      "conv4_block6_1_conv (Conv2D)    (None, 14, 14, 256)  262400      conv4_block5_out[0][0]           \n",
      "__________________________________________________________________________________________________\n",
      "conv4_block6_1_bn (BatchNormali (None, 14, 14, 256)  1024        conv4_block6_1_conv[0][0]        \n",
      "__________________________________________________________________________________________________\n",
      "conv4_block6_1_relu (Activation (None, 14, 14, 256)  0           conv4_block6_1_bn[0][0]          \n",
      "__________________________________________________________________________________________________\n",
      "conv4_block6_2_conv (Conv2D)    (None, 14, 14, 256)  590080      conv4_block6_1_relu[0][0]        \n",
      "__________________________________________________________________________________________________\n",
      "conv4_block6_2_bn (BatchNormali (None, 14, 14, 256)  1024        conv4_block6_2_conv[0][0]        \n",
      "__________________________________________________________________________________________________\n",
      "conv4_block6_2_relu (Activation (None, 14, 14, 256)  0           conv4_block6_2_bn[0][0]          \n",
      "__________________________________________________________________________________________________\n",
      "conv4_block6_3_conv (Conv2D)    (None, 14, 14, 1024) 263168      conv4_block6_2_relu[0][0]        \n",
      "__________________________________________________________________________________________________\n",
      "conv4_block6_3_bn (BatchNormali (None, 14, 14, 1024) 4096        conv4_block6_3_conv[0][0]        \n",
      "__________________________________________________________________________________________________\n",
      "conv4_block6_add (Add)          (None, 14, 14, 1024) 0           conv4_block5_out[0][0]           \n",
      "                                                                 conv4_block6_3_bn[0][0]          \n",
      "__________________________________________________________________________________________________\n",
      "conv4_block6_out (Activation)   (None, 14, 14, 1024) 0           conv4_block6_add[0][0]           \n",
      "__________________________________________________________________________________________________\n",
      "conv5_block1_1_conv (Conv2D)    (None, 7, 7, 512)    524800      conv4_block6_out[0][0]           \n",
      "__________________________________________________________________________________________________\n",
      "conv5_block1_1_bn (BatchNormali (None, 7, 7, 512)    2048        conv5_block1_1_conv[0][0]        \n",
      "__________________________________________________________________________________________________\n",
      "conv5_block1_1_relu (Activation (None, 7, 7, 512)    0           conv5_block1_1_bn[0][0]          \n",
      "__________________________________________________________________________________________________\n",
      "conv5_block1_2_conv (Conv2D)    (None, 7, 7, 512)    2359808     conv5_block1_1_relu[0][0]        \n",
      "__________________________________________________________________________________________________\n",
      "conv5_block1_2_bn (BatchNormali (None, 7, 7, 512)    2048        conv5_block1_2_conv[0][0]        \n",
      "__________________________________________________________________________________________________\n",
      "conv5_block1_2_relu (Activation (None, 7, 7, 512)    0           conv5_block1_2_bn[0][0]          \n",
      "__________________________________________________________________________________________________\n",
      "conv5_block1_0_conv (Conv2D)    (None, 7, 7, 2048)   2099200     conv4_block6_out[0][0]           \n",
      "__________________________________________________________________________________________________\n",
      "conv5_block1_3_conv (Conv2D)    (None, 7, 7, 2048)   1050624     conv5_block1_2_relu[0][0]        \n",
      "__________________________________________________________________________________________________\n",
      "conv5_block1_0_bn (BatchNormali (None, 7, 7, 2048)   8192        conv5_block1_0_conv[0][0]        \n",
      "__________________________________________________________________________________________________\n",
      "conv5_block1_3_bn (BatchNormali (None, 7, 7, 2048)   8192        conv5_block1_3_conv[0][0]        \n",
      "__________________________________________________________________________________________________\n",
      "conv5_block1_add (Add)          (None, 7, 7, 2048)   0           conv5_block1_0_bn[0][0]          \n",
      "                                                                 conv5_block1_3_bn[0][0]          \n",
      "__________________________________________________________________________________________________\n",
      "conv5_block1_out (Activation)   (None, 7, 7, 2048)   0           conv5_block1_add[0][0]           \n",
      "__________________________________________________________________________________________________\n",
      "conv5_block2_1_conv (Conv2D)    (None, 7, 7, 512)    1049088     conv5_block1_out[0][0]           \n",
      "__________________________________________________________________________________________________\n",
      "conv5_block2_1_bn (BatchNormali (None, 7, 7, 512)    2048        conv5_block2_1_conv[0][0]        \n",
      "__________________________________________________________________________________________________\n",
      "conv5_block2_1_relu (Activation (None, 7, 7, 512)    0           conv5_block2_1_bn[0][0]          \n",
      "__________________________________________________________________________________________________\n",
      "conv5_block2_2_conv (Conv2D)    (None, 7, 7, 512)    2359808     conv5_block2_1_relu[0][0]        \n",
      "__________________________________________________________________________________________________\n",
      "conv5_block2_2_bn (BatchNormali (None, 7, 7, 512)    2048        conv5_block2_2_conv[0][0]        \n",
      "__________________________________________________________________________________________________\n",
      "conv5_block2_2_relu (Activation (None, 7, 7, 512)    0           conv5_block2_2_bn[0][0]          \n",
      "__________________________________________________________________________________________________\n",
      "conv5_block2_3_conv (Conv2D)    (None, 7, 7, 2048)   1050624     conv5_block2_2_relu[0][0]        \n",
      "__________________________________________________________________________________________________\n",
      "conv5_block2_3_bn (BatchNormali (None, 7, 7, 2048)   8192        conv5_block2_3_conv[0][0]        \n",
      "__________________________________________________________________________________________________\n",
      "conv5_block2_add (Add)          (None, 7, 7, 2048)   0           conv5_block1_out[0][0]           \n",
      "                                                                 conv5_block2_3_bn[0][0]          \n",
      "__________________________________________________________________________________________________\n",
      "conv5_block2_out (Activation)   (None, 7, 7, 2048)   0           conv5_block2_add[0][0]           \n",
      "__________________________________________________________________________________________________\n",
      "conv5_block3_1_conv (Conv2D)    (None, 7, 7, 512)    1049088     conv5_block2_out[0][0]           \n",
      "__________________________________________________________________________________________________\n",
      "conv5_block3_1_bn (BatchNormali (None, 7, 7, 512)    2048        conv5_block3_1_conv[0][0]        \n",
      "__________________________________________________________________________________________________\n",
      "conv5_block3_1_relu (Activation (None, 7, 7, 512)    0           conv5_block3_1_bn[0][0]          \n",
      "__________________________________________________________________________________________________\n",
      "conv5_block3_2_conv (Conv2D)    (None, 7, 7, 512)    2359808     conv5_block3_1_relu[0][0]        \n",
      "__________________________________________________________________________________________________\n",
      "conv5_block3_2_bn (BatchNormali (None, 7, 7, 512)    2048        conv5_block3_2_conv[0][0]        \n",
      "__________________________________________________________________________________________________\n",
      "conv5_block3_2_relu (Activation (None, 7, 7, 512)    0           conv5_block3_2_bn[0][0]          \n",
      "__________________________________________________________________________________________________\n",
      "conv5_block3_3_conv (Conv2D)    (None, 7, 7, 2048)   1050624     conv5_block3_2_relu[0][0]        \n",
      "__________________________________________________________________________________________________\n",
      "conv5_block3_3_bn (BatchNormali (None, 7, 7, 2048)   8192        conv5_block3_3_conv[0][0]        \n",
      "__________________________________________________________________________________________________\n",
      "conv5_block3_add (Add)          (None, 7, 7, 2048)   0           conv5_block2_out[0][0]           \n",
      "                                                                 conv5_block3_3_bn[0][0]          \n",
      "__________________________________________________________________________________________________\n",
      "conv5_block3_out (Activation)   (None, 7, 7, 2048)   0           conv5_block3_add[0][0]           \n",
      "__________________________________________________________________________________________________\n",
      "avg_pool (GlobalAveragePooling2 (None, 2048)         0           conv5_block3_out[0][0]           \n",
      "__________________________________________________________________________________________________\n",
      "probs (Dense)                   (None, 1000)         2049000     avg_pool[0][0]                   \n",
      "==================================================================================================\n",
      "Total params: 25,636,712\n",
      "Trainable params: 25,583,592\n",
      "Non-trainable params: 53,120\n",
      "__________________________________________________________________________________________________\n"
     ]
    }
   ],
   "source": [
    "res2.summary()"
   ]
  },
  {
   "cell_type": "markdown",
   "metadata": {
    "colab_type": "text",
    "id": "4hedQ01ZAAlu"
   },
   "source": [
    "##Regularization"
   ]
  },
  {
   "cell_type": "markdown",
   "metadata": {
    "colab_type": "text",
    "id": "QtbgMZLsADu8"
   },
   "source": [
    "It seems like our model has too many parameters and it will result in an overfit. In order to fix this, we can use reglarization techniques. Drop out is a very common method to handle the overfitting problem. L2 and L1 regularization can also be used but not very common in CNNs. "
   ]
  },
  {
   "cell_type": "code",
   "execution_count": null,
   "metadata": {
    "colab": {},
    "colab_type": "code",
    "id": "-k1QmKGlApN0"
   },
   "outputs": [],
   "source": [
    "from keras.layers import Dropout\n",
    "from keras.regularizers import l1\n",
    "from keras.regularizers import l2"
   ]
  },
  {
   "cell_type": "code",
   "execution_count": null,
   "metadata": {
    "colab": {
     "base_uri": "https://localhost:8080/",
     "height": 319
    },
    "colab_type": "code",
    "id": "laC11YNuA5Pc",
    "outputId": "9204cb71-4283-4cee-f3a0-715ec446e01d"
   },
   "outputs": [
    {
     "name": "stdout",
     "output_type": "stream",
     "text": [
      "Model: \"sequential_3\"\n",
      "_________________________________________________________________\n",
      "Layer (type)                 Output Shape              Param #   \n",
      "=================================================================\n",
      "vgg16 (Model)                (None, 9, 9, 512)         14714688  \n",
      "_________________________________________________________________\n",
      "flatten_3 (Flatten)          (None, 41472)             0         \n",
      "_________________________________________________________________\n",
      "dense_5 (Dense)              (None, 1024)              42468352  \n",
      "_________________________________________________________________\n",
      "dropout_2 (Dropout)          (None, 1024)              0         \n",
      "_________________________________________________________________\n",
      "dense_6 (Dense)              (None, 1)                 1025      \n",
      "=================================================================\n",
      "Total params: 57,184,065\n",
      "Trainable params: 49,548,801\n",
      "Non-trainable params: 7,635,264\n",
      "_________________________________________________________________\n"
     ]
    }
   ],
   "source": [
    "from keras import models\n",
    "from keras import layers\n",
    "from keras import optimizers\n",
    "# Create the model\n",
    "\n",
    "model = models.Sequential()\n",
    "# Add the vgg convolutional base model\n",
    "\n",
    "model.add(vgg_conv)\n",
    "# Add new layers\n",
    "model.add(layers.Flatten())\n",
    "model.add(layers.Dense(1024, activation='relu',kernel_regularizer=l2))\n",
    "model.add(Dropout(rate=0.3))\n",
    "model.add(layers.Dense(1, activation='sigmoid'))\n",
    "\n",
    "# Show a summary of the model. Check the number of trainable parameters\n",
    "model.summary()\n"
   ]
  },
  {
   "cell_type": "code",
   "execution_count": null,
   "metadata": {
    "colab": {
     "base_uri": "https://localhost:8080/",
     "height": 84
    },
    "colab_type": "code",
    "id": "XC73ZEeCA5Pj",
    "outputId": "b5ea4697-8c63-403a-c5b0-d0a6a1a9f26a"
   },
   "outputs": [
    {
     "name": "stdout",
     "output_type": "stream",
     "text": [
      "Epoch 1/2\n",
      "5/5 [==============================] - 24s 5s/step - loss: 190.0418 - acc: 0.4831 - val_loss: 0.7189 - val_acc: 0.4896\n",
      "Epoch 2/2\n",
      "5/5 [==============================] - 23s 5s/step - loss: 0.6964 - acc: 0.5188 - val_loss: 0.6901 - val_acc: 0.6029\n"
     ]
    }
   ],
   "source": [
    "model.compile(loss='binary_crossentropy',\n",
    "              optimizer=RMSprop(lr=0.001),\n",
    "              metrics=['acc'])\n",
    "history = model.fit(\n",
    "      train_generator,\n",
    "      steps_per_epoch=train_generator.samples//train_batch,\n",
    "      validation_data  = val_generator, \n",
    "      validation_steps=val_generator.samples//val_batch,\n",
    "      epochs=2,\n",
    "      verbose=1)"
   ]
  },
  {
   "cell_type": "markdown",
   "metadata": {
    "colab_type": "text",
    "id": "3ohxnGjxizwb"
   },
   "source": [
    "### Thank you for completing this lab!\n"
   ]
  }
 ],
 "metadata": {
  "accelerator": "GPU",
  "colab": {
   "collapsed_sections": [],
   "name": "CNNs.ipynb",
   "provenance": [],
   "toc_visible": true
  },
  "kernelspec": {
   "display_name": "Python 3",
   "language": "python",
   "name": "python3"
  },
  "language_info": {
   "codemirror_mode": {
    "name": "ipython",
    "version": 3
   },
   "file_extension": ".py",
   "mimetype": "text/x-python",
   "name": "python",
   "nbconvert_exporter": "python",
   "pygments_lexer": "ipython3",
   "version": "3.8.3"
  }
 },
 "nbformat": 4,
 "nbformat_minor": 4
}
